{
 "cells": [
  {
   "cell_type": "code",
   "execution_count": 1,
   "id": "563fefef-8517-4786-9cbf-784bff9a0130",
   "metadata": {},
   "outputs": [
    {
     "data": {
      "image/png": "[encoded data removed]",
      "text/plain": [
       "<Figure size 432x288 with 1 Axes>"
      ]
     },
     "metadata": {
      "needs_background": "light"
     },
     "output_type": "display_data"
    }
   ],
   "source": [
    "import numpy as np\n",
    "from matplotlib import pyplot as plt\n",
    "\n",
    "\n",
    "def make_unbiased_strategies(rng, strategies, memory):\n",
    "    # weights should sum to 1\n",
    "    # essentially, we are partitioning the [0,1] interval\n",
    "    # and taking the size of each sub-interval\n",
    "    # TODO: add negative weights?\n",
    "    w = rng.uniform(-1, 1, size=(strategies, memory-1))\n",
    "    w.sort(axis=1)\n",
    "    offsets = np.hstack([w[:, :], np.ones(shape=(strategies,1))])\n",
    "    return offsets - np.hstack([np.zeros(shape=(strategies,1)), w[:, :]])\n",
    "\n",
    "\n",
    "def make_uniform_strategies(rng, strategies, memory):\n",
    "    return rng.uniform(-1,1, size=(strategies, memory))\n",
    "\n",
    "\n",
    "def minimize_squared_error(rng,predictions,observations,threshold,strategies):\n",
    "        # calculate the absolute error of predictions\n",
    "        # here, we discard the rightmost prediction as\n",
    "        # this is the prediction for the future.\n",
    "        # if we knew the correct answer for that,\n",
    "        # we wouldn't need to predict it!\n",
    "        errs = ((predictions[:, :-1] - observations)**2).sum(axis=1)\n",
    "\n",
    "        return np.argmin(errs)\n",
    "\n",
    "    \n",
    "def make_centered_strategies(rng, strategies, memory):\n",
    "    return rng.uniform(-1,1, size=(strategies, memory)) + 1/memory\n",
    "\n",
    "\n",
    "def pick_optimal_choices(rng,predictions,observations,threshold,strategies):\n",
    "    # how often does each predictor match the desired ooutcome?\n",
    "    performances = np.tile(observations < threshold, (strategies, 1)) == (predictions[:, :-1] < threshold)\n",
    "    \n",
    "    # add noise to randomize tie breaker\n",
    "    scores = rng.uniform(0,0.1, size=strategies) + performances.sum(axis=1)\n",
    "    return np.argmax(scores)\n",
    "\n",
    "\n",
    "    \n",
    "class EFBPSim:\n",
    "    def __init__(\n",
    "        self,\n",
    "        agents = 100, # number of agents\n",
    "        threshold = 60, # threshold for attendance\n",
    "        strategies = 10, # number of strategies\n",
    "        # number of weeks back in predictor function\n",
    "        # AND number of weeks back to look when selecting a predictor\n",
    "        memory = 8,\n",
    "        # number of rounds to run the simulation\n",
    "        n_iter = 500,\n",
    "        # current options are \"unbiased\", \"uniform\"\n",
    "        distribution=\"unbiased\",\n",
    "        # alternately, caller may pass a new strategy function\n",
    "        strategy_func=None,\n",
    "        # function for selecting the best strategy\n",
    "        best_strat_func=minimize_squared_error,\n",
    "        # starting history\n",
    "        start=None,\n",
    "        # random seed for numpy\n",
    "        seed=23\n",
    "    ):\n",
    "        \n",
    "        rng = np.random.default_rng(seed)\n",
    "\n",
    "        # each row is a strategy\n",
    "        if not strategy_func:\n",
    "            if distribution==\"unbiased\":\n",
    "                strategy_func =  make_unbiased_strategies\n",
    "            elif distribution==\"uniform\":\n",
    "                strategy_func = make_uniform_strategies\n",
    "\n",
    "        strats = [\n",
    "            strategy_func(rng, strategies, memory) for _ in range(agents)\n",
    "        ]\n",
    "\n",
    "        if start is None:\n",
    "            start = rng.uniform(agents, size=(memory*2))\n",
    "\n",
    "        # weekly attendance count\n",
    "        # the first 2*memory weeks are randomly generated\n",
    "        # to seed the strategies\n",
    "        hist = np.hstack([start, np.zeros(n_iter)]).astype(int)\n",
    "\n",
    "        # index of week\n",
    "        # we need some starting history to begin making selections\n",
    "        t = memory * 2\n",
    "\n",
    "        # Record the index of the optimal strategy \n",
    "        # on each iteration.\n",
    "        # each row corresponds to an agent\n",
    "        # each column corresponds to a week\n",
    "        best_strats = np.zeros((agents, len(hist)))\n",
    "\n",
    "        # record each agent's prediction on each iteration\n",
    "        pred_history = np.zeros((agents, len(hist)))\n",
    "\n",
    "        while t < memory * 2 + n_iter:\n",
    "\n",
    "            # construct time windows for evaluating strategies\n",
    "\n",
    "            # The columns begin at\n",
    "            # t - m - 1 \n",
    "            # t - m\n",
    "            # ...\n",
    "            # t - 1\n",
    "            # as you go down the column you are looking back\n",
    "            # to that week's history.\n",
    "            # so the column beginning at *t - m - 1*\n",
    "            # generates the prediction for week *t - m*\n",
    "            # and the rightmost column generates a\n",
    "            # prediction for next week.\n",
    "            windows = np.vstack([\n",
    "                hist[t-memory-i-1: t-i]\n",
    "                for i in range(memory)\n",
    "            ])\n",
    "\n",
    "            for agent in range(agents):\n",
    "                strat = strats[agent]\n",
    "                # each row is a strategy\n",
    "                # each column is predicted attendance\n",
    "                # in increasing order.\n",
    "                # the last column has the prediction for\n",
    "                # next week\n",
    "                predictions = strat.dot(windows)\n",
    "\n",
    "                # these are the observations that we use to\n",
    "                # to test our predictions.\n",
    "                # note that the observation from column 0\n",
    "                # is not used since its prediction would come\n",
    "                # from a previous week's history.\n",
    "                observations = windows[0, 1:]\n",
    "                \n",
    "                best_strat = best_strat_func(rng, predictions, observations, threshold, strategies)\n",
    "                best_strats[agent, t] = best_strat\n",
    "\n",
    "                pred = strat[best_strat].dot(windows[:,-1])\n",
    "                pred_history[agent, t] = pred\n",
    "\n",
    "            hist[t] = (pred_history[:, t] < threshold).sum()\n",
    "            t += 1\n",
    "            \n",
    "        self.hist = hist[2*memory:]\n",
    "        self.best_strats = best_strats[:, 2*memory:]\n",
    "        self.pred_history = pred_history[:, 2*memory:]\n",
    "        self.strats = strats\n",
    "        \n",
    "    def first_a(self):\n",
    "        return [self.strats[i][int(s), 0] for i, s in enumerate(self.best_strats)]\n",
    "    \n",
    "    def jth_a(self, j):\n",
    "        return [self.strats[i][int(s), j] for i, s in enumerate(self.best_strats)]\n",
    "        \n",
    "        \n",
    "        \n",
    "\n",
    "rng = np.random.default_rng(36)\n",
    "h =  np.array([33, 95, 74, 85])\n",
    "s = 2\n",
    "agents = 100\n",
    "\n",
    "sim = EFBPSim(\n",
    "    memory=2, \n",
    "    strategies=s,\n",
    "    start=h, \n",
    "    n_iter=30,\n",
    "    agents=agents,\n",
    "    distribution=\"uniform\",\n",
    "    seed=rng.choice(10000)\n",
    ")\n",
    "\n",
    "plt.figure()\n",
    "plt.plot(sim.hist)\n",
    "_ = plt.title(f\"{sim.hist[-6:]}    s={s}    agents={agents}\")"
   ]
  },
  {
   "cell_type": "code",
   "execution_count": 3,
   "id": "8b7b38cb-0d1e-46ef-b89c-a5db5033c81e",
   "metadata": {},
   "outputs": [],
   "source": [
    "threshold = 60\n",
    "\n",
    "strategies, memory = np.meshgrid(np.arange(2, 103, 5), np.arange(2, 103, 5))\n",
    "\n",
    "mins = np.zeros(strategies.shape)\n",
    "maxs = np.zeros(strategies.shape)\n",
    "stds = np.zeros(strategies.shape)\n",
    "\n",
    "n = strategies.shape[0]\n",
    "\n",
    "for i in range(n):\n",
    "    for j in range(n):\n",
    "        \n",
    "        h = rng.choice(agents+1, size=memory[i,j]*2)\n",
    "        n_iter = max(100, memory[i,j] * 3)\n",
    "\n",
    "        sim = EFBPSim(\n",
    "            memory=memory[i,j], \n",
    "            strategies=strategies[i,j],\n",
    "            threshold=threshold,\n",
    "            start=h, \n",
    "            n_iter=n_iter,\n",
    "            agents=agents,\n",
    "            strategy_func=make_centered_strategies,\n",
    "            best_strat_func=pick_optimal_choices,\n",
    "            seed=rng.choice(100000)\n",
    "        )\n",
    "\n",
    "        end_window = max(memory[i,j] * 2, 50)\n",
    "\n",
    "        # does it cross the threshold within the memory window?\n",
    "        under_t = (sim.hist[-end_window:] < threshold).sum()\n",
    "        if under_t == 0 or under_t == end_window:\n",
    "            print(f\"Does not cross threshold at ({i}, {j})\")\n",
    "\n",
    "        mins[i,j] = (sim.hist[-end_window:]).min()\n",
    "        maxs[i,j] = (sim.hist[-end_window:]).max()\n",
    "        stds[i,j] = (sim.hist[-end_window:]).std()"
   ]
  },
  {
   "cell_type": "code",
   "execution_count": 4,
   "id": "47f7e6d4-ad29-4ea2-aded-e07aec67cfbd",
   "metadata": {},
   "outputs": [
    {
     "name": "stderr",
     "output_type": "stream",
     "text": [
      "<ipython-input-4-8ec5372cca92>:3: MatplotlibDeprecationWarning: shading='flat' when X and Y have the same dimensions as C is deprecated since 3.3.  Either specify the corners of the quadrilaterals with X and Y, or pass shading='auto', 'nearest' or 'gouraud', or set rcParams['pcolor.shading'].  This will become an error two minor releases later.\n",
      "  c = ax.pcolormesh(strategies, memory, stds, cmap='RdBu')\n"
     ]
    },
    {
     "data": {
      "image/png": "[encoded data removed]",
      "text/plain": [
       "<Figure size 432x288 with 2 Axes>"
      ]
     },
     "metadata": {
      "needs_background": "light"
     },
     "output_type": "display_data"
    }
   ],
   "source": [
    "fig, ax = plt.subplots()\n",
    "\n",
    "c = ax.pcolormesh(strategies, memory, stds, cmap='RdBu')\n",
    "ax.set_title('pcolormesh')\n",
    "# set the limits of the plot to the limits of the data\n",
    "ax.axis([2, 102, 2, 102])\n",
    "fig.colorbar(c, ax=ax)\n",
    "\n",
    "plt.show()"
   ]
  },
  {
   "cell_type": "code",
   "execution_count": 5,
   "id": "1c53311f-c97a-463d-b042-a99f355e8588",
   "metadata": {},
   "outputs": [],
   "source": [
    "threshold = 30\n",
    "\n",
    "strategies, memory = np.meshgrid(np.arange(2, 103, 5), np.arange(2, 103, 5))\n",
    "\n",
    "mins = np.zeros(strategies.shape)\n",
    "maxs = np.zeros(strategies.shape)\n",
    "stds = np.zeros(strategies.shape)\n",
    "\n",
    "n = strategies.shape[0]\n",
    "\n",
    "for i in range(n):\n",
    "    for j in range(n):\n",
    "        \n",
    "        h = rng.choice(agents+1, size=memory[i,j]*2)\n",
    "        n_iter = max(100, memory[i,j] * 3)\n",
    "\n",
    "        sim = EFBPSim(\n",
    "            memory=memory[i,j], \n",
    "            strategies=strategies[i,j],\n",
    "            threshold=threshold,\n",
    "            start=h, \n",
    "            n_iter=n_iter,\n",
    "            agents=agents,\n",
    "            strategy_func=make_centered_strategies,\n",
    "            best_strat_func=pick_optimal_choices,\n",
    "            seed=rng.choice(100000)\n",
    "        )\n",
    "\n",
    "        end_window = max(memory[i,j] * 2, 50)\n",
    "\n",
    "        # does it cross the threshold within the memory window?\n",
    "        under_t = (sim.hist[-end_window:] < threshold).sum()\n",
    "        if under_t == 0 or under_t == end_window:\n",
    "            print(f\"Does not cross threshold at ({i}, {j})\")\n",
    "\n",
    "        mins[i,j] = (sim.hist[-end_window:]).min()\n",
    "        maxs[i,j] = (sim.hist[-end_window:]).max()\n",
    "        stds[i,j] = (sim.hist[-end_window:]).std()"
   ]
  },
  {
   "cell_type": "code",
   "execution_count": 6,
   "id": "b3ddeb63-07b7-40bc-b611-aea8bc6feabc",
   "metadata": {},
   "outputs": [
    {
     "name": "stderr",
     "output_type": "stream",
     "text": [
      "<ipython-input-6-8ec5372cca92>:3: MatplotlibDeprecationWarning: shading='flat' when X and Y have the same dimensions as C is deprecated since 3.3.  Either specify the corners of the quadrilaterals with X and Y, or pass shading='auto', 'nearest' or 'gouraud', or set rcParams['pcolor.shading'].  This will become an error two minor releases later.\n",
      "  c = ax.pcolormesh(strategies, memory, stds, cmap='RdBu')\n"
     ]
    },
    {
     "data": {
      "image/png": "[encoded data removed]",
      "text/plain": [
       "<Figure size 432x288 with 2 Axes>"
      ]
     },
     "metadata": {
      "needs_background": "light"
     },
     "output_type": "display_data"
    }
   ],
   "source": [
    "fig, ax = plt.subplots()\n",
    "\n",
    "c = ax.pcolormesh(strategies, memory, stds, cmap='RdBu')\n",
    "ax.set_title('pcolormesh')\n",
    "# set the limits of the plot to the limits of the data\n",
    "ax.axis([2, 102, 2, 102])\n",
    "fig.colorbar(c, ax=ax)\n",
    "\n",
    "plt.show()"
   ]
  },
  {
   "cell_type": "code",
   "execution_count": 7,
   "id": "26ab7f56-f719-4c7e-9e9e-befe573da291",
   "metadata": {},
   "outputs": [
    {
     "name": "stdout",
     "output_type": "stream",
     "text": [
      "Does not cross threshold at (0, 0)\n",
      "Does not cross threshold at (1, 0)\n",
      "Does not cross threshold at (2, 0)\n",
      "Does not cross threshold at (3, 0)\n",
      "Does not cross threshold at (4, 0)\n",
      "Does not cross threshold at (5, 0)\n",
      "Does not cross threshold at (6, 0)\n",
      "Does not cross threshold at (7, 0)\n",
      "Does not cross threshold at (8, 0)\n",
      "Does not cross threshold at (9, 0)\n",
      "Does not cross threshold at (10, 0)\n",
      "Does not cross threshold at (11, 0)\n",
      "Does not cross threshold at (12, 0)\n",
      "Does not cross threshold at (13, 0)\n",
      "Does not cross threshold at (14, 0)\n",
      "Does not cross threshold at (15, 0)\n",
      "Does not cross threshold at (16, 0)\n",
      "Does not cross threshold at (17, 0)\n",
      "Does not cross threshold at (18, 0)\n",
      "Does not cross threshold at (19, 0)\n",
      "Does not cross threshold at (20, 0)\n"
     ]
    }
   ],
   "source": [
    "threshold = 90\n",
    "\n",
    "strategies, memory = np.meshgrid(np.arange(2, 103, 5), np.arange(2, 103, 5))\n",
    "\n",
    "mins = np.zeros(strategies.shape)\n",
    "maxs = np.zeros(strategies.shape)\n",
    "stds = np.zeros(strategies.shape)\n",
    "\n",
    "n = strategies.shape[0]\n",
    "\n",
    "for i in range(n):\n",
    "    for j in range(n):\n",
    "        \n",
    "        h = rng.choice(agents+1, size=memory[i,j]*2)\n",
    "        n_iter = max(100, memory[i,j] * 3)\n",
    "\n",
    "        sim = EFBPSim(\n",
    "            memory=memory[i,j], \n",
    "            strategies=strategies[i,j],\n",
    "            threshold=threshold,\n",
    "            start=h, \n",
    "            n_iter=n_iter,\n",
    "            agents=agents,\n",
    "            strategy_func=make_centered_strategies,\n",
    "            best_strat_func=pick_optimal_choices,\n",
    "            seed=rng.choice(100000)\n",
    "        )\n",
    "\n",
    "        end_window = max(memory[i,j] * 2, 50)\n",
    "\n",
    "        # does it cross the threshold within the memory window?\n",
    "        under_t = (sim.hist[-end_window:] < threshold).sum()\n",
    "        if under_t == 0 or under_t == end_window:\n",
    "            print(f\"Does not cross threshold at ({i}, {j})\")\n",
    "\n",
    "        mins[i,j] = (sim.hist[-end_window:]).min()\n",
    "        maxs[i,j] = (sim.hist[-end_window:]).max()\n",
    "        stds[i,j] = (sim.hist[-end_window:]).std()"
   ]
  },
  {
   "cell_type": "code",
   "execution_count": 8,
   "id": "27b8bbc2-d4c7-4e34-b8e6-dab425d65744",
   "metadata": {},
   "outputs": [
    {
     "name": "stderr",
     "output_type": "stream",
     "text": [
      "<ipython-input-8-8ec5372cca92>:3: MatplotlibDeprecationWarning: shading='flat' when X and Y have the same dimensions as C is deprecated since 3.3.  Either specify the corners of the quadrilaterals with X and Y, or pass shading='auto', 'nearest' or 'gouraud', or set rcParams['pcolor.shading'].  This will become an error two minor releases later.\n",
      "  c = ax.pcolormesh(strategies, memory, stds, cmap='RdBu')\n"
     ]
    },
    {
     "data": {
      "image/png": "[encoded data removed]",
      "text/plain": [
       "<Figure size 432x288 with 2 Axes>"
      ]
     },
     "metadata": {
      "needs_background": "light"
     },
     "output_type": "display_data"
    }
   ],
   "source": [
    "fig, ax = plt.subplots()\n",
    "\n",
    "c = ax.pcolormesh(strategies, memory, stds, cmap='RdBu')\n",
    "ax.set_title('pcolormesh')\n",
    "# set the limits of the plot to the limits of the data\n",
    "ax.axis([2, 102, 2, 102])\n",
    "fig.colorbar(c, ax=ax)\n",
    "\n",
    "plt.show()"
   ]
  },
  {
   "cell_type": "code",
   "execution_count": 9,
   "id": "104d0a8d-bd99-45f4-89e3-650daa48e510",
   "metadata": {},
   "outputs": [
    {
     "data": {
      "text/plain": [
       "7"
      ]
     },
     "execution_count": 9,
     "metadata": {},
     "output_type": "execute_result"
    }
   ],
   "source": [
    "strategies[0,1]"
   ]
  },
  {
   "cell_type": "code",
   "execution_count": 10,
   "id": "865b480d-ceac-4ae6-9fde-e8fbb3ede7c6",
   "metadata": {},
   "outputs": [
    {
     "data": {
      "text/plain": [
       "2"
      ]
     },
     "execution_count": 10,
     "metadata": {},
     "output_type": "execute_result"
    }
   ],
   "source": [
    "memory[0,1]"
   ]
  },
  {
   "cell_type": "code",
   "execution_count": 16,
   "id": "f0d9c301-bbe0-4b50-b9f0-3035eaf6e18f",
   "metadata": {},
   "outputs": [
    {
     "name": "stderr",
     "output_type": "stream",
     "text": [
      "<ipython-input-16-f6078ba16b8a>:42: MatplotlibDeprecationWarning: shading='flat' when X and Y have the same dimensions as C is deprecated since 3.3.  Either specify the corners of the quadrilaterals with X and Y, or pass shading='auto', 'nearest' or 'gouraud', or set rcParams['pcolor.shading'].  This will become an error two minor releases later.\n",
      "  c = ax.pcolormesh(strategies, memory, stds, cmap='RdBu')\n"
     ]
    },
    {
     "data": {
      "image/png": "[encoded data removed]",
      "text/plain": [
       "<Figure size 432x288 with 2 Axes>"
      ]
     },
     "metadata": {
      "needs_background": "light"
     },
     "output_type": "display_data"
    }
   ],
   "source": [
    "threshold = 60\n",
    "\n",
    "strategies, memory = np.meshgrid(np.arange(2, 10), np.arange(2, 10))\n",
    "\n",
    "mins = np.zeros(strategies.shape)\n",
    "maxs = np.zeros(strategies.shape)\n",
    "stds = np.zeros(strategies.shape)\n",
    "\n",
    "n = strategies.shape[0]\n",
    "\n",
    "for i in range(n):\n",
    "    for j in range(n):\n",
    "        \n",
    "        h = rng.choice(agents+1, size=memory[i,j]*2)\n",
    "        n_iter = max(100, memory[i,j] * 3)\n",
    "\n",
    "        sim = EFBPSim(\n",
    "            memory=memory[i,j], \n",
    "            strategies=strategies[i,j],\n",
    "            threshold=threshold,\n",
    "            start=h, \n",
    "            n_iter=n_iter,\n",
    "            agents=agents,\n",
    "            strategy_func=make_centered_strategies,\n",
    "            best_strat_func=pick_optimal_choices,\n",
    "            seed=rng.choice(100000)\n",
    "        )\n",
    "\n",
    "        end_window = max(memory[i,j] * 2, 50)\n",
    "\n",
    "        # does it cross the threshold within the memory window?\n",
    "        under_t = (sim.hist[-end_window:] < threshold).sum()\n",
    "        if under_t == 0 or under_t == end_window:\n",
    "            print(f\"Does not cross threshold at ({i}, {j})\")\n",
    "\n",
    "        mins[i,j] = (sim.hist[-end_window:]).min()\n",
    "        maxs[i,j] = (sim.hist[-end_window:]).max()\n",
    "        stds[i,j] = (sim.hist[-end_window:]).std()\n",
    "        \n",
    "fig, ax = plt.subplots()\n",
    "\n",
    "c = ax.pcolormesh(strategies, memory, stds, cmap='RdBu')\n",
    "ax.set_title('pcolormesh')\n",
    "# set the limits of the plot to the limits of the data\n",
    "#ax.axis([2, 102, 2, 102])\n",
    "fig.colorbar(c, ax=ax)\n",
    "\n",
    "plt.show()"
   ]
  },
  {
   "cell_type": "code",
   "execution_count": 17,
   "id": "edb18805-a157-461b-a990-90be54a42b56",
   "metadata": {},
   "outputs": [
    {
     "name": "stderr",
     "output_type": "stream",
     "text": [
      "<ipython-input-17-e45a52ccab5a>:42: MatplotlibDeprecationWarning: shading='flat' when X and Y have the same dimensions as C is deprecated since 3.3.  Either specify the corners of the quadrilaterals with X and Y, or pass shading='auto', 'nearest' or 'gouraud', or set rcParams['pcolor.shading'].  This will become an error two minor releases later.\n",
      "  c = ax.pcolormesh(strategies, memory, stds, cmap='RdBu')\n"
     ]
    },
    {
     "data": {
      "image/png": "[encoded data removed]",
      "text/plain": [
       "<Figure size 432x288 with 2 Axes>"
      ]
     },
     "metadata": {
      "needs_background": "light"
     },
     "output_type": "display_data"
    }
   ],
   "source": [
    "threshold = 30\n",
    "\n",
    "strategies, memory = np.meshgrid(np.arange(2, 10), np.arange(2, 10))\n",
    "\n",
    "mins = np.zeros(strategies.shape)\n",
    "maxs = np.zeros(strategies.shape)\n",
    "stds = np.zeros(strategies.shape)\n",
    "\n",
    "n = strategies.shape[0]\n",
    "\n",
    "for i in range(n):\n",
    "    for j in range(n):\n",
    "        \n",
    "        h = rng.choice(agents+1, size=memory[i,j]*2)\n",
    "        n_iter = max(100, memory[i,j] * 3)\n",
    "\n",
    "        sim = EFBPSim(\n",
    "            memory=memory[i,j], \n",
    "            strategies=strategies[i,j],\n",
    "            threshold=threshold,\n",
    "            start=h, \n",
    "            n_iter=n_iter,\n",
    "            agents=agents,\n",
    "            strategy_func=make_centered_strategies,\n",
    "            best_strat_func=pick_optimal_choices,\n",
    "            seed=rng.choice(100000)\n",
    "        )\n",
    "\n",
    "        end_window = max(memory[i,j] * 2, 50)\n",
    "\n",
    "        # does it cross the threshold within the memory window?\n",
    "        under_t = (sim.hist[-end_window:] < threshold).sum()\n",
    "        if under_t == 0 or under_t == end_window:\n",
    "            print(f\"Does not cross threshold at ({i}, {j})\")\n",
    "\n",
    "        mins[i,j] = (sim.hist[-end_window:]).min()\n",
    "        maxs[i,j] = (sim.hist[-end_window:]).max()\n",
    "        stds[i,j] = (sim.hist[-end_window:]).std()\n",
    "        \n",
    "fig, ax = plt.subplots()\n",
    "\n",
    "c = ax.pcolormesh(strategies, memory, stds, cmap='RdBu')\n",
    "ax.set_title('pcolormesh')\n",
    "fig.colorbar(c, ax=ax)\n",
    "\n",
    "plt.show()"
   ]
  },
  {
   "cell_type": "code",
   "execution_count": 18,
   "id": "97a1ed13-0699-4738-8a2c-8ca345343bab",
   "metadata": {},
   "outputs": [
    {
     "name": "stdout",
     "output_type": "stream",
     "text": [
      "Does not cross threshold at (0, 0)\n",
      "Does not cross threshold at (0, 1)\n",
      "Does not cross threshold at (1, 0)\n",
      "Does not cross threshold at (1, 1)\n",
      "Does not cross threshold at (2, 0)\n",
      "Does not cross threshold at (2, 1)\n",
      "Does not cross threshold at (3, 0)\n",
      "Does not cross threshold at (3, 1)\n",
      "Does not cross threshold at (4, 0)\n",
      "Does not cross threshold at (5, 0)\n",
      "Does not cross threshold at (5, 1)\n",
      "Does not cross threshold at (6, 0)\n",
      "Does not cross threshold at (6, 1)\n",
      "Does not cross threshold at (7, 0)\n"
     ]
    },
    {
     "name": "stderr",
     "output_type": "stream",
     "text": [
      "<ipython-input-18-21e95263f3c0>:42: MatplotlibDeprecationWarning: shading='flat' when X and Y have the same dimensions as C is deprecated since 3.3.  Either specify the corners of the quadrilaterals with X and Y, or pass shading='auto', 'nearest' or 'gouraud', or set rcParams['pcolor.shading'].  This will become an error two minor releases later.\n",
      "  c = ax.pcolormesh(strategies, memory, stds, cmap='RdBu')\n"
     ]
    },
    {
     "data": {
      "image/png": "[encoded data removed]",
      "text/plain": [
       "<Figure size 432x288 with 2 Axes>"
      ]
     },
     "metadata": {
      "needs_background": "light"
     },
     "output_type": "display_data"
    }
   ],
   "source": [
    "threshold = 90\n",
    "\n",
    "strategies, memory = np.meshgrid(np.arange(2, 10), np.arange(2, 10))\n",
    "\n",
    "mins = np.zeros(strategies.shape)\n",
    "maxs = np.zeros(strategies.shape)\n",
    "stds = np.zeros(strategies.shape)\n",
    "\n",
    "n = strategies.shape[0]\n",
    "\n",
    "for i in range(n):\n",
    "    for j in range(n):\n",
    "        \n",
    "        h = rng.choice(agents+1, size=memory[i,j]*2)\n",
    "        n_iter = max(100, memory[i,j] * 3)\n",
    "\n",
    "        sim = EFBPSim(\n",
    "            memory=memory[i,j], \n",
    "            strategies=strategies[i,j],\n",
    "            threshold=threshold,\n",
    "            start=h, \n",
    "            n_iter=n_iter,\n",
    "            agents=agents,\n",
    "            strategy_func=make_centered_strategies,\n",
    "            best_strat_func=pick_optimal_choices,\n",
    "            seed=rng.choice(100000)\n",
    "        )\n",
    "\n",
    "        end_window = max(memory[i,j] * 2, 50)\n",
    "\n",
    "        # does it cross the threshold within the memory window?\n",
    "        under_t = (sim.hist[-end_window:] < threshold).sum()\n",
    "        if under_t == 0 or under_t == end_window:\n",
    "            print(f\"Does not cross threshold at ({i}, {j})\")\n",
    "\n",
    "        mins[i,j] = (sim.hist[-end_window:]).min()\n",
    "        maxs[i,j] = (sim.hist[-end_window:]).max()\n",
    "        stds[i,j] = (sim.hist[-end_window:]).std()\n",
    "        \n",
    "fig, ax = plt.subplots()\n",
    "\n",
    "c = ax.pcolormesh(strategies, memory, stds, cmap='RdBu')\n",
    "ax.set_title('pcolormesh')\n",
    "fig.colorbar(c, ax=ax)\n",
    "\n",
    "plt.show()"
   ]
  },
  {
   "cell_type": "code",
   "execution_count": 19,
   "id": "7b3dc066-22e4-4b77-b7dd-2eb2dbbdfcfa",
   "metadata": {},
   "outputs": [
    {
     "name": "stdout",
     "output_type": "stream",
     "text": [
      "Does not cross threshold at (1, 0)\n",
      "Does not cross threshold at (3, 0)\n",
      "Does not cross threshold at (4, 0)\n",
      "Does not cross threshold at (4, 1)\n",
      "Does not cross threshold at (6, 0)\n",
      "Does not cross threshold at (6, 1)\n",
      "Does not cross threshold at (7, 0)\n"
     ]
    },
    {
     "name": "stderr",
     "output_type": "stream",
     "text": [
      "<ipython-input-19-0b70bd6b658a>:42: MatplotlibDeprecationWarning: shading='flat' when X and Y have the same dimensions as C is deprecated since 3.3.  Either specify the corners of the quadrilaterals with X and Y, or pass shading='auto', 'nearest' or 'gouraud', or set rcParams['pcolor.shading'].  This will become an error two minor releases later.\n",
      "  c = ax.pcolormesh(strategies, memory, stds, cmap='RdBu')\n"
     ]
    },
    {
     "data": {
      "image/png": "[encoded data removed]",
      "text/plain": [
       "<Figure size 432x288 with 2 Axes>"
      ]
     },
     "metadata": {
      "needs_background": "light"
     },
     "output_type": "display_data"
    }
   ],
   "source": [
    "threshold = 10\n",
    "\n",
    "strategies, memory = np.meshgrid(np.arange(2, 10), np.arange(2, 10))\n",
    "\n",
    "mins = np.zeros(strategies.shape)\n",
    "maxs = np.zeros(strategies.shape)\n",
    "stds = np.zeros(strategies.shape)\n",
    "\n",
    "n = strategies.shape[0]\n",
    "\n",
    "for i in range(n):\n",
    "    for j in range(n):\n",
    "        \n",
    "        h = rng.choice(agents+1, size=memory[i,j]*2)\n",
    "        n_iter = max(100, memory[i,j] * 3)\n",
    "\n",
    "        sim = EFBPSim(\n",
    "            memory=memory[i,j], \n",
    "            strategies=strategies[i,j],\n",
    "            threshold=threshold,\n",
    "            start=h, \n",
    "            n_iter=n_iter,\n",
    "            agents=agents,\n",
    "            strategy_func=make_centered_strategies,\n",
    "            best_strat_func=pick_optimal_choices,\n",
    "            seed=rng.choice(100000)\n",
    "        )\n",
    "\n",
    "        end_window = max(memory[i,j] * 2, 50)\n",
    "\n",
    "        # does it cross the threshold within the memory window?\n",
    "        under_t = (sim.hist[-end_window:] < threshold).sum()\n",
    "        if under_t == 0 or under_t == end_window:\n",
    "            print(f\"Does not cross threshold at ({i}, {j})\")\n",
    "\n",
    "        mins[i,j] = (sim.hist[-end_window:]).min()\n",
    "        maxs[i,j] = (sim.hist[-end_window:]).max()\n",
    "        stds[i,j] = (sim.hist[-end_window:]).std()\n",
    "        \n",
    "fig, ax = plt.subplots()\n",
    "\n",
    "c = ax.pcolormesh(strategies, memory, stds, cmap='RdBu')\n",
    "ax.set_title('pcolormesh')\n",
    "fig.colorbar(c, ax=ax)\n",
    "\n",
    "plt.show()"
   ]
  },
  {
   "cell_type": "code",
   "execution_count": 15,
   "id": "6e9cc0dd-b0db-4b9c-8d3e-47edc1045611",
   "metadata": {},
   "outputs": [
    {
     "name": "stderr",
     "output_type": "stream",
     "text": [
      "<ipython-input-15-104b2c38adc1>:3: MatplotlibDeprecationWarning: shading='flat' when X and Y have the same dimensions as C is deprecated since 3.3.  Either specify the corners of the quadrilaterals with X and Y, or pass shading='auto', 'nearest' or 'gouraud', or set rcParams['pcolor.shading'].  This will become an error two minor releases later.\n",
      "  c = ax.pcolormesh(strategies, memory, stds, cmap='RdBu')\n"
     ]
    },
    {
     "data": {
      "image/png": "[encoded data removed]",
      "text/plain": [
       "<Figure size 432x288 with 2 Axes>"
      ]
     },
     "metadata": {
      "needs_background": "light"
     },
     "output_type": "display_data"
    }
   ],
   "source": [
    "        \n",
    "fig, ax = plt.subplots()\n",
    "\n",
    "c = ax.pcolormesh(strategies, memory, stds, cmap='RdBu')\n",
    "ax.set_title('pcolormesh')\n",
    "# set the limits of the plot to the limits of the data\n",
    "#ax.axis([2, 102, 2, 102])\n",
    "fig.colorbar(c, ax=ax)\n",
    "\n",
    "plt.show()"
   ]
  },
  {
   "cell_type": "code",
   "execution_count": 43,
   "id": "21fb510d-86fd-46bd-b0c7-125e2f3c1f48",
   "metadata": {},
   "outputs": [
    {
     "data": {
      "image/png": "[encoded data removed]",
      "text/plain": [
       "<Figure size 432x288 with 1 Axes>"
      ]
     },
     "metadata": {
      "needs_background": "light"
     },
     "output_type": "display_data"
    }
   ],
   "source": [
    "s = 40\n",
    "m = 102\n",
    "threshold = 60\n",
    "\n",
    "h = rng.choice(agents+1, size=m*2)\n",
    "n_iter = max(100, m * 3) - 1\n",
    "\n",
    "sim = EFBPSim(\n",
    "    memory=m, \n",
    "    strategies=s,\n",
    "    threshold=threshold,\n",
    "    start=h, \n",
    "    n_iter=n_iter,\n",
    "    agents=agents,\n",
    "    strategy_func=make_centered_strategies,\n",
    "    best_strat_func=pick_optimal_choices,\n",
    "    seed=rng.choice(100000)\n",
    ")\n",
    "\n",
    "end_window = max(m * 2, 50)\n",
    "\n",
    "# does it cross the threshold within the memory window?\n",
    "under_t = (sim.hist[-end_window:] < threshold).sum()\n",
    "if under_t == 0 or under_t == end_window:\n",
    "    print(f\"Does not cross threshold at ({i}, {j})\")\n",
    "    \n",
    "\n",
    "plt.figure()\n",
    "plt.plot(sim.hist)\n",
    "_ = plt.title(f\"{sim.hist[-6:]}    s={s}    agents={agents}\")"
   ]
  },
  {
   "cell_type": "code",
   "execution_count": 44,
   "id": "d2fbdae8-ce21-4ca8-8d9c-ae5532fb754f",
   "metadata": {},
   "outputs": [
    {
     "data": {
      "text/plain": [
       "array([98, 92, 95, 98, 89, 88, 93, 87, 87, 84, 81, 76, 81, 68, 65, 66, 64,\n",
       "       60, 58, 56, 69, 65, 48, 54, 60, 52, 66, 59, 47, 48, 54, 51, 60, 66,\n",
       "       54, 47, 69, 57, 57, 66, 53, 51, 60, 59, 62, 50, 63, 63, 50, 67, 56,\n",
       "       50, 57, 67, 51, 63, 61, 57, 51, 54, 61, 44, 55, 55, 60, 52, 44, 54,\n",
       "       68, 50, 71, 65, 46, 54, 65, 52, 55, 66, 55, 56, 64, 58, 66, 58, 69,\n",
       "       59, 65, 58, 65, 60, 38, 51, 55, 62, 56, 66, 60, 49, 55, 56, 74, 69,\n",
       "       51, 65, 56, 76, 65, 66, 59, 71, 75, 68, 58, 70, 74, 74, 71, 52, 78,\n",
       "       66, 59, 78, 49, 66, 64, 48, 56, 71, 68, 54, 56, 57, 62, 41, 56, 58,\n",
       "       81, 61, 49, 65, 50, 48, 70, 52, 47, 69, 51, 72, 59, 73, 65, 48, 69,\n",
       "       49, 54, 62, 58, 54, 69, 74, 43, 58, 63, 56, 59, 64, 55, 67, 38, 64,\n",
       "       45, 57, 54, 71, 69, 62, 39, 57, 61, 45, 51, 53, 64, 63, 49, 60, 48,\n",
       "       65, 51, 66, 44, 65, 70, 54, 59, 48, 62, 51, 67, 67, 41, 48, 58, 61,\n",
       "       63, 55, 62, 52, 62, 55, 70, 56, 68, 73, 66, 68, 61, 57, 71, 68, 59,\n",
       "       73, 68, 68, 59, 71, 61, 59, 64, 46, 57, 74, 62, 58, 57, 59, 57, 68,\n",
       "       47, 64, 65, 49, 68, 51, 56, 66, 53, 47, 60, 53, 64, 50, 66, 70, 58,\n",
       "       71, 45, 54, 67, 54, 54, 67, 61, 52, 62, 53, 59, 52, 72, 46, 69, 60,\n",
       "       43, 60, 50, 36, 58, 69, 67, 55, 55, 70, 52, 63, 37, 61, 58, 60, 53,\n",
       "       60, 64, 37, 53, 61, 60, 58, 54, 58, 57, 61, 67, 57, 61, 54, 54])"
      ]
     },
     "execution_count": 44,
     "metadata": {},
     "output_type": "execute_result"
    }
   ],
   "source": [
    "sim.hist"
   ]
  },
  {
   "cell_type": "code",
   "execution_count": 45,
   "id": "d71f6de9-55c1-4c16-8e50-7cf2ed1d36c7",
   "metadata": {},
   "outputs": [
    {
     "data": {
      "image/png": "[encoded data removed]",
      "text/plain": [
       "<Figure size 432x288 with 1 Axes>"
      ]
     },
     "metadata": {
      "needs_background": "light"
     },
     "output_type": "display_data"
    }
   ],
   "source": [
    "s = 80\n",
    "m = 102\n",
    "threshold = 60\n",
    "\n",
    "h = rng.choice(agents+1, size=m*2)\n",
    "n_iter = max(100, m * 3) - 1\n",
    "\n",
    "sim = EFBPSim(\n",
    "    memory=m, \n",
    "    strategies=s,\n",
    "    threshold=threshold,\n",
    "    start=h, \n",
    "    n_iter=n_iter,\n",
    "    agents=agents,\n",
    "    strategy_func=make_centered_strategies,\n",
    "    best_strat_func=pick_optimal_choices,\n",
    "    seed=rng.choice(100000)\n",
    ")\n",
    "\n",
    "end_window = max(m * 2, 50)\n",
    "\n",
    "# does it cross the threshold within the memory window?\n",
    "under_t = (sim.hist[-end_window:] < threshold).sum()\n",
    "if under_t == 0 or under_t == end_window:\n",
    "    print(f\"Does not cross threshold at ({i}, {j})\")\n",
    "    \n",
    "\n",
    "plt.figure()\n",
    "plt.plot(sim.hist)\n",
    "_ = plt.title(f\"{sim.hist[-6:]}    s={s}    agents={agents}\")"
   ]
  },
  {
   "cell_type": "code",
   "execution_count": null,
   "id": "ccb4d388-63b9-4786-8fbd-86c1f6eb9fdd",
   "metadata": {},
   "outputs": [],
   "source": []
  },
  {
   "cell_type": "code",
   "execution_count": null,
   "id": "e8ea1353-bce7-40da-9922-4597721b476f",
   "metadata": {},
   "outputs": [],
   "source": []
  },
  {
   "cell_type": "code",
   "execution_count": null,
   "id": "3e588af2-5595-4e80-8815-61345e3ee420",
   "metadata": {},
   "outputs": [],
   "source": []
  },
  {
   "cell_type": "code",
   "execution_count": null,
   "id": "28a94362-001c-4432-b70e-962efae504aa",
   "metadata": {},
   "outputs": [],
   "source": []
  }
 ],
 "metadata": {
  "kernelspec": {
   "display_name": "Python 3",
   "language": "python",
   "name": "python3"
  },
  "language_info": {
   "codemirror_mode": {
    "name": "ipython",
    "version": 3
   },
   "file_extension": ".py",
   "mimetype": "text/x-python",
   "name": "python",
   "nbconvert_exporter": "python",
   "pygments_lexer": "ipython3",
   "version": "3.9.5"
  }
 },
 "nbformat": 4,
 "nbformat_minor": 5
}
