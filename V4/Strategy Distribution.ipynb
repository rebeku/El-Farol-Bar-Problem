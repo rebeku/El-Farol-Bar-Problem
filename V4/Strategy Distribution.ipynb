{
 "cells": [
  {
   "cell_type": "markdown",
   "id": "c58bc350-3ca4-4be0-ae1d-5fb68188d84c",
   "metadata": {},
   "source": [
    "Let's frame this problem in a different way that will hopefully be more elegant.  If we can derive the PDF or CDF for the strategies chosen by an agent, then we can just integrate up to the threshold and we don't have to worry about all of these explicit cases.\n",
    "\n",
    "# The Setup\n",
    "We still have memory of length 2 and history $[C_4, C_3, C_2, C_1]$.  \n",
    "\n",
    "\n",
    "## Distribution of a \n",
    "First, we consider the simpler problem of the distribution of $a$ in the unbiased case.  Recall that\n",
    "\n",
    "$$\n",
    "\\begin{aligned}\n",
    "C(a) &= ((C_3 - C_1) + (C_2 - C_3) a)^2 + ((C_4 - C_2) + (C_3 - C_4) )^2 \\\\\n",
    "&= ((C_2 - C_3)^2 +(C_3 - C_4)^2) a^2 + 2 ((C_2 - C_3)(C_4 - C_2) + (C_3 - C_1) (C_3 - C_4)) a + (C_3 - C_1)^2 + (C_4 - C_2)^2\n",
    "\\end{aligned}\n",
    "$$\n",
    "\n",
    "Let A denote the coefficient of the optimal strategy chosen by an agent.  Then, if the agent has $s$ choices of strategy, $a_1$, $a_2$, ..., $a_s$, distributed with an arbitrary PDF $f$,\n",
    "$$\n",
    "\\begin{aligned}\n",
    "F_A(a) &= P(A \\leq a) \\\\\n",
    "&= P(a_1 < a, C(a_1) < C(a_2), ..., C(a_1) < C(a_s)) + ... + P(a_s < a, C(a_s) < C(a_1), ..., C(a_s) < C(a_{s-1})) \\\\\n",
    "&= n P(a_1 < a, C(a_1) < C(a_2), ..., C(a_1) < C(a_s)) \\\\\n",
    "&= n \\int_{-\\infty}^a P(a_1 < a, C(a_1) < C(a_2), ..., C(a_1) < C(a_s) | a_1 = x) f(x) dx \\\\\n",
    "&= n \\int_{-\\infty}^a P(C(a_2) > C(x), ..., C(a_s) > C(x) | a_1 = x) f(x) dx \\\\\n",
    "&= n \\int_{-\\infty}^a \\big(1 - \\int_{C_1(x)}^{C_2(x)} f(y) dy \\big)^{n-1} f(x) dx\n",
    "\\end{aligned}\n",
    "$$\n",
    "\n",
    "where $C_1(x)$ < $C_2(x)$ are the boundaries of the region where $C(a) < C(x)$.  This can be easily solved using the quadratic formula. Representing the cost function above as\n",
    "\n",
    "$$\n",
    "C(a) = \\alpha a^2 + \\beta a + \\gamma\n",
    "$$\n",
    "we have\n",
    "\n",
    "$$\n",
    "C_1(x) = \\frac{-\\beta - \\sqrt{\\beta^2 - 4 \\alpha (\\gamma - C(x))}} {2\\alpha}\n",
    "$$\n",
    "\n",
    "$$\n",
    "C_2(x) = \\frac{-\\beta + \\sqrt{\\beta^2 - 4 \\alpha (\\gamma - C(x))}} {2\\alpha}\n",
    "$$\n",
    "\n",
    "When the strategies are distributed uniformly on $[-1, 1]$, we have\n",
    "\n",
    "$$\n",
    "\\begin{aligned}\n",
    "F(a) &= n \\int_{-1}^a \\big(1 - \\int_{C_1(x)}^{C_2(x)} \\frac{1}{2} dy \\big)^{n-1} \\frac{1}{2} dx \\\\\n",
    "&= \\frac{n}{4} \\int_{-1}^a \\big(1 - \\int_{C_1(x)}^{C_2(x)} dy \\big)^{n-1} dx \\\\\n",
    "&= \\frac{n}{4} \\int_{-1}^a \\big(1 - 2\\sqrt{\\beta^2 - 4 \\alpha (\\gamma - x)}\\big)^{n-1} dx \\\\\n",
    "&= \\frac{1}{32 a (n + 1)} \\bigg( \\big( 1 - 2 \\sqrt{\\beta^2 - 4 \\alpha (1 + \\gamma)} \\big) ^n \\big( 1 + 2n \\sqrt{\\beta^2 - 4\\alpha (1 + \\gamma)} \\big) - \\big( 1 - 2 \\sqrt{\\beta^2 - 4 \\alpha (a - \\gamma)} \\big) ^n \\big( 1 + 2n \\sqrt{\\beta^2 - 4\\alpha (a - \\gamma)} \\big) \\bigg)\n",
    "\\end{aligned}\n",
    "$$\n",
    "\n",
    "\n",
    "## Joint Distribution of $a_1$, $a_2$\n",
    "\n",
    "We now consider the case where strategies are not forced to be unbiased.  Each strategy is now of the form $[a_1, a_2]$, no longer forced to be unbiased, but both coefficients uniformly distributed between -1 and 1.\n",
    "\n",
    "\n",
    "### Cost function\n",
    "If this is week $t$, the agent will predict\n",
    "\n",
    "$$\n",
    "\\begin{aligned}\n",
    "\\hat{N}(t) &= a_1 C_1 + a_2 C_2 \\\\\n",
    "\\hat{N}(t - 1) &= a_1 C_2 + a_2 C_3 \\\\\n",
    "\\hat{N}(t-2) &= a_1 C_3 + a_2 C_4\n",
    "\\end{aligned}\n",
    "$$\n",
    "\n",
    "So the cost will be\n",
    "\n",
    "$$\n",
    "C(a_1, a_2) = (a_1 C_2 + a_2 C_3 - C_1)^2 + (a_1 C_3 + a_2 C_4 - C_2)^2\n",
    "$$\n"
   ]
  },
  {
   "cell_type": "code",
   "execution_count": null,
   "id": "3dc6fb81-0826-4010-b100-8548ba082226",
   "metadata": {},
   "outputs": [],
   "source": []
  },
  {
   "cell_type": "markdown",
   "id": "030ae62b-0dd7-4fcc-a338-4c177d3cfade",
   "metadata": {},
   "source": [
    "## Symmetric Exponential Strategies\n",
    "Now suppose each strategy given to the agents is distributed with $f(a) = \\frac{1}{2}e^{|a|}$.\n",
    "\n",
    "### $a_0$ > 0\n",
    "When the optimal a is positivite, we know that $C_2 > 0$ since it must be above the optimum.  However, the sign of $C_1$ will vary depending on the value of $a$, although it will be negative for most $a$ outside of a small region.  \n",
    "\n",
    "For $a < C_1(C(0))$, or $a > C_2(C(0))$ we have $C_1(x) < 0$ and $C_2(x) > 0$, for all $x \\leq a$ so\n",
    "\n",
    "$$\n",
    "F(a) = \\frac{n}{2^n}\\int_{-\\inf}^a (e^{C_1(x)} + e^{-C_2(x)})^{n - 1} e^x dx\n",
    "$$\n",
    "\n",
    "so\n",
    "\n",
    "$$\n",
    "f(a) = \\frac{n}{2^n} (e^{C_1(x)} + e^{-C_2(x)}) ^{n-1}e^x\n",
    "$$\n",
    "\n",
    "For $C_1(C(0)) < a < C_2(C(0))$, we have $0 < C_1(x) < C_2(x)$\n",
    "$$\n",
    "F(a) = \\frac{n}{2^n}\\int_{-\\inf}^a (2 - e^{-C_1(x)} + e^{-C_2(x)})^{n-1} e^x dx\n",
    "$$\n",
    "\n",
    "so \n",
    "\n",
    "$$\n",
    "f(a) = \\frac{n}{2^n} (2 - e^{-C_1(x)} + e^{-C_2(x)})^{n-1} e^x\n",
    "$$\n",
    "\n",
    "### $a_0$ < 0\n",
    "When the optimal a is negative, we know that $C_1 < 0$ since it must be below the optimum.\n",
    "\n",
    "For $a < C_1(C(0))$, or $a > C_2(C(0))$ we still have $C_1(x) < 0$ and $C_2(x) > 0$, so once again we have\n",
    "\n",
    "$$\n",
    "f(a) = \\frac{n}{2^n} (e^{C_1(x)} + e^{-C_2(x)})^{n-1}e^x\n",
    "$$\n",
    "\n",
    "For $C_1(C(0)) < a < C_2(C(0))$, we have $C_1(x) < C_2(x) < 0$, so\n",
    "\n",
    "$$\n",
    "F(a) = \\frac{n}{2^n}\\int_{-\\inf}^a (2 - e^{C_1(x)} + e^{C_2(x)})^{n-1} e^x dx\n",
    "$$\n",
    "\n",
    "so \n",
    "\n",
    "$$\n",
    "f(a) = \\frac{n}{2^n} (2 + e^{-C_1(x)} - e^{-C_2(x)})^{n-1} e^x\n",
    "$$\n",
    "\n",
    "Is this correct?"
   ]
  },
  {
   "cell_type": "code",
   "execution_count": 199,
   "id": "52105eae-0a14-4306-8065-5adc1e44aa47",
   "metadata": {},
   "outputs": [],
   "source": [
    "import numpy as np\n",
    "from matplotlib import pyplot as plt\n",
    "\n",
    "rng = np.random.default_rng(123)"
   ]
  },
  {
   "cell_type": "code",
   "execution_count": 200,
   "id": "360fa17d-70b2-4ed6-8178-44b0bcc23d0d",
   "metadata": {},
   "outputs": [
    {
     "data": {
      "text/plain": [
       "array([[ 0.45366382,  0.54633618],\n",
       "       [-2.22894402,  3.22894402],\n",
       "       [-0.8193461 ,  1.8193461 ],\n",
       "       [-0.99765367,  1.99765367],\n",
       "       [-1.0446589 ,  2.0446589 ]])"
      ]
     },
     "execution_count": 200,
     "metadata": {},
     "output_type": "execute_result"
    }
   ],
   "source": [
    "def make_laplace_strategies(rng, strategies, memory, loc=0, scale=1):\n",
    "    a = rng.laplace(loc=loc, scale=scale, size=(strategies))\n",
    "    return np.vstack([a, 1-a]).T\n",
    "\n",
    "make_laplace_strategies(rng, 5, 2)"
   ]
  },
  {
   "cell_type": "code",
   "execution_count": 201,
   "id": "e56b558d-6902-44fd-b128-de01ce6eedcd",
   "metadata": {},
   "outputs": [
    {
     "data": {
      "text/plain": [
       "array([34, 81, 45, 92])"
      ]
     },
     "execution_count": 201,
     "metadata": {},
     "output_type": "execute_result"
    }
   ],
   "source": [
    "hist = rng.choice(100, size=4)\n",
    "hist"
   ]
  },
  {
   "cell_type": "code",
   "execution_count": 202,
   "id": "5d995ce5-d096-4992-89b5-c4be42c69194",
   "metadata": {},
   "outputs": [
    {
     "data": {
      "text/plain": [
       "-1357.9309557774607"
      ]
     },
     "execution_count": 202,
     "metadata": {},
     "output_type": "execute_result"
    }
   ],
   "source": [
    "class History(np.ndarray):\n",
    "    def __new__(cls, input_array):\n",
    "        # Input array is an already formed ndarray instance\n",
    "        # We first cast to be our class type\n",
    "        obj = np.asarray(input_array).view(cls)\n",
    "        return obj\n",
    "\n",
    "    def __array_finalize__(self, obj):\n",
    "        # see InfoArray.__array_finalize__ for comments\n",
    "        if obj is None: return\n",
    "        \n",
    "        [c_4, c_3, c_2, c_1] = obj\n",
    "        \n",
    "        # error function is flat in this case\n",
    "        if c_2 == c_3 and c_3 == c_4:\n",
    "            self.flat = True\n",
    "            return\n",
    "        \n",
    "        self.a_1 = (c_2 - c_3)**2 + (c_3 - c_4)**2\n",
    "        self.a_2 = 2 * ((c_2 - c_3) * (c_3 - c_1) + (c_3 - c_4) * (c_4 - c_2))\n",
    "        self.a_3 = (c_3 - c_1)**2 + (c_4 - c_2)**2\n",
    "        \n",
    "        self.opt_a = -self.a_2 / (2*self.a_1)\n",
    "        self.err_min = self.a_1 * self.opt_a**2 + self.a_2 * self.opt_a + self.a_3\n",
    "        \n",
    "    def C(self, x):  \n",
    "        return self.a_1 * x**2 + self.a_2 * x + self.a_3\n",
    "\n",
    "    def c1(self,x):\n",
    "        # this is the lower of two values of a such that\n",
    "        # C(a) = C(x)\n",
    "        # when applicable\n",
    "        C_x = self.C(x)\n",
    "        return (-self.a_2 - \n",
    "                np.sqrt(self.a_2**2 - 4 * self.a_1 * (self.a_3 - C_x))) / (2 * self.a_1)\n",
    "\n",
    "    def c2(self,x):\n",
    "        # this is the lower of two values of a such that\n",
    "        # C(a) = x\n",
    "        # when applicable\n",
    "        C_x = self.C(x)\n",
    "        return (-self.a_2 + np.sqrt(self.a_2**2 - 4 * self.a_1 * (self.a_3 - C_x))) / (2*self.a_1)\n",
    "\n",
    "h = History(hist)\n",
    "h.c1(1358)"
   ]
  },
  {
   "cell_type": "code",
   "execution_count": 250,
   "id": "ec763fa7-0fad-4c74-974d-0fde1222dbd7",
   "metadata": {},
   "outputs": [
    {
     "data": {
      "text/plain": [
       "0.001953125"
      ]
     },
     "execution_count": 250,
     "metadata": {},
     "output_type": "execute_result"
    }
   ],
   "source": [
    "x = h.err_min + np.random.choice(int(1e5))\n",
    "h.C(h.c1(x)) - h.C(h.c2(x))"
   ]
  },
  {
   "cell_type": "code",
   "execution_count": 221,
   "id": "35ff91e1-3bff-4013-9151-76727cb6f9f2",
   "metadata": {},
   "outputs": [
    {
     "data": {
      "text/plain": [
       "1.9762345727264319"
      ]
     },
     "execution_count": 221,
     "metadata": {},
     "output_type": "execute_result"
    }
   ],
   "source": [
    "np.exp(h.c1(0.5)) + np.exp(-h.c2(0.5))"
   ]
  },
  {
   "cell_type": "code",
   "execution_count": 219,
   "id": "5654325b-3603-4076-a68c-eda6aab65ca7",
   "metadata": {},
   "outputs": [
    {
     "data": {
      "text/plain": [
       "0.5"
      ]
     },
     "execution_count": 219,
     "metadata": {},
     "output_type": "execute_result"
    }
   ],
   "source": [
    "h.c2(0.5)"
   ]
  },
  {
   "cell_type": "code",
   "execution_count": 206,
   "id": "94afffab-3faf-4331-93d7-666355ce24ca",
   "metadata": {},
   "outputs": [
    {
     "data": {
      "text/plain": [
       "-99.93095577746077"
      ]
     },
     "execution_count": 206,
     "metadata": {},
     "output_type": "execute_result"
    }
   ],
   "source": [
    "h.c1(100)"
   ]
  },
  {
   "cell_type": "code",
   "execution_count": 207,
   "id": "71092e7c-fe14-4965-aa43-1af3d54a7189",
   "metadata": {},
   "outputs": [
    {
     "data": {
      "text/plain": [
       "100.0"
      ]
     },
     "execution_count": 207,
     "metadata": {},
     "output_type": "execute_result"
    }
   ],
   "source": [
    "h.c2(100)"
   ]
  },
  {
   "cell_type": "code",
   "execution_count": 225,
   "id": "75baac32-7f88-41b7-b325-27f550f597ae",
   "metadata": {},
   "outputs": [
    {
     "data": {
      "text/plain": [
       "[<matplotlib.lines.Line2D at 0x11b6a1a00>]"
      ]
     },
     "execution_count": 225,
     "metadata": {},
     "output_type": "execute_result"
    },
    {
     "data": {
      "image/png": "[encoded data removed]",
      "text/plain": [
       "<Figure size 432x288 with 1 Axes>"
      ]
     },
     "metadata": {
      "needs_background": "light"
     },
     "output_type": "display_data"
    }
   ],
   "source": [
    "plt.plot(a, h.c1(a))"
   ]
  },
  {
   "cell_type": "code",
   "execution_count": 226,
   "id": "9048cfe7-a19e-4613-ab2c-342653bf360e",
   "metadata": {},
   "outputs": [
    {
     "data": {
      "text/plain": [
       "[<matplotlib.lines.Line2D at 0x11bd3cc10>]"
      ]
     },
     "execution_count": 226,
     "metadata": {},
     "output_type": "execute_result"
    },
    {
     "data": {
      "image/png": "[encoded data removed]",
      "text/plain": [
       "<Figure size 432x288 with 1 Axes>"
      ]
     },
     "metadata": {
      "needs_background": "light"
     },
     "output_type": "display_data"
    }
   ],
   "source": [
    "plt.plot(a, h.c2(a))"
   ]
  },
  {
   "cell_type": "code",
   "execution_count": 210,
   "id": "540f2a52-b578-4d26-a649-f91677a51781",
   "metadata": {},
   "outputs": [
    {
     "data": {
      "text/plain": [
       "[<matplotlib.lines.Line2D at 0x11b5c9460>]"
      ]
     },
     "execution_count": 210,
     "metadata": {},
     "output_type": "execute_result"
    },
    {
     "data": {
      "image/png": "[encoded data removed]",
      "text/plain": [
       "<Figure size 432x288 with 1 Axes>"
      ]
     },
     "metadata": {
      "needs_background": "light"
     },
     "output_type": "display_data"
    }
   ],
   "source": [
    "def f_laplace(h, a, s):\n",
    "    \n",
    "    const_coef = 2 * ((h.c1(a) < 0) & (h.c2(a) > 0)).astype(int)\n",
    "    c1_coef = 1 - 2 * ((h.c1(a) > 0) & (h.c2(a) > 0)).astype(int)\n",
    "    c2_coef = 1 - 2 * ((h.c1(a) < 0) & (h.c2(a) < 0)).astype(int)\n",
    "    \n",
    "    exp_a = np.exp(-np.abs(a))\n",
    "    \n",
    "    return s / 2**s * (\n",
    "        const_coef + \n",
    "        c1_coef * exp_a * np.exp(-np.abs(h.c1(a))) + \n",
    "        c2_coef * exp_a * np.exp(-np.abs(h.c2(a)))\n",
    "    )**(s-1) * exp_a\n",
    "\n",
    "\n",
    "s = 2\n",
    "a = np.arange(-3.001, 3, 0.01)\n",
    "\n",
    "plt.plot(a, f_laplace(h, a, s))"
   ]
  },
  {
   "cell_type": "code",
   "execution_count": 211,
   "id": "db2917a9-e5e3-4b94-a3cb-0c10f0dfd5e9",
   "metadata": {},
   "outputs": [
    {
     "data": {
      "text/plain": [
       "-3.0"
      ]
     },
     "execution_count": 211,
     "metadata": {},
     "output_type": "execute_result"
    }
   ],
   "source": [
    "h.c1(-3)"
   ]
  },
  {
   "cell_type": "code",
   "execution_count": 212,
   "id": "e8e66e6e-5a2e-4abe-a804-873119fac928",
   "metadata": {},
   "outputs": [],
   "source": [
    "from OOEFBP import EFBPSim"
   ]
  },
  {
   "cell_type": "code",
   "execution_count": 213,
   "id": "8eff9077-60c0-4771-bc42-b8f07ecc89bb",
   "metadata": {},
   "outputs": [],
   "source": [
    "sim = EFBPSim(\n",
    "    memory=2, \n",
    "    strategies=2,\n",
    "    start=hist, \n",
    "    n_iter=1,\n",
    "    agents=1500,\n",
    "    strategy_func=make_laplace_strategies\n",
    ")"
   ]
  },
  {
   "cell_type": "code",
   "execution_count": 214,
   "id": "c4fe103c-5215-417e-b39c-50bc4c8bef3c",
   "metadata": {},
   "outputs": [
    {
     "data": {
      "image/png": "[encoded data removed]",
      "text/plain": [
       "<Figure size 432x288 with 1 Axes>"
      ]
     },
     "metadata": {
      "needs_background": "light"
     },
     "output_type": "display_data"
    }
   ],
   "source": [
    "plt.plot(a, f_laplace(h, a, s))\n",
    "__ = plt.hist(sim.first_a(),bins=30, density=True)"
   ]
  },
  {
   "cell_type": "code",
   "execution_count": 147,
   "id": "7358445f-6fb3-48e8-b010-56390cf630d4",
   "metadata": {},
   "outputs": [
    {
     "name": "stdout",
     "output_type": "stream",
     "text": [
      "6625\t-13186\t13850\n",
      "6416\t128\t5785\n"
     ]
    },
    {
     "name": "stderr",
     "output_type": "stream",
     "text": [
      "<ipython-input-89-b3a8abd2acfb>:31: RuntimeWarning: invalid value encountered in sqrt\n",
      "  return (-self.a_2 - np.sqrt(self.a_2**2 - 4 * self.a_1 * (self.a_3 - x))) / (2 * self.a_1)\n",
      "<ipython-input-89-b3a8abd2acfb>:37: RuntimeWarning: invalid value encountered in sqrt\n",
      "  return (-self.a_2 + np.sqrt(self.a_2**2 - 4 * self.a_1 * (self.a_3 - x))) / (2*self.a_1)\n"
     ]
    },
    {
     "data": {
      "text/plain": [
       "array([0., 0., 0., 0., 0., 0., 0., 0., 0., 0., 0., 0., 0., 0., 0., 0., 0.,\n",
       "       0., 0., 0., 0., 0., 0., 0., 0., 0., 0., 0., 0., 0., 0., 0., 0., 0.,\n",
       "       0., 0., 0., 0., 0., 0., 0., 0., 0., 0., 0., 0., 0., 0., 0., 0., 0.,\n",
       "       0., 0., 0., 0., 0., 0., 0., 0., 0., 0., 0., 0., 0., 0., 0., 0., 0.,\n",
       "       0., 0., 0., 0., 0., 0., 0., 0., 0., 0., 0., 0., 0., 0., 0., 0., 0.,\n",
       "       0., 0., 0., 0., 0., 0., 0., 0., 0., 0., 0., 0., 0., 0., 0., 0., 0.,\n",
       "       0., 0., 0., 0., 0., 0., 0., 0., 0., 0., 0., 0., 0., 0., 0., 0., 0.,\n",
       "       0., 0., 0., 0., 0., 0., 0., 0., 0., 0., 0., 0., 0., 0., 0., 0., 0.,\n",
       "       0., 0., 0., 0., 0., 0., 0., 0., 0., 0., 0., 0., 0., 0., 0., 0., 0.,\n",
       "       0., 0., 0., 0., 0., 0., 0., 0., 0., 0., 0., 0., 0., 0., 0., 0., 0.,\n",
       "       0., 0., 0., 0., 0., 0., 0., 0., 0., 0., 0., 0., 0., 0., 0., 0., 0.,\n",
       "       0., 0., 0., 0., 0., 0., 0., 0., 0., 0., 0., 0., 0., 0., 0., 0., 0.,\n",
       "       0., 0., 0., 0., 0., 0., 0., 0., 0., 0., 0., 0., 0., 0., 0., 0., 0.,\n",
       "       0., 0., 0., 0., 0., 0., 0., 0., 0., 0., 0., 0., 0., 0., 0., 0., 0.,\n",
       "       0., 0., 0., 0., 0., 0., 0., 0., 0., 0., 0., 0., 0., 0., 0., 0., 0.,\n",
       "       0., 0., 0., 0., 0., 0., 0., 0., 0., 0., 0., 0., 0., 0., 0., 0., 0.,\n",
       "       0., 0., 0., 0., 0., 0., 0., 0., 0., 0., 0., 0., 0., 0., 0., 0., 0.,\n",
       "       0., 0., 0., 0., 0., 0., 0., 0., 0., 0., 0., 0., 0., 0., 0., 0., 0.,\n",
       "       0., 0., 0., 0., 0., 0., 0., 0., 0., 0., 0., 0., 0., 0., 0., 0., 0.,\n",
       "       0., 0., 0., 0., 0., 0., 0., 0., 0., 0., 0., 0., 0., 0., 0., 0., 0.,\n",
       "       0., 0., 0., 0., 0., 0., 0., 0., 0., 0., 0., 0., 0., 0., 0., 0., 0.,\n",
       "       0., 0., 0., 0., 0., 0., 0., 0., 0., 0., 0., 0., 0., 0., 0., 0., 0.,\n",
       "       0., 0., 0., 0., 0., 0., 0., 0., 0., 0., 0., 0., 0., 0., 0., 0., 0.,\n",
       "       0., 0., 0., 0., 0., 0., 0., 0., 0., 0., 0., 0., 0., 0., 0., 0., 0.,\n",
       "       0., 0., 0., 0., 0., 0., 0., 0., 0., 0., 0., 0., 0., 0., 0., 0., 0.,\n",
       "       0., 0., 0., 0., 0., 0., 0., 0., 0., 0., 0., 0., 0., 0., 0., 0., 0.,\n",
       "       0., 0., 0., 0., 0., 0., 0., 0., 0., 0., 0., 0., 0., 0., 0., 0., 0.,\n",
       "       0., 0., 0., 0., 0., 0., 0., 0., 0., 0., 0., 0., 0., 0., 0., 0., 0.,\n",
       "       0., 0., 0., 0., 0., 0., 0., 0., 0., 0., 0., 0., 0., 0., 0., 0., 0.,\n",
       "       0., 0., 0., 0., 0., 0., 0., 0., 0., 0., 0., 0., 0., 0., 0., 0., 0.,\n",
       "       0., 0., 0., 0., 0., 0., 0., 0., 0., 0., 0., 0., 0., 0., 0., 0., 0.,\n",
       "       0., 0., 0., 0., 0., 0., 0., 0., 0., 0., 0., 0., 0., 0., 0., 0., 0.,\n",
       "       0., 0., 0., 0., 0., 0., 0., 0., 0., 0., 0., 0., 0., 0., 0., 0., 0.,\n",
       "       0., 0., 0., 0., 0., 0., 0., 0., 0., 0., 0., 0., 0., 0., 0., 0., 0.,\n",
       "       0., 0., 0., 0., 0., 0., 0., 0., 0., 0., 0., 0., 0., 0., 0., 0., 0.,\n",
       "       0., 0., 0., 0., 0., 0.])"
      ]
     },
     "execution_count": 147,
     "metadata": {},
     "output_type": "execute_result"
    }
   ],
   "source": [
    "h = History(rng.choice(100, size=4))\n",
    "print(f\"{h.a_1}\\t{h.a_2}\\t{h.a_3}\")\n",
    "f1 = f_laplace(h, a, s)\n",
    "\n",
    "h = History(rng.choice(100, size=4))\n",
    "print(f\"{h.a_1}\\t{h.a_2}\\t{h.a_3}\")\n",
    "f2 = f_laplace(h, a, s)\n",
    "\n",
    "f2 - f1"
   ]
  },
  {
   "cell_type": "code",
   "execution_count": null,
   "id": "5ca889e7-6278-4d78-aaef-8324aab7db0d",
   "metadata": {},
   "outputs": [],
   "source": []
  },
  {
   "cell_type": "code",
   "execution_count": 216,
   "id": "7573c8df-355d-4436-a519-6bd9b058a8f7",
   "metadata": {},
   "outputs": [
    {
     "name": "stderr",
     "output_type": "stream",
     "text": [
      "/Users/rebecca/.pyenv/versions/3.9.5/envs/jupyter/lib/python3.9/site-packages/matplotlib/text.py:1215: FutureWarning: elementwise comparison failed; returning scalar instead, but in the future will perform elementwise comparison\n",
      "  if s != self._text:\n"
     ]
    },
    {
     "data": {
      "image/png": "[encoded data removed]",
      "text/plain": [
       "<Figure size 432x288 with 1 Axes>"
      ]
     },
     "metadata": {
      "needs_background": "light"
     },
     "output_type": "display_data"
    }
   ],
   "source": [
    "s = 2\n",
    "\n",
    "for _ in np.arange(1):\n",
    "    h = History(rng.choice(100, size=4))\n",
    "    sim = EFBPSim(\n",
    "        memory=2, \n",
    "        strategies=s,\n",
    "        start=h, \n",
    "        n_iter=1,\n",
    "        agents=1500,\n",
    "        strategy_func=make_laplace_strategies\n",
    "    )\n",
    "    \n",
    "    #plt.figure()\n",
    "    plt.plot(a, f_laplace(h, a, s))\n",
    "    _ = plt.hist(sim.first_a(),bins=30, density=True)\n",
    "    plt.title(h)"
   ]
  },
  {
   "cell_type": "code",
   "execution_count": 137,
   "id": "ce390e62-d0f4-4e29-9250-dca6e6d20451",
   "metadata": {},
   "outputs": [
    {
     "data": {
      "text/plain": [
       "History(92)"
      ]
     },
     "execution_count": 137,
     "metadata": {},
     "output_type": "execute_result"
    }
   ],
   "source": []
  },
  {
   "cell_type": "code",
   "execution_count": null,
   "id": "1f66ecd5-addb-40ed-9ec9-7c3b2f02aa83",
   "metadata": {},
   "outputs": [],
   "source": []
  },
  {
   "cell_type": "code",
   "execution_count": null,
   "id": "455ebce5-c639-4401-a275-4aca05e191ec",
   "metadata": {},
   "outputs": [],
   "source": []
  },
  {
   "cell_type": "code",
   "execution_count": null,
   "id": "3c6d9d77-2b28-4d85-bae9-1b1f88311df3",
   "metadata": {},
   "outputs": [],
   "source": []
  }
 ],
 "metadata": {
  "kernelspec": {
   "display_name": "Python 3",
   "language": "python",
   "name": "python3"
  },
  "language_info": {
   "codemirror_mode": {
    "name": "ipython",
    "version": 3
   },
   "file_extension": ".py",
   "mimetype": "text/x-python",
   "name": "python",
   "nbconvert_exporter": "python",
   "pygments_lexer": "ipython3",
   "version": "3.9.5"
  }
 },
 "nbformat": 4,
 "nbformat_minor": 5
}
