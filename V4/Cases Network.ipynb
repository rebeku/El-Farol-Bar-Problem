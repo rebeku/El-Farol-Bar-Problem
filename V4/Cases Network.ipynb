{
 "cells": [
  {
   "cell_type": "code",
   "execution_count": 1,
   "id": "366c042a-6ea7-4855-bdf1-7313274f2f6b",
   "metadata": {},
   "outputs": [],
   "source": [
    "from collections import Counter\n",
    "import networkx as nx\n",
    "import numpy as np\n",
    "import pandas as pd\n",
    "from matplotlib import pyplot as plt\n",
    "\n",
    "from bar_model import BarModel\n",
    "from efbp import run_simulation\n",
    "from util import detect_cycle"
   ]
  },
  {
   "cell_type": "code",
   "execution_count": 2,
   "id": "403bb95a-f1d4-4343-90d1-6982ef5f65f2",
   "metadata": {},
   "outputs": [],
   "source": [
    "rng = np.random.default_rng(24)\n",
    "n = 150\n",
    "agents = 100\n",
    "x_min = -1\n",
    "x_max = 1"
   ]
  },
  {
   "cell_type": "code",
   "execution_count": 69,
   "id": "2017e487-cb56-41ab-a917-7231bfc03342",
   "metadata": {},
   "outputs": [],
   "source": [
    "def find_subsequence(seq, subseq):\n",
    "    target = np.dot(subseq, subseq)\n",
    "    candidates = np.where(np.correlate(seq,\n",
    "                                       subseq, mode='valid') == target)[0]\n",
    "    # some of the candidates entries may be false positives, double check\n",
    "    check = candidates[:, np.newaxis] + np.arange(len(subseq))\n",
    "    mask = np.all((np.take(seq, check) == subseq), axis=-1)\n",
    "    return candidates[mask]\n",
    "\n",
    "\n",
    "def find_case_network(strategies):\n",
    "    start = rng.choice(101, size=4)\n",
    "\n",
    "    edges = []\n",
    "\n",
    "    hist_sim, _, _ = run_simulation(\n",
    "        agents = agents,\n",
    "        threshold = 60,\n",
    "        strategies = strategies,\n",
    "        # number of weeks back in predictor function\n",
    "        # AND number of weeks back to look when selecting a predictor\n",
    "        memory = 2,\n",
    "        # number of rounds to run the simulation\n",
    "        n_iter = n,\n",
    "        # current options are \"unbiased\", \"uniform\"\n",
    "        distribution=\"unbiased\",\n",
    "        # random seed for numpy\n",
    "        seed=rng.choice(10000)\n",
    "    )\n",
    "\n",
    "    cases_sim = np.array([\n",
    "        BarModel(hist_sim[i:i+4], strategies, x_min, x_max).case\n",
    "        for i in range(n-4)\n",
    "    ])\n",
    "\n",
    "    cycle_length = detect_cycle(cases_sim, 2)\n",
    "    cycle = cases_sim[-cycle_length:]\n",
    "\n",
    "    # don't keep iterating through cycle\n",
    "    # only cover it once\n",
    "    end = find_subsequence(cases_sim, cycle)[1]\n",
    "\n",
    "    for i in range(end):\n",
    "        case = cases_sim[i]\n",
    "        next_case = cases_sim[i+1]\n",
    "        edges.append(((case, next_case)))\n",
    "        \n",
    "    return Counter(edges)"
   ]
  },
  {
   "cell_type": "code",
   "execution_count": 70,
   "id": "698b805a-1a15-4298-9a2a-a8dc32ef8727",
   "metadata": {},
   "outputs": [
    {
     "data": {
      "text/plain": [
       "Counter({(10, 9): 4,\n",
       "         (9, 2): 1,\n",
       "         (2, 10): 1,\n",
       "         (10, 15): 4,\n",
       "         (15, 9): 4,\n",
       "         (9, 14): 3,\n",
       "         (14, 5): 1,\n",
       "         (5, 9): 1,\n",
       "         (9, 3): 4,\n",
       "         (3, 10): 4,\n",
       "         (9, 16): 1,\n",
       "         (16, 6): 1,\n",
       "         (6, 9): 2,\n",
       "         (14, 10): 2,\n",
       "         (9, 10): 2,\n",
       "         (10, 6): 1})"
      ]
     },
     "execution_count": 70,
     "metadata": {},
     "output_type": "execute_result"
    }
   ],
   "source": [
    "find_case_network(2)"
   ]
  },
  {
   "cell_type": "code",
   "execution_count": 98,
   "id": "91ee64c3-1642-4fe4-bb5d-3cde74f3ed03",
   "metadata": {},
   "outputs": [],
   "source": [
    "strategies = 2\n",
    "times = 1000\n",
    "\n",
    "cases = find_case_network(strategies)\n",
    "\n",
    "for _ in range(times):\n",
    "    cases.update(find_case_network(strategies))"
   ]
  },
  {
   "cell_type": "code",
   "execution_count": 113,
   "id": "2f06ebda-9a9f-4aa9-b1be-a04f01e7151b",
   "metadata": {},
   "outputs": [
    {
     "data": {
      "text/plain": [
       "[((3, 10), 3628),\n",
       " ((9, 3), 3624),\n",
       " ((10, 9), 3345),\n",
       " ((9, 14), 2691),\n",
       " ((10, 15), 2575),\n",
       " ((15, 9), 2306),\n",
       " ((14, 10), 1856),\n",
       " ((6, 9), 1754),\n",
       " ((9, 16), 993),\n",
       " ((16, 6), 923),\n",
       " ((2, 10), 895),\n",
       " ((5, 9), 782),\n",
       " ((10, 6), 776),\n",
       " ((9, 10), 755),\n",
       " ((14, 5), 743)]"
      ]
     },
     "execution_count": 113,
     "metadata": {},
     "output_type": "execute_result"
    }
   ],
   "source": [
    "cases.most_common(15)"
   ]
  },
  {
   "cell_type": "code",
   "execution_count": 114,
   "id": "cec45984-a38e-48ae-9248-368985178c18",
   "metadata": {},
   "outputs": [],
   "source": [
    "G = nx.DiGraph()\n",
    "\n",
    "for edge in cases.items():\n",
    "    (u, v), w = edge\n",
    "    G.add_edge(u, v, weight=w)"
   ]
  },
  {
   "cell_type": "code",
   "execution_count": 115,
   "id": "46635ce1-05b4-44ef-8417-7a5e0bc47695",
   "metadata": {},
   "outputs": [
    {
     "data": {
      "text/plain": [
       "NodeView((3, 10, 15, 9, 16, 6, 14, 1, 13, 2, 5, 4, 19, 12))"
      ]
     },
     "execution_count": 115,
     "metadata": {},
     "output_type": "execute_result"
    }
   ],
   "source": [
    "G.nodes"
   ]
  },
  {
   "cell_type": "code",
   "execution_count": 116,
   "id": "e1217f20-c432-4af1-b837-83c548c94704",
   "metadata": {},
   "outputs": [
    {
     "data": {
      "text/plain": [
       "[60, 200, 100, 320, 120, 80, 120, 60, 100, 120, 60, 60, 40, 40]"
      ]
     },
     "execution_count": 116,
     "metadata": {},
     "output_type": "execute_result"
    }
   ],
   "source": [
    "[G.degree(x) * 20 for x in G.nodes]"
   ]
  },
  {
   "cell_type": "code",
   "execution_count": 103,
   "id": "bb7418de-b85a-4292-8b6f-da899d9fa9d4",
   "metadata": {},
   "outputs": [
    {
     "data": {
      "image/png": "[encoded data removed]",
      "text/plain": [
       "<Figure size 432x288 with 1 Axes>"
      ]
     },
     "metadata": {},
     "output_type": "display_data"
    }
   ],
   "source": [
    "pos = nx.circular_layout(G)\n",
    "\n",
    "nodesize = [G.degree(x) * 20 for x in G.nodes]\n",
    "\n",
    "nodes = nx.draw_networkx_nodes(G, pos, node_size=nodesize)\n",
    "edges = nx.draw_networkx_edges(\n",
    "    G,\n",
    "    pos,\n",
    "    arrowstyle=\"->\",\n",
    "    arrowsize=30,\n",
    "    width=2,\n",
    ")\n",
    "\n",
    "labels = {node: node for node in G.nodes}\n",
    "_ = nx.draw_networkx_labels(G, pos, labels, font_size=22, font_color=\"whitesmoke\")\n"
   ]
  },
  {
   "cell_type": "code",
   "execution_count": 117,
   "id": "3e0e46a6-65f3-4bab-8a4a-0d4f48747bb0",
   "metadata": {},
   "outputs": [
    {
     "name": "stdout",
     "output_type": "stream",
     "text": [
      "{1, 2, 3, 4, 5, 6, 9, 10, 13, 14, 15, 16}\n",
      "{19}\n",
      "{12}\n"
     ]
    }
   ],
   "source": [
    "for c in nx.strongly_connected_components(G):\n",
    "    print(c)"
   ]
  },
  {
   "cell_type": "code",
   "execution_count": 119,
   "id": "dac0c846-8d77-412c-ab1c-446041b2190a",
   "metadata": {},
   "outputs": [
    {
     "name": "stdout",
     "output_type": "stream",
     "text": [
      "(19, 2)\n",
      "(19, 9)\n"
     ]
    }
   ],
   "source": [
    "for case in cases:\n",
    "    if case[0] == 19:\n",
    "        print(case)"
   ]
  },
  {
   "cell_type": "code",
   "execution_count": 120,
   "id": "3d193e12-793c-4b3f-aefe-b44bf0ab19c9",
   "metadata": {},
   "outputs": [
    {
     "data": {
      "text/plain": [
       "14"
      ]
     },
     "execution_count": 120,
     "metadata": {},
     "output_type": "execute_result"
    }
   ],
   "source": [
    "len(G.nodes)"
   ]
  },
  {
   "cell_type": "markdown",
   "id": "643c7c3a-4a98-4dc6-b825-b7a0d0f09431",
   "metadata": {},
   "source": [
    "## Try with more strategies"
   ]
  },
  {
   "cell_type": "code",
   "execution_count": 59,
   "id": "39019dd4-0f2c-4dd7-9667-eb1109ddc84d",
   "metadata": {},
   "outputs": [],
   "source": [
    "strategies = 3\n",
    "times = 1000\n",
    "\n",
    "cases = find_case_network(strategies)\n",
    "\n",
    "for _ in range(times):\n",
    "    cases.update(find_case_network(strategies))"
   ]
  },
  {
   "cell_type": "code",
   "execution_count": 60,
   "id": "161c92c1-b40d-440a-9585-6100be263ab4",
   "metadata": {},
   "outputs": [
    {
     "data": {
      "image/png": "[encoded data removed]",
      "text/plain": [
       "<Figure size 432x288 with 1 Axes>"
      ]
     },
     "metadata": {},
     "output_type": "display_data"
    }
   ],
   "source": [
    "G = nx.DiGraph()\n",
    "\n",
    "for edge in cases.items():\n",
    "    (u, v), w = edge\n",
    "    G.add_edge(u, v, weight=w)\n",
    "    \n",
    "pos = nx.circular_layout(G)\n",
    "\n",
    "nodes = nx.draw_networkx_nodes(G, pos, node_size=800)\n",
    "edges = nx.draw_networkx_edges(\n",
    "    G,\n",
    "    pos,\n",
    "    arrowstyle=\"->\",\n",
    "    arrowsize=30,\n",
    "    width=2,\n",
    ")\n",
    "\n",
    "labels = {node: node for node in G.nodes}\n",
    "_ = nx.draw_networkx_labels(G, pos, labels, font_size=22, font_color=\"whitesmoke\")"
   ]
  },
  {
   "cell_type": "code",
   "execution_count": 61,
   "id": "2d4946f2-c3ed-4c1c-86ad-174debd004fc",
   "metadata": {},
   "outputs": [
    {
     "name": "stdout",
     "output_type": "stream",
     "text": [
      "{1, 2, 3, 4, 5, 6, 8, 9, 10, 11, 12, 13, 14, 15, 16, 17, 18, 19, 20}\n"
     ]
    }
   ],
   "source": [
    "for c in nx.strongly_connected_components(G):\n",
    "    print(c)"
   ]
  },
  {
   "cell_type": "markdown",
   "id": "f86f6c9d-88ba-4422-8416-37f6926d1f74",
   "metadata": {},
   "source": [
    "# Only consider limit cycles"
   ]
  },
  {
   "cell_type": "code",
   "execution_count": 150,
   "id": "2cb0eeb0-7922-4224-a127-31277c0a10f5",
   "metadata": {},
   "outputs": [],
   "source": [
    "n = 150\n",
    "\n",
    "def find_case_network(strategies):\n",
    "    start = rng.choice(101, size=4)\n",
    "\n",
    "    hist_sim, _, _ = run_simulation(\n",
    "        agents = agents,\n",
    "        threshold = 60,\n",
    "        strategies = strategies,\n",
    "        # number of weeks back in predictor function\n",
    "        # AND number of weeks back to look when selecting a predictor\n",
    "        memory = 2,\n",
    "        # number of rounds to run the simulation\n",
    "        n_iter = n,\n",
    "        # current options are \"unbiased\", \"uniform\"\n",
    "        distribution=\"unbiased\",\n",
    "        # random seed for numpy\n",
    "        seed=rng.choice(10000)\n",
    "    )\n",
    "\n",
    "    cases_sim = np.array([\n",
    "        BarModel(hist_sim[i:i+4], strategies, x_min, x_max).case\n",
    "        for i in range(n-4)\n",
    "    ])\n",
    "\n",
    "    cycle_length = detect_cycle(cases_sim, 2)\n",
    "    cycle = cases_sim[-cycle_length:]\n",
    "\n",
    "    # don't keep iterating through cycle\n",
    "    # only cover it once\n",
    "    end = find_subsequence(cases_sim, cycle)[0]\n",
    "    \n",
    "    # consider cases before the beginning of the cycle\n",
    "    edges = []\n",
    "    \n",
    "    for i in range(cycle_length):\n",
    "        case = cycle[i]\n",
    "        next_case = cycle[(i+1) % cycle_length]\n",
    "        edges.append(((case, next_case)))\n",
    "    pre_counts = Counter(edges)\n",
    "    \n",
    "\n",
    "    # cases in the cycle\n",
    "    edges = []\n",
    "    for i in range(end):\n",
    "        case = cases_sim[i]\n",
    "        next_case = cases_sim[(i+1)]\n",
    "        edges.append(((case, next_case)))\n",
    "        \n",
    "    cycle_counts = Counter(edges)\n",
    "        \n",
    "    return pre_counts, cycle_counts"
   ]
  },
  {
   "cell_type": "code",
   "execution_count": 151,
   "id": "85749c31-39b0-4268-ac79-90486edd7942",
   "metadata": {},
   "outputs": [],
   "source": [
    "strategies = 2\n",
    "times = 1000\n",
    "\n",
    "pre_cnts, cycle_cnts = find_case_network(strategies)\n",
    "\n",
    "for t in range(times):\n",
    "    p, c = find_case_network(strategies)\n",
    "    pre_cnts.update(p)\n",
    "    cycle_cnts.update(c)"
   ]
  },
  {
   "cell_type": "code",
   "execution_count": 152,
   "id": "34861a39-14f4-42b9-81cf-2de3244b0b4a",
   "metadata": {},
   "outputs": [
    {
     "name": "stdout",
     "output_type": "stream",
     "text": [
      "{1, 2, 3, 4, 5, 6, 9, 10, 13, 14, 15, 16}\n"
     ]
    }
   ],
   "source": [
    "G = nx.DiGraph()\n",
    "\n",
    "for edge in pre_cnts.items():\n",
    "    (u, v), w = edge\n",
    "    G.add_edge(u, v, weight=w)\n",
    "    \n",
    "for c in nx.strongly_connected_components(G):\n",
    "    print(c)"
   ]
  },
  {
   "cell_type": "markdown",
   "id": "1c7f2e1f-5556-48ab-9fba-2a0f8bf4a1b1",
   "metadata": {},
   "source": [
    "Missing cases 7,8, 11, 12, 17, 18, 19,20"
   ]
  },
  {
   "cell_type": "code",
   "execution_count": 153,
   "id": "3b86ea21-de94-4beb-9844-fddaaa01e00e",
   "metadata": {},
   "outputs": [
    {
     "name": "stdout",
     "output_type": "stream",
     "text": [
      "{1, 2, 3, 4, 5, 6, 9, 10, 13, 14, 15, 16}\n",
      "{19}\n"
     ]
    }
   ],
   "source": [
    "G = nx.DiGraph()\n",
    "\n",
    "for edge in cycle_cnts.items():\n",
    "    (u, v), w = edge\n",
    "    G.add_edge(u, v, weight=w)\n",
    "    \n",
    "for c in nx.strongly_connected_components(G):\n",
    "    print(c)"
   ]
  },
  {
   "cell_type": "markdown",
   "id": "a473ca7d-ac74-4e78-8e48-eec1ed6b4510",
   "metadata": {},
   "source": [
    "NOTE: names of arrays are switched.  pre_cnts is the one that has the cycles.\n",
    "\n",
    "Okay interesting...  It seems like some cases don't get generated by the simulation ever and they aren't the ones I would have picked out.  7 and 8 are the obvious ones, where there are 3 in a row of the same choice.  The remaining cases are all ones with "
   ]
  },
  {
   "cell_type": "code",
   "execution_count": 154,
   "id": "29862c11-13a6-4deb-b435-66c668176aa9",
   "metadata": {},
   "outputs": [
    {
     "name": "stdout",
     "output_type": "stream",
     "text": [
      "{1, 2, 3, 5, 6, 9, 10, 13, 14, 15, 16}\n"
     ]
    }
   ],
   "source": [
    "strategies = 3\n",
    "times = 1000\n",
    "\n",
    "pre_cnts, cycle_cnts = find_case_network(strategies)\n",
    "\n",
    "for t in range(times):\n",
    "    p, c = find_case_network(strategies)\n",
    "    pre_cnts.update(p)\n",
    "    cycle_cnts.update(c)\n",
    "    \n",
    "    \n",
    "G = nx.DiGraph()\n",
    "\n",
    "for edge in pre_cnts.items():\n",
    "    (u, v), w = edge\n",
    "    G.add_edge(u, v, weight=w)\n",
    "    \n",
    "for c in nx.strongly_connected_components(G):\n",
    "    print(c)"
   ]
  },
  {
   "cell_type": "code",
   "execution_count": 155,
   "id": "0d4c15df-adae-4e89-b251-d08b41374fad",
   "metadata": {},
   "outputs": [
    {
     "name": "stdout",
     "output_type": "stream",
     "text": [
      "{2, 3, 5, 6, 9, 10, 13, 14, 15, 16, 19}\n",
      "{12}\n",
      "{11}\n",
      "{17}\n"
     ]
    }
   ],
   "source": [
    "G = nx.DiGraph()\n",
    "\n",
    "for edge in cycle_cnts.items():\n",
    "    (u, v), w = edge\n",
    "    G.add_edge(u, v, weight=w)\n",
    "    \n",
    "for c in nx.strongly_connected_components(G):\n",
    "    print(c)"
   ]
  },
  {
   "cell_type": "code",
   "execution_count": null,
   "id": "51bf899d-327f-44cc-92ad-8cfe6fb2c50b",
   "metadata": {},
   "outputs": [],
   "source": []
  },
  {
   "cell_type": "code",
   "execution_count": 156,
   "id": "fe240e18-61be-4ec5-a57b-871d3eef2788",
   "metadata": {},
   "outputs": [
    {
     "name": "stdout",
     "output_type": "stream",
     "text": [
      "{2, 10, 19, 15}\n",
      "{4, 5, 9, 14, 17}\n"
     ]
    }
   ],
   "source": [
    "strategies = 10\n",
    "times = 1000\n",
    "\n",
    "pre_cnts, cycle_cnts = find_case_network(strategies)\n",
    "\n",
    "for t in range(times):\n",
    "    p, c = find_case_network(strategies)\n",
    "    pre_cnts.update(p)\n",
    "    cycle_cnts.update(c)\n",
    "    \n",
    "    \n",
    "G = nx.DiGraph()\n",
    "\n",
    "for edge in pre_cnts.items():\n",
    "    (u, v), w = edge\n",
    "    G.add_edge(u, v, weight=w)\n",
    "    \n",
    "for c in nx.strongly_connected_components(G):\n",
    "    print(c)"
   ]
  },
  {
   "cell_type": "code",
   "execution_count": 157,
   "id": "8dffcbd7-6928-47df-99aa-a6358c92d75d",
   "metadata": {},
   "outputs": [
    {
     "name": "stdout",
     "output_type": "stream",
     "text": [
      "{1, 2, 10, 12, 15, 19}\n",
      "{4, 5, 9, 14, 17}\n",
      "{11}\n",
      "{16}\n"
     ]
    }
   ],
   "source": [
    "G = nx.DiGraph()\n",
    "\n",
    "for edge in cycle_cnts.items():\n",
    "    (u, v), w = edge\n",
    "    G.add_edge(u, v, weight=w)\n",
    "    \n",
    "for c in nx.strongly_connected_components(G):\n",
    "    print(c)"
   ]
  },
  {
   "cell_type": "code",
   "execution_count": 203,
   "id": "e8407797-b6ca-4781-be18-f3adc576045f",
   "metadata": {},
   "outputs": [],
   "source": [
    "n = 30\n",
    "\n",
    "def test_no_negative_a_optimal(strategies):\n",
    "    start = rng.choice(101, size=4)\n",
    "\n",
    "    hist_sim, _, _ = run_simulation(\n",
    "        agents = agents,\n",
    "        threshold = 60,\n",
    "        strategies = strategies,\n",
    "        # number of weeks back in predictor function\n",
    "        # AND number of weeks back to look when selecting a predictor\n",
    "        memory = 2,\n",
    "        # number of rounds to run the simulation\n",
    "        n_iter = n,\n",
    "        # current options are \"unbiased\", \"uniform\"\n",
    "        distribution=\"unbiased\",\n",
    "        # random seed for numpy\n",
    "        seed=rng.choice(10000)\n",
    "    )\n",
    "\n",
    "    for i in range(1, n-4):\n",
    "        m = BarModel(hist_sim[i:i+4], strategies, x_min, x_max)\n",
    "        if m.case < 9:\n",
    "            continue\n",
    "            \n",
    "        if m.opt_a < 0:\n",
    "            print(start)\n",
    "            print(hist_sim)\n",
    "            print(i)\n",
    "            print(m.case)\n",
    "            return start, hist_sim, i\n",
    "        \n",
    "    return None\n",
    "        \n",
    "\n",
    "for _ in range(500):\n",
    "    r = test_no_negative_a_optimal(2)\n",
    "    if r:\n",
    "        print(\"found a negative optimal a value:\")"
   ]
  },
  {
   "cell_type": "code",
   "execution_count": 204,
   "id": "d6ed5700-7ffc-49ea-932a-1472779288c4",
   "metadata": {},
   "outputs": [
    {
     "name": "stdout",
     "output_type": "stream",
     "text": [
      "[39 53 40 59]\n",
      "[100  11   5 100  38  17 100  32   5 100  38   9 100  35   4 100  38   7\n",
      " 100  35   4 100  38   7 100  35   4 100  38   7]\n",
      "4\n",
      "19\n",
      "found a negative optimal a value:\n",
      "[47 23 38 49]\n",
      "[100  40  19 100  30   3 100  40  13 100  33   4 100  40  11 100  37   7\n",
      " 100  38   7 100  38   7 100  38   7 100  38   7]\n",
      "1\n",
      "19\n",
      "found a negative optimal a value:\n"
     ]
    }
   ],
   "source": [
    "for _ in range(500):\n",
    "    r = test_no_negative_a_optimal(3)\n",
    "    if r:\n",
    "        print(\"found a negative optimal a value:\")"
   ]
  },
  {
   "cell_type": "code",
   "execution_count": 205,
   "id": "89f0b338-5150-4e13-92e6-64201ebb3d4e",
   "metadata": {},
   "outputs": [
    {
     "name": "stdout",
     "output_type": "stream",
     "text": [
      "[82 49 49 53]\n",
      "[  4   0 100   9   2 100   8   2 100   8   2 100   8   2 100   8   2 100\n",
      "   8   2 100   8   2 100   8   2 100   8   2 100]\n",
      "3\n",
      "19\n",
      "found a negative optimal a value:\n",
      "[19 34 27 27]\n",
      "[100   7   0 100   8   1 100   7   0 100   8   1 100   7   0 100   8   1\n",
      " 100   7   0 100   8   1 100   7   0 100   8   1]\n",
      "4\n",
      "19\n",
      "found a negative optimal a value:\n",
      "[82 58  7  6]\n",
      "[ 99   2   0 100   7   1 100   6   0 100   7   1 100   6   0 100   7   1\n",
      " 100   6   0 100   7   1 100   6   0 100   7   1]\n",
      "4\n",
      "19\n",
      "found a negative optimal a value:\n",
      "[60 48 65 52]\n",
      "[  0  77 100   0  98 100   0  98 100   0  98 100   0  98 100   0  98 100\n",
      "   0  98 100   0  98 100   0  98 100   0  98 100]\n",
      "1\n",
      "17\n",
      "found a negative optimal a value:\n",
      "[ 2  0 39 66]\n",
      "[  0  84 100   0  94 100   0  94 100   0  94 100   0  94 100   0  94 100\n",
      "   0  94 100   0  94 100   0  94 100   0  94 100]\n",
      "1\n",
      "17\n",
      "found a negative optimal a value:\n",
      "[10 17 31 59]\n",
      "[  5   0 100   8   2 100   7   2 100   7   2 100   7   2 100   7   2 100\n",
      "   7   2 100   7   2 100   7   2 100   7   2 100]\n",
      "3\n",
      "19\n",
      "found a negative optimal a value:\n",
      "[56 94 81 84]\n",
      "[  0 100   8   3 100   7   2 100   7   2 100   7   2 100   7   2 100   7\n",
      "   2 100   7   2 100   7   2 100   7   2 100   7]\n",
      "2\n",
      "19\n",
      "found a negative optimal a value:\n",
      "[88 61  4 97]\n",
      "[100   0   0 100   4   3 100   3   1 100   4   2 100   4   2 100   4   2\n",
      " 100   4   2 100   4   2 100   4   2 100   4   2]\n",
      "4\n",
      "19\n",
      "found a negative optimal a value:\n",
      "[18 73 67 62]\n",
      "[100   4   0 100   7   1 100   5   0 100   7   1 100   5   0 100   7   1\n",
      " 100   5   0 100   7   1 100   5   0 100   7   1]\n",
      "4\n",
      "19\n",
      "found a negative optimal a value:\n",
      "[73 57 59  3]\n",
      "[100  41   0 100   9   0 100   9   0 100   9   0 100   9   0 100   9   0\n",
      " 100   9   0 100   9   0 100   9   0 100   9   0]\n",
      "1\n",
      "19\n",
      "found a negative optimal a value:\n",
      "[28 30 93 16]\n",
      "[100   6   0 100  10   1 100   9   1 100   9   1 100   9   1 100   9   1\n",
      " 100   9   1 100   9   1 100   9   1 100   9   1]\n",
      "4\n",
      "19\n",
      "found a negative optimal a value:\n",
      "[76 10 53 85]\n",
      "[100  17   0 100  14   0 100  14   0 100  14   0 100  14   0 100  14   0\n",
      " 100  14   0 100  14   0 100  14   0 100  14   0]\n",
      "1\n",
      "19\n",
      "found a negative optimal a value:\n",
      "[40 86 64 39]\n",
      "[100  29   0 100  12   0 100  12   0 100  12   0 100  12   0 100  12   0\n",
      " 100  12   0 100  12   0 100  12   0 100  12   0]\n",
      "1\n",
      "19\n",
      "found a negative optimal a value:\n",
      "[99 81 23  8]\n",
      "[100   4   0 100  11   3 100  10   2 100  11   2 100  11   2 100  11   2\n",
      " 100  11   2 100  11   2 100  11   2 100  11   2]\n",
      "4\n",
      "19\n",
      "found a negative optimal a value:\n",
      "[80  0 56 54]\n",
      "[ 55 100   0   0 100   6   1 100   5   1 100   5   1 100   5   1 100   5\n",
      "   1 100   5   1 100   5   1 100   5   1 100   5]\n",
      "5\n",
      "19\n",
      "found a negative optimal a value:\n",
      "[ 75  72  42 100]\n",
      "[  0 100   8   3 100   7   2 100   7   2 100   7   2 100   7   2 100   7\n",
      "   2 100   7   2 100   7   2 100   7   2 100   7]\n",
      "2\n",
      "19\n",
      "found a negative optimal a value:\n",
      "[44 83 84 72]\n",
      "[  0  94 100   0  95 100   0  95 100   0  95 100   0  95 100   0  95 100\n",
      "   0  95 100   0  95 100   0  95 100   0  95 100]\n",
      "1\n",
      "17\n",
      "found a negative optimal a value:\n",
      "[23 95 96 97]\n",
      "[100   2   0 100   9   1 100   8   0 100   9   1 100   8   0 100   9   1\n",
      " 100   8   0 100   9   1 100   8   0 100   9   1]\n",
      "4\n",
      "19\n",
      "found a negative optimal a value:\n",
      "[43 62 43 16]\n",
      "[100   2   0 100  12   2 100  10   0 100  12   2 100  10   0 100  12   2\n",
      " 100  10   0 100  12   2 100  10   0 100  12   2]\n",
      "4\n",
      "19\n",
      "found a negative optimal a value:\n",
      "[84  3 50 80]\n",
      "[ 87  30   0 100  11   0 100  11   3 100  10   1 100  10   2 100  10   2\n",
      " 100  10   2 100  10   2 100  10   2 100  10   2]\n",
      "1\n",
      "19\n",
      "found a negative optimal a value:\n",
      "[25  2 87 34]\n",
      "[100  46   0 100   9   0 100   9   0 100   9   0 100   9   0 100   9   0\n",
      " 100   9   0 100   9   0 100   9   0 100   9   0]\n",
      "1\n",
      "19\n",
      "found a negative optimal a value:\n",
      "[44 98 50 25]\n",
      "[100  38   1 100   7   0 100   7   1 100   7   1 100   7   1 100   7   1\n",
      " 100   7   1 100   7   1 100   7   1 100   7   1]\n",
      "1\n",
      "19\n",
      "found a negative optimal a value:\n",
      "[28 92 98 78]\n",
      "[100  29   0 100   9   0 100   9   1 100   9   1 100   9   1 100   9   1\n",
      " 100   9   1 100   9   1 100   9   1 100   9   1]\n",
      "1\n",
      "19\n",
      "found a negative optimal a value:\n",
      "[52 89 17 29]\n",
      "[100  50   1 100  14   0 100  14   0 100  14   0 100  14   0 100  14   0\n",
      " 100  14   0 100  14   0 100  14   0 100  14   0]\n",
      "1\n",
      "19\n",
      "found a negative optimal a value:\n",
      "[46  4 56 83]\n",
      "[100  21   0 100  10   0 100  10   0 100  10   0 100  10   0 100  10   0\n",
      " 100  10   0 100  10   0 100  10   0 100  10   0]\n",
      "1\n",
      "19\n",
      "found a negative optimal a value:\n",
      "[77 94 24 30]\n",
      "[100  17   0 100   8   0 100   8   0 100   8   0 100   8   0 100   8   0\n",
      " 100   8   0 100   8   0 100   8   0 100   8   0]\n",
      "1\n",
      "19\n",
      "found a negative optimal a value:\n",
      "[55 28 73 25]\n",
      "[100   3   0 100   6   1 100   5   1 100   5   1 100   5   1 100   5   1\n",
      " 100   5   1 100   5   1 100   5   1 100   5   1]\n",
      "4\n",
      "19\n",
      "found a negative optimal a value:\n",
      "[79 88 61 38]\n",
      "[100  26   1 100   8   0 100  10   0 100  10   0 100  10   0 100  10   0\n",
      " 100  10   0 100  10   0 100  10   0 100  10   0]\n",
      "1\n",
      "19\n",
      "found a negative optimal a value:\n",
      "[52 66  9 61]\n",
      "[100   2   0 100   9   2 100   8   1 100   8   1 100   8   1 100   8   1\n",
      " 100   8   1 100   8   1 100   8   1 100   8   1]\n",
      "4\n",
      "19\n",
      "found a negative optimal a value:\n",
      "[46 85 13 95]\n",
      "[  2  13 100   7   0 100  14   1 100  12   0 100  14   1 100  12   0 100\n",
      "  14   1 100  12   0 100  14   1 100  12   0 100]\n",
      "6\n",
      "19\n",
      "found a negative optimal a value:\n",
      "[54 36 13 32]\n",
      "[100   3   0 100   9   1 100   8   1 100   8   1 100   8   1 100   8   1\n",
      " 100   8   1 100   8   1 100   8   1 100   8   1]\n",
      "4\n",
      "19\n",
      "found a negative optimal a value:\n",
      "[88 66 91 19]\n",
      "[  0 100   2   0 100   2   1 100   1   0 100   2   1 100   1   0 100   2\n",
      "   1 100   1   0 100   2   1 100   1   0 100   2]\n",
      "5\n",
      "19\n",
      "found a negative optimal a value:\n",
      "[73 19 70 79]\n",
      "[100   4   0 100  18   3 100  15   0 100  18   2 100  15   0 100  18   2\n",
      " 100  15   0 100  18   2 100  15   0 100  18   2]\n",
      "4\n",
      "19\n",
      "found a negative optimal a value:\n",
      "[18 46 10 77]\n",
      "[  2 100   6   0 100   8   1 100   6   0 100   8   1 100   6   0 100   8\n",
      "   1 100   6   0 100   8   1 100   6   0 100   8]\n",
      "5\n",
      "19\n",
      "found a negative optimal a value:\n",
      "[ 34 100  32   8]\n",
      "[100   0   0 100   6   3 100   4   0 100   6   2 100   4   0 100   6   2\n",
      " 100   4   0 100   6   2 100   4   0 100   6   2]\n",
      "4\n",
      "19\n",
      "found a negative optimal a value:\n",
      "[ 39 100  82  26]\n",
      "[100   9   0 100  14   1 100  12   1 100  12   1 100  12   1 100  12   1\n",
      " 100  12   1 100  12   1 100  12   1 100  12   1]\n",
      "4\n",
      "19\n",
      "found a negative optimal a value:\n",
      "[67 16 70 63]\n",
      "[100   0   0 100  12   2 100  10   0 100  12   0 100  12   0 100  12   0\n",
      " 100  12   0 100  12   0 100  12   0 100  12   0]\n",
      "4\n",
      "19\n",
      "found a negative optimal a value:\n",
      "[ 76 100  35  96]\n",
      "[  0  93 100   0  97 100   0  97 100   0  97 100   0  97 100   0  97 100\n",
      "   0  97 100   0  97 100   0  97 100   0  97 100]\n",
      "1\n",
      "17\n",
      "found a negative optimal a value:\n",
      "[28 94 20 85]\n",
      "[ 20  90 100   0  93 100   0  93 100   0  93 100   0  93 100   0  93 100\n",
      "   0  93 100   0  93 100   0  93 100   0  93 100]\n",
      "1\n",
      "17\n",
      "found a negative optimal a value:\n",
      "[90 87 24 50]\n",
      "[100   0   0 100   9   2 100   8   0 100   9   0 100   9   0 100   9   0\n",
      " 100   9   0 100   9   0 100   9   0 100   9   0]\n",
      "4\n",
      "19\n",
      "found a negative optimal a value:\n"
     ]
    }
   ],
   "source": [
    "for _ in range(500):\n",
    "    r = test_no_negative_a_optimal(10)\n",
    "    if r:\n",
    "        print(\"found a negative optimal a value:\")"
   ]
  },
  {
   "cell_type": "code",
   "execution_count": null,
   "id": "00ea7a24-fa55-41e3-8b7c-b8cd1803571a",
   "metadata": {},
   "outputs": [],
   "source": []
  },
  {
   "cell_type": "code",
   "execution_count": 211,
   "id": "60ecbac8-df59-489b-9fe8-d3a8ce2b5544",
   "metadata": {},
   "outputs": [],
   "source": [
    "n = 80\n",
    "\n",
    "def test_no_negative_cycle_a_optimal(strategies):\n",
    "    start = rng.choice(101, size=4)\n",
    "\n",
    "    hist_sim, _, _ = run_simulation(\n",
    "        agents = agents,\n",
    "        threshold = 60,\n",
    "        strategies = strategies,\n",
    "        # number of weeks back in predictor function\n",
    "        # AND number of weeks back to look when selecting a predictor\n",
    "        memory = 2,\n",
    "        # number of rounds to run the simulation\n",
    "        n_iter = n,\n",
    "        # current options are \"unbiased\", \"uniform\"\n",
    "        distribution=\"unbiased\",\n",
    "        # random seed for numpy\n",
    "        seed=rng.choice(10000)\n",
    "    )\n",
    "    \n",
    "    cycle_length = detect_cycle(hist_sim, 2)\n",
    "    \n",
    "    if cycle_length is None:\n",
    "        return None, None, None\n",
    "    cycle = hist_sim[-cycle_length:]\n",
    "\n",
    "    for i in range(cycle_length-4):\n",
    "        m = BarModel(cycle[i:i+4], strategies, x_min, x_max)\n",
    "        if m.case < 9:\n",
    "            continue\n",
    "            \n",
    "        if m.opt_a < 0:\n",
    "            print(start)\n",
    "            print(hist_sim)\n",
    "            print(i)\n",
    "            print(m.case)\n",
    "            return start, hist_sim, i\n",
    "        \n",
    "    return None\n",
    "        \n",
    "\n",
    "for _ in range(500):\n",
    "    r = test_no_negative_cycle_a_optimal(2)\n",
    "    if r:\n",
    "        print(\"found a negative optimal a value:\")"
   ]
  },
  {
   "cell_type": "code",
   "execution_count": 212,
   "id": "708fdd1e-af32-4818-b048-00e950f71333",
   "metadata": {},
   "outputs": [],
   "source": [
    "for _ in range(500):\n",
    "    r = test_no_negative_cycle_a_optimal(3)\n",
    "    if r:\n",
    "        print(\"found a negative optimal a value:\")"
   ]
  },
  {
   "cell_type": "code",
   "execution_count": 213,
   "id": "6fe04420-f483-4d05-b8b3-082fa5e83dd7",
   "metadata": {},
   "outputs": [
    {
     "name": "stdout",
     "output_type": "stream",
     "text": [
      "[31 68 10 71]\n",
      "[  2   0 100  14   4 100   9   0 100  14   4 100   9   0 100  14   4 100\n",
      "   9   0 100  14   4 100   9   0 100  14   4 100   9   0 100  14   4 100\n",
      "   9   0 100  14   4 100   9   0 100  14   4 100   9   0 100  14   4 100\n",
      "   9   0 100  14   4 100   9   0 100  14   4 100   9   0 100  14   4 100\n",
      "   9   0 100  14   4 100   9   0]\n",
      "1\n",
      "19\n",
      "found a negative optimal a value:\n"
     ]
    }
   ],
   "source": [
    "for _ in range(500):\n",
    "    r = test_no_negative_cycle_a_optimal(10)\n",
    "    if r:\n",
    "        print(\"found a negative optimal a value:\")"
   ]
  }
 ],
 "metadata": {
  "kernelspec": {
   "display_name": "Python 3",
   "language": "python",
   "name": "python3"
  },
  "language_info": {
   "codemirror_mode": {
    "name": "ipython",
    "version": 3
   },
   "file_extension": ".py",
   "mimetype": "text/x-python",
   "name": "python",
   "nbconvert_exporter": "python",
   "pygments_lexer": "ipython3",
   "version": "3.9.5"
  }
 },
 "nbformat": 4,
 "nbformat_minor": 5
}
