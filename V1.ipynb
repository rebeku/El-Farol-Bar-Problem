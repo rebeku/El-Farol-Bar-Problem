{
 "cells": [
  {
   "cell_type": "code",
   "execution_count": 135,
   "id": "f384d458-6f1a-4a52-b839-62822a5f6e41",
   "metadata": {},
   "outputs": [],
   "source": [
    "import numpy as np\n",
    "from matplotlib import pyplot as plt"
   ]
  },
  {
   "cell_type": "code",
   "execution_count": 22,
   "id": "b2c4b0fc-6c38-4b49-a3c0-0d6e9a592567",
   "metadata": {},
   "outputs": [],
   "source": [
    "agents = 100\n",
    "threshold = 60\n",
    "strategies = 10\n",
    "memory = 8\n",
    "n_iter = 200"
   ]
  },
  {
   "cell_type": "code",
   "execution_count": 18,
   "id": "3b8aa679-0744-499b-81bb-081a7ca730ff",
   "metadata": {},
   "outputs": [],
   "source": [
    "def make_strategies(rng, strategies, memory):\n",
    "    return rng.normal(size=(strategies,memory))"
   ]
  },
  {
   "cell_type": "code",
   "execution_count": 124,
   "id": "71891012-3327-4379-b01b-115102dc3b0e",
   "metadata": {},
   "outputs": [],
   "source": [
    "rng = np.random.default_rng(23)\n",
    "\n",
    "# each row is a strategy\n",
    "strats = [\n",
    "    make_strategies(rng, strategies, memory + 1) for _ in range(agents)\n",
    "]\n",
    "\n",
    "start = rng.uniform(agents, size=(memory*2))\n",
    "\n",
    "# weekly attendance count\n",
    "hist = np.hstack([start, np.zeros(n_iter)]).astype(int)\n",
    "\n",
    "# index of week\n",
    "# we need some starting history to begin making selections\n",
    "t = memory * 2\n",
    "\n",
    "# record choice of strategy on each iteration\n",
    "best_strats = np.zeros((agents, len(hist)))\n",
    "\n",
    "# record each agent's prediction on each iteration\n",
    "pred_history = np.zeros((agents, len(hist)))\n",
    "\n",
    "windows = np.vstack([\n",
    "    hist[t-memory-i: t-i]\n",
    "    for i in range(memory)\n",
    "])\n",
    "\n",
    "# each column is a memory window.\n",
    "# the rightmost column is the most recent\n",
    "windows = np.vstack([windows, np.ones(shape=(1, memory), dtype=int)])\n",
    "\n",
    "while t < memory * 2 + n_iter:\n",
    "    for agent in range(agents):\n",
    "        strat = strats[agent]\n",
    "        # each row is a strategy\n",
    "        # each column is the predicted attendance for week t-i\n",
    "        predictions = strat.dot(windows)\n",
    "        observations = windows[0, :]\n",
    "        errs = np.abs(predictions - observations).sum(axis=1)\n",
    "\n",
    "        best_strat = np.argmin(errs)\n",
    "        best_strats[agent, t] = best_strat\n",
    "\n",
    "        pred = strat[best_strat].dot(windows[:,-1])\n",
    "        pred_history[agent, t] = pred\n",
    "    \n",
    "    hist[t] = (pred_history[:, t] > threshold).sum()\n",
    "    t += 1"
   ]
  },
  {
   "cell_type": "code",
   "execution_count": 136,
   "id": "97050eec-a71f-4fd3-b5d3-e8da2bfff06f",
   "metadata": {},
   "outputs": [
    {
     "data": {
      "text/plain": [
       "array([98,  6, 49,  7, 29, 19, 73, 96, 95, 99, 81, 21, 41, 27, 62, 35, 39,\n",
       "       39, 39, 39, 39, 39, 39, 39, 39, 39, 39, 39, 39, 39, 39, 39, 39, 39,\n",
       "       39, 39, 39, 39, 39, 39, 39, 39, 39, 39, 39, 39, 39, 39, 39, 39, 39,\n",
       "       39, 39, 39, 39, 39, 39, 39, 39, 39, 39, 39, 39, 39, 39, 39, 39, 39,\n",
       "       39, 39, 39, 39, 39, 39, 39, 39, 39, 39, 39, 39, 39, 39, 39, 39, 39,\n",
       "       39, 39, 39, 39, 39, 39, 39, 39, 39, 39, 39, 39, 39, 39, 39, 39, 39,\n",
       "       39, 39, 39, 39, 39, 39, 39, 39, 39, 39, 39, 39, 39, 39, 39, 39, 39,\n",
       "       39, 39, 39, 39, 39, 39, 39, 39, 39, 39, 39, 39, 39, 39, 39, 39, 39,\n",
       "       39, 39, 39, 39, 39, 39, 39, 39, 39, 39, 39, 39, 39, 39, 39, 39, 39,\n",
       "       39, 39, 39, 39, 39, 39, 39, 39, 39, 39, 39, 39, 39, 39, 39, 39, 39,\n",
       "       39, 39, 39, 39, 39, 39, 39, 39, 39, 39, 39, 39, 39, 39, 39, 39, 39,\n",
       "       39, 39, 39, 39, 39, 39, 39, 39, 39, 39, 39, 39, 39, 39, 39, 39, 39,\n",
       "       39, 39, 39, 39, 39, 39, 39, 39, 39, 39, 39, 39])"
      ]
     },
     "execution_count": 136,
     "metadata": {},
     "output_type": "execute_result"
    }
   ],
   "source": [
    "hist"
   ]
  },
  {
   "cell_type": "code",
   "execution_count": 130,
   "id": "70ff2188-3e4d-49a4-bf98-eb3a2ee4d305",
   "metadata": {},
   "outputs": [
    {
     "data": {
      "text/plain": [
       "array([ True,  True,  True,  True,  True,  True,  True,  True,  True,\n",
       "        True,  True,  True,  True,  True,  True,  True,  True,  True,\n",
       "        True,  True,  True,  True,  True,  True,  True,  True,  True,\n",
       "        True,  True,  True,  True,  True,  True,  True,  True,  True,\n",
       "        True,  True,  True,  True,  True,  True,  True,  True,  True,\n",
       "        True,  True,  True,  True,  True,  True,  True,  True,  True,\n",
       "        True,  True,  True,  True,  True,  True,  True,  True,  True,\n",
       "        True,  True,  True,  True,  True,  True,  True,  True,  True,\n",
       "        True,  True,  True,  True,  True,  True,  True,  True,  True,\n",
       "        True,  True,  True,  True,  True,  True,  True,  True,  True,\n",
       "        True,  True,  True,  True,  True,  True,  True,  True,  True,\n",
       "        True])"
      ]
     },
     "execution_count": 130,
     "metadata": {},
     "output_type": "execute_result"
    }
   ],
   "source": [
    "best_strats[:, -1] == best_strats[:, -10]"
   ]
  },
  {
   "cell_type": "code",
   "execution_count": 137,
   "id": "43261cfd-54d9-4f92-a9d1-62d492351e38",
   "metadata": {},
   "outputs": [
    {
     "data": {
      "text/plain": [
       "[<matplotlib.lines.Line2D at 0x11b1fcfa0>]"
      ]
     },
     "execution_count": 137,
     "metadata": {},
     "output_type": "execute_result"
    },
    {
     "data": {
      "image/png": "[encoded data removed]",
      "text/plain": [
       "<Figure size 432x288 with 1 Axes>"
      ]
     },
     "metadata": {
      "needs_background": "light"
     },
     "output_type": "display_data"
    }
   ],
   "source": [
    "plt.plot(hist)"
   ]
  },
  {
   "cell_type": "code",
   "execution_count": null,
   "id": "c00f8029-093b-4f0e-b106-31dfa7311c82",
   "metadata": {},
   "outputs": [],
   "source": []
  },
  {
   "cell_type": "code",
   "execution_count": null,
   "id": "5ec17105-1517-4d29-af91-caafa1d2dcd5",
   "metadata": {},
   "outputs": [],
   "source": []
  },
  {
   "cell_type": "code",
   "execution_count": null,
   "id": "cad0bf8b-a85a-4fec-a535-e334e63ba4f6",
   "metadata": {},
   "outputs": [],
   "source": []
  },
  {
   "cell_type": "code",
   "execution_count": null,
   "id": "c0c3f78a-54a6-4262-b0fa-f274fd0d3874",
   "metadata": {},
   "outputs": [],
   "source": []
  },
  {
   "cell_type": "code",
   "execution_count": null,
   "id": "b3e56eee-1ee8-4675-8876-55857d1a11fa",
   "metadata": {},
   "outputs": [],
   "source": []
  }
 ],
 "metadata": {
  "kernelspec": {
   "display_name": "Python 3",
   "language": "python",
   "name": "python3"
  },
  "language_info": {
   "codemirror_mode": {
    "name": "ipython",
    "version": 3
   },
   "file_extension": ".py",
   "mimetype": "text/x-python",
   "name": "python",
   "nbconvert_exporter": "python",
   "pygments_lexer": "ipython3",
   "version": "3.9.5"
  }
 },
 "nbformat": 4,
 "nbformat_minor": 5
}
