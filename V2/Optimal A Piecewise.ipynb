{
 "cells": [
  {
   "cell_type": "code",
   "execution_count": 167,
   "id": "52b3dc5c-9bd3-40d4-8f51-9b65e5f103c2",
   "metadata": {},
   "outputs": [],
   "source": [
    "import numpy as np\n",
    "from matplotlib import pyplot as plt\n",
    "from scipy.stats import binom\n",
    "\n",
    "\n",
    "def err(hist, a):\n",
    "    [c_4, c_3, c_2, c_1] = hist\n",
    "    return (c_3 - c_1 + (c_2 - c_3) * a)**2 + (c_4 - c_2 + (c_3 - c_4) * a)**2\n",
    "\n",
    "\n",
    "def pred(hist, a):\n",
    "    [c_4, c_3, c_2, c_1] = hist\n",
    "    return a * c_1 + (1 - a) * c_2\n",
    "\n",
    "\n",
    "def plot_errs(hist):\n",
    "    x = np.arange(-1, 1.01, 0.01)\n",
    "    y = err(hist, x)\n",
    "    going = pred(hist, x)\n",
    "\n",
    "    mask = np.where(going <= 60)\n",
    "    plt.plot(x[mask],y[mask], color=\"blue\")\n",
    "\n",
    "    mask = np.where(going > 60)\n",
    "    plt.plot(x[mask],y[mask], color=\"orange\")\n",
    "\n",
    "    plt.xlabel(\"a\")\n",
    "    plt.ylabel(\"Error\")\n",
    "    plt.legend([\"going\", \"not going\"])\n",
    "    _ = plt.title(hist)\n",
    "    \n",
    "    \n",
    "def binom_p_value(k, n, p):\n",
    "    if k < n * p:\n",
    "        return binom.cdf(k, n, p)\n",
    "    else:\n",
    "        return binom.sf(k, n, p)\n",
    "\n",
    "    \n",
    "def assert_equal(a, b, msg):\n",
    "    assert (np.abs(a - b) < 1e-6).all(), msg\n",
    "    \n",
    "\n",
    "def assert_less(a, b, msg):\n",
    "    assert (a - b < 1e-6).all(), msg\n",
    "\n",
    "    \n",
    "def assert_geq(a,b,msg):\n",
    "    assert (a - b > -1e-6).all(), msg\n",
    "\n",
    "\n",
    "class BarModel:\n",
    "    def __init__(\n",
    "        self,\n",
    "        hist, \n",
    "        s, \n",
    "        x_min, \n",
    "        x_max\n",
    "    ):\n",
    "        try:\n",
    "            self.predict(hist, s, x_min, x_max)\n",
    "        except AssertionError as E:\n",
    "            self.error = E\n",
    "            print(E)\n",
    "        \n",
    "    def predict(self, hist, s, x_min, x_max):\n",
    "        # write the errors as a quadratic eqation\n",
    "        [c_4, c_3, c_2, c_1] = hist\n",
    "\n",
    "        self.a_1 = (c_2 - c_3)**2 + (c_3 - c_4)**2\n",
    "        self.a_2 = 2 * ((c_2 - c_3) * (c_3 - c_1) + (c_3 - c_4) * (c_4 - c_2))\n",
    "        self.a_3 = (c_3 - c_1)**2 + (c_4 - c_2)**2\n",
    "\n",
    "        # check work\n",
    "        x = np.arange(-1, 1.01, 0.01)\n",
    "        y = err(hist, x)\n",
    "        y_2 = (self.a_1 * x**2 + self.a_2 * x + self.a_3)\n",
    "\n",
    "        assert_equal( (y_2 - y).max(), 0, \"Check your coefficients!\")\n",
    "        \n",
    "        # check for degenerate  case\n",
    "        # when prediction is a constant\n",
    "        # equal to c_1\n",
    "        if c_1 == c_2:\n",
    "            self.p_go = 1 * (c_1 < 60)\n",
    "            self.case = 0\n",
    "            return\n",
    "        \n",
    "        # threshold\n",
    "        self.t = (60 - c_2) / (c_1 - c_2)\n",
    "\n",
    "        # whether or not prediction is increasing\n",
    "        # determines which regions of the map are going\n",
    "        # this inequality follows from the predictor\n",
    "        # for time t\n",
    "        self.increasing = c_1 > c_2\n",
    "        \n",
    "        # threshold lower than entire window\n",
    "        if self.t < x_min:\n",
    "            self.p_go = 1 * self.increasing\n",
    "            self.case = 1\n",
    "            return\n",
    "        \n",
    "        # threshold above entire window\n",
    "        if self.t >= x_max:\n",
    "            self.p_go = 1 - self.increasing\n",
    "            self.case = 2\n",
    "            return\n",
    "        \n",
    "        # when err function is a constant\n",
    "        # when a_1 is 0, a_2 should also be 0\n",
    "        # so this is convenient\n",
    "        if self.a_1 == 0:\n",
    "            assert self.a_2 == 0\n",
    "            \n",
    "            if self.increasing:\n",
    "                self.p_go = (self.t - x_min) / (x_max - x_min)\n",
    "            else:\n",
    "                self.p_go = (x_max - self.t) / (x_max - x_min)\n",
    "\n",
    "            self.case = -1\n",
    "            return\n",
    "            \n",
    "        # optimal A is min of error curve\n",
    "        self.opt_a = -self.a_2 / (2*self.a_1)\n",
    "\n",
    "        assert_geq (y.min(), err(hist, self.opt_a), \"Opt_a isn't minimum!\")\n",
    "\n",
    "        \n",
    "        # is the bottom part going\n",
    "        # TODO: DO we need this?\n",
    "        inc_going = self.increasing and self.t > self.opt_a\n",
    "        dec_going = not self.increasing and self.t <= self.opt_a\n",
    "        self.bottom_part_going = inc_going or dec_going\n",
    "        \n",
    "        # find coordinates of bottom region\n",
    "        # reflection of threshold about *opt_a*\n",
    "        self.t_ref  = 2 * self.opt_a - self.t\n",
    "\n",
    "        assert_equal(self.opt_a - self.t_ref, self.t - self.opt_a, \"reflected thresholds not symmetrical\")\n",
    "        \n",
    "        # to get the bottom part we need the left-hand\n",
    "        # and right-hand sides of the threshold\n",
    "        self.t_l = min(self.t, self.t_ref)\n",
    "        self.t_r = max(self.t, self.t_ref)\n",
    "\n",
    "        assert_equal(self.opt_a - self.t_l, self.t_r - self.opt_a, \"right and left thresholds not symmetrical\")\n",
    "        \n",
    "        # reflection of LHS of window across threshold\n",
    "        # this is the righthand boundary of the symmetric region\n",
    "        self.ref_r = 2 * self.opt_a - x_min\n",
    "\n",
    "        assert_equal(self.opt_a - x_min, self.ref_r - self.opt_a, \"ref_r not symmetrical\")\n",
    "\n",
    "        # reflection of RHS of window across threshold\n",
    "        # this is the lefthand boundary of the symmetric region\n",
    "        self.ref_l = 2 * self.opt_a - x_max\n",
    "\n",
    "        assert_equal(x_max - self.opt_a, self.opt_a - self.ref_l, \"ref_l not symmetrical\")\n",
    "\n",
    "        \n",
    "        # For the remaining cases we can now\n",
    "        # assume that threshold is inside of\n",
    "        # the window\n",
    "\n",
    "        # threshold to the left of all points other \n",
    "        # interesting things.\n",
    "        # agents will always pick a > t\n",
    "        # when possible\n",
    "        if self.t < self.ref_l:\n",
    "            # the probability that an arbitrary a > t\n",
    "            self.p_optimal_region = (x_max - self.t) / (x_max - x_min)\n",
    "            self.p_any_optimal_region = 1 - (1 - self.p_optimal_region)**s\n",
    "            self.p_go = self.p_any_optimal_region * (1 - self.increasing) + (1 - self.p_any_optimal_region) * self.increasing\n",
    "            self.case = 3\n",
    "            return\n",
    "        \n",
    "        # threshold within window\n",
    "        # and asymmetric region on the left\n",
    "        # (or perfectly symmetric)\n",
    "        elif self.t >= self.ref_l and self.ref_l >= x_min:\n",
    "            assert_geq( self.ref_r,  x_max, \"ref_r < x_max\")\n",
    "            assert_less( self.opt_a, x_max, \"opt_a >= x_max\")\n",
    "            \n",
    "            # the probability that a is in the bottom region\n",
    "            self.p_optimal_region = (self.t_r - self.t_l) / (x_max - x_min)\n",
    "            self.p_any_optimal_region = 1 - (1 - self.p_optimal_region) ** s\n",
    "            self.p_go_optimal = self.p_any_optimal_region * self.bottom_part_going\n",
    "            \n",
    "            # the probability that a is in the lefthand asymmetric region\n",
    "            self.p_left_side = (self.ref_l - x_min) / (x_max - x_min)\n",
    "            self.p_all_left_side = self.p_left_side ** s\n",
    "            self.p_go_left_side = self.p_all_left_side * self.increasing\n",
    "            \n",
    "            self.p_sym = 1 - self.p_any_optimal_region - self.p_all_left_side\n",
    "            assert_geq( self.p_sym, 0, \"Negative probability.  Oh no!\")\n",
    "            self.p_go_sym = 0.5 * self.p_sym\n",
    "            \n",
    "            self.p_go = self.p_go_optimal + self.p_go_left_side + self.p_go_sym\n",
    "            self.case = 4\n",
    "            return\n",
    "        \n",
    "        # threshold within window\n",
    "        # and asymmetric region on the right\n",
    "        elif self.t < self.ref_r and self.ref_r < x_max:\n",
    "            assert_less( self.ref_l, x_min, \"ref_r >= x_min\")\n",
    "            assert_geq( self.opt_a, x_min, \"opt_a < x_min\")\n",
    "            \n",
    "            # the probability that a is in the bottom region\n",
    "            self.p_optimal_region = (self.t_r - self.t_l) / (x_max - x_min)\n",
    "            self.p_any_optimal_region = 1 - (1 - self.p_optimal_region) ** s\n",
    "            self.p_go_optimal = self.p_any_optimal_region * self.bottom_part_going\n",
    "            \n",
    "            # the probability that a is in the righthand asymmetric region\n",
    "            self.p_right_side = (x_max - self.ref_r) / (x_max - x_min)\n",
    "            self.p_all_right_side = self.p_right_side ** s\n",
    "            self.p_go_right_side = self.p_all_right_side * (1 - self.increasing)\n",
    "            \n",
    "            self.p_sym = 1 - self.p_any_optimal_region - self.p_all_right_side\n",
    "            assert_geq( self.p_sym, 0, \"Negative probability.  Oh no!\")\n",
    "            self.p_go_sym = 0.5 * self.p_sym\n",
    "            \n",
    "            self.p_go = self.p_go_optimal + self.p_go_right_side + self.p_go_sym\n",
    "            self.case = 5\n",
    "            return\n",
    "        \n",
    "        # threshold within window\n",
    "        # but to the right of all points other \n",
    "        # interesting things.\n",
    "        # agents will always pick a <= t\n",
    "        # when possible\n",
    "        elif self.t >= self.ref_r:\n",
    "            self.p_optimal_region = (self.t - x_min) * (x_max - x_min)\n",
    "            self.p_any_optimal_region = 1 - (1 - self.p_optimal_region)**s\n",
    "            self.p_go = self.p_any_optimal_region * self.increasing + (1 - self.p_any_optimal_region) * (1 - self.increasing) \n",
    "            self.case = 6\n",
    "            return\n",
    "        \n",
    "        else:\n",
    "            assert False, \"Missing case!\"\n",
    "\n",
    "\n",
    "def make_strategies(rng, strategies, memory):\n",
    "    # weights should sum to 1\n",
    "    # essentially, we are partitioning the [0,1] interval\n",
    "    # and taking the size of each sub-interval\n",
    "    # TODO: add negative weights?\n",
    "    w = rng.uniform(-1, 1, size=(strategies, memory-1))\n",
    "    w.sort(axis=1)\n",
    "    offsets = np.hstack([w[:, :], np.ones(shape=(strategies,1))])\n",
    "    return offsets - np.hstack([np.zeros(shape=(strategies,1)), w[:, :]])\n",
    "\n",
    "def run_test(\n",
    "    start,\n",
    "    agents,\n",
    "    strategies,\n",
    "    trials,\n",
    "    seed\n",
    "):\n",
    "    # number of weeks back in predictor function\n",
    "    # AND number of weeks back to look when selecting a predictor\n",
    "    memory = 2\n",
    "    # number of rounds to run the simulation\n",
    "    n_iter = 1\n",
    "    threshold = 60\n",
    "    \n",
    "    x_min = -1\n",
    "    x_max = 1\n",
    "    \n",
    "    model = BarModel(start, strategies, x_min, x_max)\n",
    "    p = model.p_go\n",
    "    print(f\"Case: {model.case}\")\n",
    "    print(f\"We expect agents to attend with probability {p}.\")\n",
    "    print(f\"Total weekly attendance should have mean {agents * p} and variance {agents * p * (1-p)}\")\n",
    "    \n",
    "    results = np.empty(trials)\n",
    "\n",
    "    rng = np.random.default_rng(seed)\n",
    "\n",
    "    for tr in range(trials):\n",
    "        # each row is a strategy\n",
    "        strats = [\n",
    "            make_strategies(rng, strategies, memory) for _ in range(agents)\n",
    "        ]\n",
    "\n",
    "        # weekly attendance count\n",
    "        # the first 2*memory weeks are randomly generated\n",
    "        # to seed the strategies\n",
    "        hist = np.hstack([start, np.zeros(n_iter)]).astype(int)\n",
    "\n",
    "        # index of week\n",
    "        # we need some starting history to begin making selections\n",
    "        t = memory * 2\n",
    "\n",
    "        # Record the index of the optimal strategy \n",
    "        # on each iteration.\n",
    "        # each row corresponds to an agent\n",
    "        # each column corresponds to a week\n",
    "        best_strats = np.zeros((agents, len(hist)))\n",
    "\n",
    "        # record each agent's prediction on each iteration\n",
    "        pred_history = np.zeros((agents, len(hist)))\n",
    "\n",
    "        # construct time windows for evaluating strategies\n",
    "\n",
    "        # The columns begin at\n",
    "        # t - m - 1 \n",
    "        # t - m\n",
    "        # ...\n",
    "        # t - 1\n",
    "        # t\n",
    "        # as you go down the column you are looking back\n",
    "        # to that week's history.\n",
    "        # so the column beginning at *t - m - 1*\n",
    "        # generates the prediction for week *t - m*\n",
    "        # and the rightmost column generates a\n",
    "        # prediction for next week.\n",
    "        windows = np.vstack([\n",
    "            hist[t-memory-i-1: t-i]\n",
    "            for i in range(memory)\n",
    "        ])\n",
    "\n",
    "        for agent in range(agents):\n",
    "            strat = strats[agent]\n",
    "            # each row is a strategy\n",
    "            # each column is predicted attendance\n",
    "            # in increasing order.\n",
    "            # the last column has the prediction for\n",
    "            # next week\n",
    "            predictions = strat.dot(windows)\n",
    "\n",
    "            # these are the observations that we use to\n",
    "            # to test our predictions.\n",
    "            # note that the observation from column 0\n",
    "            # is not used since its prediction would come\n",
    "            # from a previous week's history.\n",
    "            observations = windows[0, 1:]\n",
    "\n",
    "            # calculate the absolute error of predictions\n",
    "            # here, we discard the rightmost prediction as\n",
    "            # this is the prediction for the future.\n",
    "            # if we knew the correct answer for that,\n",
    "            # we wouldn't need to predict it!\n",
    "            errs = np.abs(predictions[:, :-1] - observations).sum(axis=1)\n",
    "\n",
    "            best_strat = np.argmin(errs)\n",
    "            best_strats[agent, t] = best_strat\n",
    "\n",
    "            pred = strat[best_strat].dot(windows[:,-1])\n",
    "            pred_history[agent, t] = pred\n",
    "\n",
    "        hist[t] = (pred_history[:, t] < threshold).sum()\n",
    "        results[tr] = hist[t]\n",
    "\n",
    "    plt.figure()\n",
    "    plt.hist(results)\n",
    "\n",
    "    print(f\"Average attendance: {results.mean()}\")\n",
    "    print(f\"Variance of attendance: {results.var()}\")\n",
    "    \n",
    "    # individual trials have attendance distributed\n",
    "    # binom(agents, p)\n",
    "    \n",
    "    # attendance of the full experiment should be distributed\n",
    "    # binom(trials * agents, p)\n",
    "    \n",
    "    n = trials * agents\n",
    "    print(f\"P-value: {binom_p_value(results.sum(), n, p)}\")"
   ]
  },
  {
   "cell_type": "markdown",
   "id": "4fd36b03-4feb-470d-9b5d-74ce6ed11e82",
   "metadata": {},
   "source": [
    "# Analyze the cases\n",
    "Find an example of each case.  Are there additional cases that we have not considered?"
   ]
  },
  {
   "cell_type": "code",
   "execution_count": 168,
   "id": "2e8ef77c-9db1-4581-a177-e834cda967f4",
   "metadata": {},
   "outputs": [
    {
     "data": {
      "text/plain": [
       "{3: array([99, 20,  1, 63]),\n",
       " 4: array([ 1, 54, 38, 95]),\n",
       " 6: array([47, 55, 99, 23]),\n",
       " 2: array([94, 41, 27, 44]),\n",
       " 1: array([52, 99, 80, 94]),\n",
       " 5: array([91, 42, 75,  1]),\n",
       " 0: array([96, 91,  3,  3]),\n",
       " -1: array([84, 84, 84, 21])}"
      ]
     },
     "execution_count": 168,
     "metadata": {},
     "output_type": "execute_result"
    }
   ],
   "source": [
    "# save an example of each case for testing\n",
    "cases = dict()\n",
    "strategies = 2\n",
    "\n",
    "n_iter = 0\n",
    "while n_iter < 5000 or len(cases) < 8:\n",
    "    n_iter += 1\n",
    "    start = np.random.choice(100, size=(4,))\n",
    "    model = BarModel(start, strategies, x_min, x_max)\n",
    "    \n",
    "    if model.case not in cases:\n",
    "        cases[model.case] = start\n",
    "    \n",
    "cases"
   ]
  },
  {
   "cell_type": "markdown",
   "id": "9c49f260-b2ac-4bff-a615-31c296f5e996",
   "metadata": {},
   "source": [
    "Okay this looks good.  Is\n",
    "## Case -1\n",
    "correct?"
   ]
  },
  {
   "cell_type": "code",
   "execution_count": 169,
   "id": "0f3341ef-44df-4fcc-9222-0c6ea3efcfb1",
   "metadata": {},
   "outputs": [
    {
     "name": "stderr",
     "output_type": "stream",
     "text": [
      "/Users/rebecca/.pyenv/versions/3.9.5/envs/jupyter/lib/python3.9/site-packages/matplotlib/text.py:1215: FutureWarning: elementwise comparison failed; returning scalar instead, but in the future will perform elementwise comparison\n",
      "  if s != self._text:\n"
     ]
    },
    {
     "data": {
      "image/png": "[encoded data removed]",
      "text/plain": [
       "<Figure size 432x288 with 1 Axes>"
      ]
     },
     "metadata": {
      "needs_background": "light"
     },
     "output_type": "display_data"
    }
   ],
   "source": [
    "start = cases[-1]\n",
    "plot_errs(start)"
   ]
  },
  {
   "cell_type": "code",
   "execution_count": 170,
   "id": "3aa2274e-fda6-4663-9049-e1bfb850e6ff",
   "metadata": {},
   "outputs": [
    {
     "name": "stdout",
     "output_type": "stream",
     "text": [
      "Case: -1\n",
      "We expect agents to attend with probability 0.30952380952380953.\n",
      "Total weekly attendance should have mean 30.952380952380953 and variance 21.3718820861678\n",
      "Average attendance: 30.9172\n",
      "Variance of attendance: 21.305144159999998\n",
      "P-value: 0.2958264670366109\n"
     ]
    },
    {
     "data": {
      "image/png": "[encoded data removed]",
      "text/plain": [
       "<Figure size 432x288 with 1 Axes>"
      ]
     },
     "metadata": {
      "needs_background": "light"
     },
     "output_type": "display_data"
    }
   ],
   "source": [
    "agents = 100\n",
    "strategies = 2\n",
    "trials = 5000\n",
    "seed = 227334\n",
    "\n",
    "run_test(\n",
    "    start,\n",
    "    agents,\n",
    "    strategies,\n",
    "    trials,\n",
    "    seed\n",
    ")"
   ]
  },
  {
   "cell_type": "code",
   "execution_count": 171,
   "id": "044ff74e-063f-4e90-b354-e2b3910c3cbc",
   "metadata": {},
   "outputs": [
    {
     "name": "stderr",
     "output_type": "stream",
     "text": [
      "/Users/rebecca/.pyenv/versions/3.9.5/envs/jupyter/lib/python3.9/site-packages/matplotlib/text.py:1215: FutureWarning: elementwise comparison failed; returning scalar instead, but in the future will perform elementwise comparison\n",
      "  if s != self._text:\n"
     ]
    },
    {
     "data": {
      "image/png": "[encoded data removed]",
      "text/plain": [
       "<Figure size 432x288 with 1 Axes>"
      ]
     },
     "metadata": {
      "needs_background": "light"
     },
     "output_type": "display_data"
    }
   ],
   "source": [
    "start = 100 - cases[-1]\n",
    "plot_errs(start)"
   ]
  },
  {
   "cell_type": "code",
   "execution_count": 172,
   "id": "08d11265-5bd8-4fe7-b48f-299cfaaaef06",
   "metadata": {},
   "outputs": [
    {
     "name": "stdout",
     "output_type": "stream",
     "text": [
      "Case: -1\n",
      "We expect agents to attend with probability 0.8492063492063492.\n",
      "Total weekly attendance should have mean 84.92063492063492 and variance 12.805492567397332\n",
      "Average attendance: 84.9442\n",
      "Variance of attendance: 12.44748636\n",
      "P-value: 0.3201560967510855\n"
     ]
    },
    {
     "data": {
      "image/png": "[encoded data removed]",
      "text/plain": [
       "<Figure size 432x288 with 1 Axes>"
      ]
     },
     "metadata": {
      "needs_background": "light"
     },
     "output_type": "display_data"
    }
   ],
   "source": [
    "run_test(\n",
    "    start,\n",
    "    agents,\n",
    "    strategies,\n",
    "    trials,\n",
    "    seed\n",
    ")"
   ]
  },
  {
   "cell_type": "markdown",
   "id": "1a32b41d-ae46-435f-8817-ded6c50d4440",
   "metadata": {},
   "source": [
    "That looks good...  How about\n",
    "## Case 0"
   ]
  },
  {
   "cell_type": "code",
   "execution_count": 173,
   "id": "6cd719b3-cc24-42a7-b455-dbaa5c9f57e4",
   "metadata": {},
   "outputs": [
    {
     "name": "stderr",
     "output_type": "stream",
     "text": [
      "/Users/rebecca/.pyenv/versions/3.9.5/envs/jupyter/lib/python3.9/site-packages/matplotlib/text.py:1215: FutureWarning: elementwise comparison failed; returning scalar instead, but in the future will perform elementwise comparison\n",
      "  if s != self._text:\n"
     ]
    },
    {
     "data": {
      "image/png": "[encoded data removed]",
      "text/plain": [
       "<Figure size 432x288 with 1 Axes>"
      ]
     },
     "metadata": {
      "needs_background": "light"
     },
     "output_type": "display_data"
    }
   ],
   "source": [
    "start = cases[0]\n",
    "plot_errs(start)"
   ]
  },
  {
   "cell_type": "code",
   "execution_count": 174,
   "id": "e468807a-b3be-4dbe-adff-a1099acd5935",
   "metadata": {},
   "outputs": [
    {
     "name": "stdout",
     "output_type": "stream",
     "text": [
      "Case: 0\n",
      "We expect agents to attend with probability 1.\n",
      "Total weekly attendance should have mean 100 and variance 0\n",
      "Average attendance: 100.0\n",
      "Variance of attendance: 0.0\n",
      "P-value: 0.0\n"
     ]
    },
    {
     "data": {
      "image/png": "[encoded data removed]",
      "text/plain": [
       "<Figure size 432x288 with 1 Axes>"
      ]
     },
     "metadata": {
      "needs_background": "light"
     },
     "output_type": "display_data"
    }
   ],
   "source": [
    "agents = 100\n",
    "strategies = 2\n",
    "trials = 5000\n",
    "seed = 8888\n",
    "\n",
    "run_test(\n",
    "    start,\n",
    "    agents,\n",
    "    strategies,\n",
    "    trials,\n",
    "    seed\n",
    ")"
   ]
  },
  {
   "cell_type": "code",
   "execution_count": 175,
   "id": "2feb27d8-6673-4204-b677-54d207c55fe7",
   "metadata": {},
   "outputs": [
    {
     "name": "stderr",
     "output_type": "stream",
     "text": [
      "/Users/rebecca/.pyenv/versions/3.9.5/envs/jupyter/lib/python3.9/site-packages/matplotlib/text.py:1215: FutureWarning: elementwise comparison failed; returning scalar instead, but in the future will perform elementwise comparison\n",
      "  if s != self._text:\n"
     ]
    },
    {
     "data": {
      "image/png": "[encoded data removed]",
      "text/plain": [
       "<Figure size 432x288 with 1 Axes>"
      ]
     },
     "metadata": {
      "needs_background": "light"
     },
     "output_type": "display_data"
    }
   ],
   "source": [
    "start = 100 - cases[0]\n",
    "plot_errs(start)"
   ]
  },
  {
   "cell_type": "code",
   "execution_count": 176,
   "id": "b5b3828d-f44c-49a5-8712-980929eef183",
   "metadata": {},
   "outputs": [
    {
     "name": "stdout",
     "output_type": "stream",
     "text": [
      "Case: 0\n",
      "We expect agents to attend with probability 0.\n",
      "Total weekly attendance should have mean 0 and variance 0\n",
      "Average attendance: 0.0\n",
      "Variance of attendance: 0.0\n",
      "P-value: 0.0\n"
     ]
    },
    {
     "data": {
      "image/png": "[encoded data removed]",
      "text/plain": [
       "<Figure size 432x288 with 1 Axes>"
      ]
     },
     "metadata": {
      "needs_background": "light"
     },
     "output_type": "display_data"
    }
   ],
   "source": [
    "run_test(\n",
    "    start,\n",
    "    agents,\n",
    "    strategies,\n",
    "    trials,\n",
    "    seed\n",
    ")"
   ]
  },
  {
   "cell_type": "markdown",
   "id": "b4f6f046-12cf-49e0-8b96-0dc8a463a861",
   "metadata": {},
   "source": [
    "Whooo!  Looks good.  Now let's try\n",
    "## Case 1"
   ]
  },
  {
   "cell_type": "code",
   "execution_count": null,
   "id": "dc6ae71e-f769-44c5-b80c-bcd7fbbf8751",
   "metadata": {},
   "outputs": [],
   "source": []
  },
  {
   "cell_type": "code",
   "execution_count": null,
   "id": "f186a5b7-6aa2-4c80-a81e-81b0823d9f99",
   "metadata": {},
   "outputs": [],
   "source": []
  },
  {
   "cell_type": "code",
   "execution_count": null,
   "id": "7da8ba4d-4853-4e9c-a17c-1ee505266063",
   "metadata": {},
   "outputs": [],
   "source": []
  },
  {
   "cell_type": "code",
   "execution_count": null,
   "id": "4481e956-0eed-4262-b2f8-42408889156f",
   "metadata": {},
   "outputs": [],
   "source": []
  },
  {
   "cell_type": "code",
   "execution_count": null,
   "id": "fa4f1f96-5b1a-4843-b910-c33b952f540e",
   "metadata": {},
   "outputs": [],
   "source": []
  },
  {
   "cell_type": "code",
   "execution_count": null,
   "id": "327507d1-a13d-4329-a32e-1a65c7edaabb",
   "metadata": {},
   "outputs": [],
   "source": []
  },
  {
   "cell_type": "code",
   "execution_count": null,
   "id": "29fdb7d9-c68c-447c-ab3f-cb930c5728a7",
   "metadata": {},
   "outputs": [],
   "source": []
  },
  {
   "cell_type": "code",
   "execution_count": null,
   "id": "c4871d8c-81f2-4dd7-9df2-12dc9e83b194",
   "metadata": {},
   "outputs": [],
   "source": []
  },
  {
   "cell_type": "code",
   "execution_count": null,
   "id": "3a80aaee-efd0-4ac7-92b5-aec1bbc2f349",
   "metadata": {},
   "outputs": [],
   "source": []
  },
  {
   "cell_type": "code",
   "execution_count": null,
   "id": "2dc58027-d5e8-4cb0-bf91-fb8106c01c23",
   "metadata": {},
   "outputs": [],
   "source": []
  },
  {
   "cell_type": "code",
   "execution_count": null,
   "id": "fec14e1d-e3ba-4093-a581-111a1291e427",
   "metadata": {},
   "outputs": [],
   "source": []
  },
  {
   "cell_type": "code",
   "execution_count": null,
   "id": "05f2fbed-0f9e-4f81-9a3d-75055495d6d8",
   "metadata": {},
   "outputs": [],
   "source": []
  },
  {
   "cell_type": "code",
   "execution_count": null,
   "id": "0e879665-722a-45a6-b90f-66b72e7cf32a",
   "metadata": {},
   "outputs": [],
   "source": []
  },
  {
   "cell_type": "code",
   "execution_count": null,
   "id": "c33df5e5-22d1-45dd-a4db-232830273ef8",
   "metadata": {},
   "outputs": [],
   "source": []
  },
  {
   "cell_type": "code",
   "execution_count": 2,
   "id": "33f2ddd0-baa5-46ad-835e-df2a9a2c13bd",
   "metadata": {},
   "outputs": [
    {
     "name": "stdout",
     "output_type": "stream",
     "text": [
      "Case: 4\n",
      "We expect agents to attend with probability 0.8579169598874032.\n",
      "Total weekly attendance should have mean 85.79169598874033 and variance 12.1895449824959\n",
      "Average attendance: 85.77948\n",
      "Variance of attendance: 12.085850929600003\n",
      "P-value: 0.21716522967116944\n"
     ]
    },
    {
     "data": {
      "image/png": "[encoded data removed]",
      "text/plain": [
       "<Figure size 432x288 with 1 Axes>"
      ]
     },
     "metadata": {
      "needs_background": "light"
     },
     "output_type": "display_data"
    }
   ],
   "source": [
    "start = [10,100, 20, 90]\n",
    "agents = 100\n",
    "strategies = 2\n",
    "trials = 50000\n",
    "seed = 227334\n",
    "\n",
    "run_test(\n",
    "    start,\n",
    "    agents,\n",
    "    strategies,\n",
    "    trials,\n",
    "    seed\n",
    ")"
   ]
  },
  {
   "cell_type": "code",
   "execution_count": 3,
   "id": "1fdb6d0c-7f92-484b-907b-d3de6f642d7d",
   "metadata": {},
   "outputs": [
    {
     "data": {
      "image/png": "[encoded data removed]",
      "text/plain": [
       "<Figure size 432x288 with 1 Axes>"
      ]
     },
     "metadata": {
      "needs_background": "light"
     },
     "output_type": "display_data"
    }
   ],
   "source": [
    "start = [10,100, 20, 90]\n",
    "plot_errs(start)"
   ]
  },
  {
   "cell_type": "markdown",
   "id": "a9f567ea-f4e5-4b15-a969-d991f51226ca",
   "metadata": {},
   "source": [
    "LGTM"
   ]
  },
  {
   "cell_type": "code",
   "execution_count": 4,
   "id": "9b873c88-07af-44de-b77a-27f846d9e0ea",
   "metadata": {},
   "outputs": [
    {
     "name": "stdout",
     "output_type": "stream",
     "text": [
      "Case: 4\n",
      "We expect agents to attend with probability 0.23026038001407456.\n",
      "Total weekly attendance should have mean 23.026038001407457 and variance 17.724053740984854\n",
      "Average attendance: 23.07236\n",
      "Variance of attendance: 17.6919640304\n",
      "P-value: 0.006939807435071935\n"
     ]
    },
    {
     "data": {
      "image/png": "[encoded data removed]",
      "text/plain": [
       "<Figure size 432x288 with 1 Axes>"
      ]
     },
     "metadata": {
      "needs_background": "light"
     },
     "output_type": "display_data"
    }
   ],
   "source": [
    "start = [100, 10, 90, 20]\n",
    "agents = 100\n",
    "strategies = 2\n",
    "trials = 50000\n",
    "seed = 19122334\n",
    "\n",
    "run_test(\n",
    "    start,\n",
    "    agents,\n",
    "    strategies,\n",
    "    trials,\n",
    "    seed\n",
    ")"
   ]
  },
  {
   "cell_type": "code",
   "execution_count": 5,
   "id": "c9aad70c-ee44-4ceb-a2c7-a9ca5f725a95",
   "metadata": {},
   "outputs": [
    {
     "data": {
      "image/png": "[encoded data removed]",
      "text/plain": [
       "<Figure size 432x288 with 1 Axes>"
      ]
     },
     "metadata": {
      "needs_background": "light"
     },
     "output_type": "display_data"
    }
   ],
   "source": [
    "start = [100, 10, 90, 20]\n",
    "plot_errs(start)"
   ]
  },
  {
   "cell_type": "code",
   "execution_count": 17,
   "id": "096e3f83-13d2-47c5-a4e0-a4548ae0b22f",
   "metadata": {},
   "outputs": [
    {
     "data": {
      "text/plain": [
       "4"
      ]
     },
     "execution_count": 17,
     "metadata": {},
     "output_type": "execute_result"
    }
   ],
   "source": [
    "# inspect individual probabilities\n",
    "# do they make sense\n",
    "x_min = -1\n",
    "x_max = 1\n",
    "model = BarModel(start, strategies, x_min, x_max)\n",
    "model.case"
   ]
  },
  {
   "cell_type": "code",
   "execution_count": 18,
   "id": "e00522e7-ef06-4c3d-a2bc-8ecb1cdc73a4",
   "metadata": {},
   "outputs": [
    {
     "data": {
      "text/plain": [
       "0.23026038001407456"
      ]
     },
     "execution_count": 18,
     "metadata": {},
     "output_type": "execute_result"
    }
   ],
   "source": [
    "model.p_go"
   ]
  },
  {
   "cell_type": "code",
   "execution_count": 19,
   "id": "d839edd4-b3bd-420a-8fdc-00fb53a1ce8f",
   "metadata": {},
   "outputs": [
    {
     "data": {
      "text/plain": [
       "0.0"
      ]
     },
     "execution_count": 19,
     "metadata": {},
     "output_type": "execute_result"
    }
   ],
   "source": [
    "model.p_go_optimal"
   ]
  },
  {
   "cell_type": "code",
   "execution_count": 20,
   "id": "229191c0-54f4-4333-9066-beca3a3b5b9c",
   "metadata": {},
   "outputs": [
    {
     "data": {
      "text/plain": [
       "0.0"
      ]
     },
     "execution_count": 20,
     "metadata": {},
     "output_type": "execute_result"
    }
   ],
   "source": [
    "model.p_go_left_side"
   ]
  },
  {
   "cell_type": "code",
   "execution_count": 21,
   "id": "b72a81a0-64ed-455a-879c-f2262f5afd57",
   "metadata": {},
   "outputs": [
    {
     "data": {
      "text/plain": [
       "0.23026038001407456"
      ]
     },
     "execution_count": 21,
     "metadata": {},
     "output_type": "execute_result"
    }
   ],
   "source": [
    "model.p_go_sym"
   ]
  },
  {
   "cell_type": "code",
   "execution_count": 22,
   "id": "7fbd8f29-f851-44fe-a7f6-2707154277a9",
   "metadata": {},
   "outputs": [
    {
     "data": {
      "text/plain": [
       "0.4605207600281491"
      ]
     },
     "execution_count": 22,
     "metadata": {},
     "output_type": "execute_result"
    }
   ],
   "source": [
    "model.p_sym"
   ]
  },
  {
   "cell_type": "code",
   "execution_count": 23,
   "id": "b1b8200c-1f5e-41e4-a54f-8f513e045329",
   "metadata": {},
   "outputs": [
    {
     "data": {
      "text/plain": [
       "0.11724137931034484"
      ]
     },
     "execution_count": 23,
     "metadata": {},
     "output_type": "execute_result"
    }
   ],
   "source": [
    "model.p_left_side"
   ]
  },
  {
   "cell_type": "code",
   "execution_count": 24,
   "id": "92c3d686-fc93-413e-b5d3-f1b09474aef0",
   "metadata": {},
   "outputs": [
    {
     "data": {
      "text/plain": [
       "-0.7655172413793103"
      ]
     },
     "execution_count": 24,
     "metadata": {},
     "output_type": "execute_result"
    }
   ],
   "source": [
    "model.ref_l"
   ]
  },
  {
   "cell_type": "code",
   "execution_count": 26,
   "id": "a0b167e6-dce4-4035-b817-d3cedbabbe86",
   "metadata": {},
   "outputs": [
    {
     "data": {
      "text/plain": [
       "0.11724137931034484"
      ]
     },
     "execution_count": 26,
     "metadata": {},
     "output_type": "execute_result"
    }
   ],
   "source": [
    "(model.ref_l - x_min) / (x_max - x_min)"
   ]
  },
  {
   "cell_type": "code",
   "execution_count": 29,
   "id": "55e73a87-2916-4b13-9521-a8a4eb3fb04a",
   "metadata": {},
   "outputs": [
    {
     "data": {
      "text/plain": [
       "-0.1940886699507389"
      ]
     },
     "execution_count": 29,
     "metadata": {},
     "output_type": "execute_result"
    }
   ],
   "source": [
    "model.t_l"
   ]
  },
  {
   "cell_type": "code",
   "execution_count": 32,
   "id": "a34c4d2d-28fa-4d98-ac5a-539c0a2b0c21",
   "metadata": {},
   "outputs": [
    {
     "data": {
      "text/plain": [
       "0.42857142857142855"
      ]
     },
     "execution_count": 32,
     "metadata": {},
     "output_type": "execute_result"
    }
   ],
   "source": [
    "model.t"
   ]
  },
  {
   "cell_type": "code",
   "execution_count": 33,
   "id": "59b0b8c2-f6d5-4242-a5d7-920ad32a120d",
   "metadata": {},
   "outputs": [
    {
     "data": {
      "text/plain": [
       "0.11724137931034483"
      ]
     },
     "execution_count": 33,
     "metadata": {},
     "output_type": "execute_result"
    }
   ],
   "source": [
    "model.opt_a"
   ]
  },
  {
   "cell_type": "markdown",
   "id": "23d0439b-610a-4f1b-b62b-d48140478016",
   "metadata": {},
   "source": [
    "TODO: Check me more!\n",
    "\n",
    "Make methods for classifying the regions of a and then test your assumptions!"
   ]
  },
  {
   "cell_type": "code",
   "execution_count": 84,
   "id": "0262a288-35c3-48d1-93fc-278230797812",
   "metadata": {},
   "outputs": [
    {
     "name": "stdout",
     "output_type": "stream",
     "text": [
      "reflected thresholds not symmetrical\n"
     ]
    },
    {
     "name": "stderr",
     "output_type": "stream",
     "text": [
      "<ipython-input-79-5e6379fa415a>:93: RuntimeWarning: divide by zero encountered in long_scalars\n",
      "  self.t = (60 - c_2) / (c_1 - c_2)\n",
      "<ipython-input-79-5e6379fa415a>:41: RuntimeWarning: invalid value encountered in double_scalars\n",
      "  assert (np.abs(a - b) < 1e-8).all(), msg\n"
     ]
    },
    {
     "ename": "AttributeError",
     "evalue": "'BarModel' object has no attribute 'case'",
     "output_type": "error",
     "traceback": [
      "\u001b[0;31m---------------------------------------------------------------------------\u001b[0m",
      "\u001b[0;31mAttributeError\u001b[0m                            Traceback (most recent call last)",
      "\u001b[0;32m<ipython-input-84-5347d3305840>\u001b[0m in \u001b[0;36m<module>\u001b[0;34m\u001b[0m\n\u001b[1;32m      9\u001b[0m     \u001b[0mstart\u001b[0m \u001b[0;34m=\u001b[0m \u001b[0mnp\u001b[0m\u001b[0;34m.\u001b[0m\u001b[0mrandom\u001b[0m\u001b[0;34m.\u001b[0m\u001b[0mchoice\u001b[0m\u001b[0;34m(\u001b[0m\u001b[0;36m100\u001b[0m\u001b[0;34m,\u001b[0m \u001b[0msize\u001b[0m\u001b[0;34m=\u001b[0m\u001b[0;34m(\u001b[0m\u001b[0;36m4\u001b[0m\u001b[0;34m,\u001b[0m\u001b[0;34m)\u001b[0m\u001b[0;34m)\u001b[0m\u001b[0;34m\u001b[0m\u001b[0;34m\u001b[0m\u001b[0m\n\u001b[1;32m     10\u001b[0m     \u001b[0mmodel\u001b[0m \u001b[0;34m=\u001b[0m \u001b[0mBarModel\u001b[0m\u001b[0;34m(\u001b[0m\u001b[0mstart\u001b[0m\u001b[0;34m,\u001b[0m \u001b[0mstrategies\u001b[0m\u001b[0;34m,\u001b[0m \u001b[0mx_min\u001b[0m\u001b[0;34m,\u001b[0m \u001b[0mx_max\u001b[0m\u001b[0;34m)\u001b[0m\u001b[0;34m\u001b[0m\u001b[0;34m\u001b[0m\u001b[0m\n\u001b[0;32m---> 11\u001b[0;31m     \u001b[0mcases\u001b[0m\u001b[0;34m.\u001b[0m\u001b[0madd\u001b[0m\u001b[0;34m(\u001b[0m\u001b[0mmodel\u001b[0m\u001b[0;34m.\u001b[0m\u001b[0mcase\u001b[0m\u001b[0;34m)\u001b[0m\u001b[0;34m\u001b[0m\u001b[0;34m\u001b[0m\u001b[0m\n\u001b[0m",
      "\u001b[0;31mAttributeError\u001b[0m: 'BarModel' object has no attribute 'case'"
     ]
    }
   ],
   "source": [
    "# check cases\n",
    "\n",
    "cases = set()\n",
    "strategies = 2\n",
    "\n",
    "for i in range(10000):\n",
    "    if len(cases) == 6 and i >= 1000:\n",
    "        break\n",
    "    start = np.random.choice(100, size=(4,))\n",
    "    model = BarModel(start, strategies, x_min, x_max)\n",
    "    cases.add(model.case)"
   ]
  },
  {
   "cell_type": "code",
   "execution_count": 93,
   "id": "5935f347-d253-4d1e-a2fc-e426998962c9",
   "metadata": {},
   "outputs": [
    {
     "data": {
      "text/plain": [
       "array([92, 21, 97, 97])"
      ]
     },
     "execution_count": 93,
     "metadata": {},
     "output_type": "execute_result"
    }
   ],
   "source": [
    "start"
   ]
  },
  {
   "cell_type": "code",
   "execution_count": 94,
   "id": "e8457f9a-9e42-4ac5-8bb7-b748ebfd5e3c",
   "metadata": {},
   "outputs": [
    {
     "name": "stderr",
     "output_type": "stream",
     "text": [
      "/Users/rebecca/.pyenv/versions/3.9.5/envs/jupyter/lib/python3.9/site-packages/matplotlib/text.py:1215: FutureWarning: elementwise comparison failed; returning scalar instead, but in the future will perform elementwise comparison\n",
      "  if s != self._text:\n"
     ]
    },
    {
     "data": {
      "image/png": "[encoded data removed]",
      "text/plain": [
       "<Figure size 432x288 with 1 Axes>"
      ]
     },
     "metadata": {
      "needs_background": "light"
     },
     "output_type": "display_data"
    }
   ],
   "source": [
    "plot_errs(start)"
   ]
  },
  {
   "cell_type": "code",
   "execution_count": 87,
   "id": "eced422d-31cf-40f0-a435-89304a7f69c6",
   "metadata": {},
   "outputs": [
    {
     "data": {
      "text/plain": [
       "inf"
      ]
     },
     "execution_count": 87,
     "metadata": {},
     "output_type": "execute_result"
    }
   ],
   "source": [
    "model.t_ref"
   ]
  },
  {
   "cell_type": "code",
   "execution_count": 88,
   "id": "6168b908-d165-403b-ae5f-84bd9d145bbc",
   "metadata": {},
   "outputs": [
    {
     "data": {
      "text/plain": [
       "5801"
      ]
     },
     "execution_count": 88,
     "metadata": {},
     "output_type": "execute_result"
    }
   ],
   "source": [
    "err(start, 0)"
   ]
  },
  {
   "cell_type": "code",
   "execution_count": 89,
   "id": "3311d721-9eb9-46f5-af36-f105569ea5a2",
   "metadata": {},
   "outputs": [
    {
     "data": {
      "text/plain": [
       "27460"
      ]
     },
     "execution_count": 89,
     "metadata": {},
     "output_type": "execute_result"
    }
   ],
   "source": [
    "err(start, -1)"
   ]
  },
  {
   "cell_type": "code",
   "execution_count": 90,
   "id": "5033f453-8311-4c5a-a2a8-9516afd0976d",
   "metadata": {},
   "outputs": [
    {
     "data": {
      "text/plain": [
       "3189.92"
      ]
     },
     "execution_count": 90,
     "metadata": {},
     "output_type": "execute_result"
    }
   ],
   "source": [
    "err(start, 0.6)"
   ]
  },
  {
   "cell_type": "code",
   "execution_count": 91,
   "id": "c2e5cb87-12e8-44ca-bb0e-6118a742f684",
   "metadata": {},
   "outputs": [
    {
     "data": {
      "text/plain": [
       "False"
      ]
     },
     "execution_count": 91,
     "metadata": {},
     "output_type": "execute_result"
    }
   ],
   "source": [
    "model.increasing"
   ]
  }
 ],
 "metadata": {
  "kernelspec": {
   "display_name": "Python 3",
   "language": "python",
   "name": "python3"
  },
  "language_info": {
   "codemirror_mode": {
    "name": "ipython",
    "version": 3
   },
   "file_extension": ".py",
   "mimetype": "text/x-python",
   "name": "python",
   "nbconvert_exporter": "python",
   "pygments_lexer": "ipython3",
   "version": "3.9.5"
  }
 },
 "nbformat": 4,
 "nbformat_minor": 5
}
