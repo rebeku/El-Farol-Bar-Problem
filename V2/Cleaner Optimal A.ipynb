{
 "cells": [
  {
   "cell_type": "code",
   "execution_count": null,
   "id": "86484fde-00c5-43f5-9e89-32cb1d63eea3",
   "metadata": {},
   "outputs": [],
   "source": []
  },
  {
   "cell_type": "markdown",
   "id": "b58b8a12-132e-42e0-95d5-22f910993d73",
   "metadata": {},
   "source": [
    "# Summary\n",
    "Suppose the strategies are unbiased estimators of the form $\\hat{N}(t) = a_1(C_{t-1}) + (1 - a_1)(C_{t-2})$ where $a_1$ is uniformly distributed between $x_{min}$ and $x_{max}$.  Using a memory window of length of 2, agents select an estimator as a function of the memory window $[C_4, C_3, C_2, C_1]$.  The estimator whose predictions for $C_1$ and $C_2$ have the lowest squared error is selected.  Each agent has $s$ strategies to pick from.\n",
    "\n",
    "To find the probability that an agent attends the bar given a fixed strategy window depends on some intermediate variables that we can compute from the strategy distribution.  The attendance threshold, $t$, is given by\n",
    "\n",
    "$$\n",
    "t = \\frac{60 - C_2}{C_1 - C_2}\n",
    "$$\n",
    "\n",
    "The probability that an arbitrary $a$ is less than $t$ is given by\n",
    "\n",
    "$$q = \\frac{t - x_{min}}{x_{max} - x_{min}}$$\n",
    "\n",
    "Note that \n",
    "$$1 - q = \\frac{x_{max} - t}{x_{max} - x_{min}}$$\n",
    "\n",
    "\n",
    "The optimal $a$ that minimizes prediction error is\n",
    "$$\n",
    "a_0 = - \\frac{(C_2 - C_3)(C_3 - C_1) + (C_3 - C_4)(C_4 - C_2)} {(C_2 - C_3)^2 + (C_3 - C_4)^2}\n",
    "$$\n",
    "\n",
    "In addition, the probability of an agent attending the bar may depend on the reflection of $x_{min}$ and $x_{max}$ across the threshold.  We let $r_\\ell$ denote the reflection of $x_{max}$ across $a_0$.  Note that $r_\\ell < a_0$ whenever $a_0$ is inside the window.  Likewise, let denote $r_r$ denote the reflection of $x_{min}$ across $a_0$.  Thus, $r_r$ will be to the right of $a_0$ whenever $a_0$ is in the window.  Then\n",
    "\n",
    "$$\n",
    "\\begin{aligned}\n",
    "r_\\ell &= 2a_0 - x_{max} \\\\\n",
    "&= -2 \\frac{(C_2 - C_3)(C_3 - C_1) + (C_3 - C_4)(C_4 - C_2)} {(C_2 - C_3)^2 + (C_3 - C_4)^2} - x_{max}\n",
    "\\end{aligned}\n",
    "$$\n",
    "\n",
    "and \n",
    "\n",
    "$$\n",
    "\\begin{aligned}\n",
    "r_r &= 2a_0 - x_{min} \\\\\n",
    "&= -2 \\frac{(C_2 - C_3)(C_3 - C_1) + (C_3 - C_4)(C_4 - C_2)} {(C_2 - C_3)^2 + (C_3 - C_4)^2} - x_{min}\n",
    "\\end{aligned}\n",
    "$$"
   ]
  },
  {
   "cell_type": "markdown",
   "id": "866063f9-b055-41c8-9554-2e60a3216986",
   "metadata": {
    "tags": []
   },
   "source": [
    "The probability that an agent will attend the bar should be\n",
    "\n",
    "$$\n",
    "p = \\begin{cases}\n",
    " 1 && (C_1 = C_2) \\wedge (C_1 < 60)  && \\text{(1) all predictions equal} \\\\\n",
    " 1 && (t < x_{min}) \\wedge (C_1 < C_2) && \\text{(2) threshold outside window}\\\\\n",
    " 1 && (t > x_{max}) \\wedge (C_1 > C_2) && \\text{(3) threshold outside window}\\\\\n",
    " 0 && (C_1 = C_2) \\wedge (C_1 > 60) && \\text{(4) all predictions equal} \\\\\n",
    " 0 && (t < x_{min}) \\wedge (C_1 < C_2) && \\text{(5) threshold outside window}\\\\\n",
    " 0 && (t > x_{max}) \\wedge (C_1 < C_2) && \\text{(6) threshold outside window}\\\\\n",
    "q && (C_2 = C_3 = C_4) \\wedge (C_1 > C_2) && \\text{(7) error function flat}\\\\\n",
    "1 - q && (C_2 = C_3 = C_4) \\wedge (C_1 < C_2) &&\\text{(8) error function flat}\\\\\n",
    "1 - q^s && t < r_\\ell \\wedge (C_1 < C_2)  &&\\text{(9) no symmetric region}\\\\\n",
    "q^s && t < r_\\ell \\wedge (C_1 > C_2) &&\\text{(10) no symmetric region}\\\\\n",
    "1 - (1 - q)^s && t > r_r \\wedge C_1 > C_2 &&\\text{(11) no symmetric region}\\\\\n",
    "(1 - q)^s&& t > r_r \\wedge C_1 < C_2 &&\\text{(12) no symmetric region} \\\\\n",
    "1 - \\frac{1}{2} (1 - 2\\frac{|t - a_0|}{x_{max} - x_{min}})^s - \\frac{1}{2} \\big( \\frac{r_\\ell - x_{min}} {x_{max} - x_{min}} \\big)^s && \n",
    "    (x_{min} \\leq r_\\ell \\leq t < a_0) \\wedge (C_1 < C_2) && \\text{(13) left asym, bottom goes}\\\\\n",
    "1 - \\frac{1}{2} (1 - 2\\frac{|t - a_0|}{x_{max} - x_{min}})^s + \\frac{1}{2} \\big( \\frac{r_\\ell - x_{min}} {x_{max} - x_{min}} \\big)^s && \n",
    "    (x_{min} \\leq r_\\ell \\leq t) \\wedge (t > a_0) \\wedge (C_1 > C_2) && \\text{(14) left asym, bottom and left go} \\\\ \n",
    "\\frac{1}{2} (1 - 2\\frac{|t - a_0|}{x_{max} - x_{min}})^s - \\frac{1}{2} \\big( \\frac{r_\\ell - x_{min}} {x_{max} - x_{min}} \\big)^s && \n",
    "    (x_{min} \\leq r_\\ell \\leq t) \\wedge (t > a_0) \\wedge (C_1 < C_2) && \\text{(15) left asym, only symmetric goes} \\\\\n",
    "\\frac{1}{2} (1 - 2\\frac{|t - a_0|}{x_{max} - x_{min}})^s + \\frac{1}{2} \\big( \\frac{r_\\ell - x_{min}} {x_{max} - x_{min}} \\big)^s && \n",
    "    (x_{min} \\leq r_\\ell \\leq t < a_0) \\wedge (C_1 > C_2) && \\text{(16) left asym, left goes} \\\\   \n",
    "1 - \\frac{1}{2} (1 - 2\\frac{|t - a_0|}{x_{max} - x_{min}})^s - \\frac{1}{2} \\big( \\frac{ x_{max} - r_r} {x_{max} - x_{min}} \\big)^s && \n",
    "    (a_0 < t \\leq r_r < x_{max}) \\wedge (C_1 > C_2) && \\text{(17) right asym, bottom goes} \\\\\n",
    "1 - \\frac{1}{2} (1 - 2\\frac{|t - a_0|}{x_{max} - x_{min}})^s + \\frac{1}{2} \\big( \\frac{ x_{max} - r_r} {x_{max} - x_{min}} \\big)^s && \n",
    "    (t \\leq r_r < x_{max}) \\wedge (t < a_0) \\wedge (C_1 < C_2) && \\text{(18) right asym, bottom, right go} \\\\\n",
    "\\frac{1}{2} (1 - 2\\frac{|t - a_0|}{x_{max} - x_{min}})^s - \\frac{1}{2} \\big( \\frac{x_{max} - r_r} {x_{max} - x_{min}} \\big)^s && \n",
    "    (a_0 < t \\leq r_r < x_{max}) \\wedge (C_1 < C_2) && \\text{(19) right asym, only symmetric goes} \\\\\n",
    "\\frac{1}{2} (1 - 2\\frac{|t - a_0|}{x_{max} - x_{min}})^s + \\frac{1}{2} \\big( \\frac{x_{max} - r_r} {x_{max} - x_{min}} \\big)^s && \n",
    "    (t \\leq r_r < x_{max}) \\wedge (t < a_0) \\wedge (C_1 > C_2) && \\text{(20) right asym, right goes} \\\\\n",
    "\\end{cases}\n",
    "$$"
   ]
  },
  {
   "cell_type": "markdown",
   "id": "cde5b5b3-6147-40dd-ae38-000e6953e6ce",
   "metadata": {},
   "source": [
    "The whole situation is a Markov process on the state space of history windows.  But this state space is big.  Can we get some insights by considering which cases will then lead to which other states?  Some may be unreachable.  Perhaps we can find an attractor where the system is drawn to a smaller subset of cases (probably the messiest!).\n",
    "\n",
    "Let's go in order so we do the easy ones first\n",
    "\n",
    "## (1) $C_1 = C_2 \\wedge C_1 < 60$\n",
    "\n",
    "In this case, the next window will look like $[y, x, x, 100]$, where $x < 60$ and $y$ could be anything.  So we will have $C_1 = 100 > C_2$.  The threshold will be at\n",
    "\n",
    "$$\n",
    "\\frac{60 - 100}{100 - x} = \\frac{-40}{100 - x} > \\frac{-40}{40} = -1\n",
    "$$\n",
    "\n",
    "and \n",
    "$$\n",
    "\\frac{60 - 100}{100 - x} = \\frac{-40}{100 - x} < \\frac{-40}{100} = -0.4\n",
    "$$\n",
    "\n",
    "So\n",
    "\n",
    "$$ -1 < t < - 0.4$$\n",
    "\n",
    "If $x_{min} > -0.4$ we will get $[x,x,100,0]$ since $C_1 > C_2$ and thus the predictor is increasing.  \n",
    "\n",
    "However, using the window $[-1,1]$, as we did in the simulation, we end up with $x_{min} < t < x_{max}$ and thus the threshold is within the window.  We will have\n",
    "\n",
    "$$\n",
    "\\begin{aligned}\n",
    "a_0 &= - \\frac{(x - x)(x - 100) + (x - y)(y - x)} {(x - x)^2 + (x - y)^2} \\\\\n",
    "&= \\frac{(x - y)^2}{(x-y)^2} \\\\\n",
    "&= 1\n",
    "\\end{aligned}\n",
    "$$\n",
    "\n",
    "This will mean that\n",
    "\n",
    "$$\n",
    "r_\\ell = 2a_0 - x_{max} = 1\n",
    "$$\n",
    "\n",
    "and \n",
    "$$\n",
    "r_r = 2a_0 - x_{min} = 3\n",
    "$$\n",
    "\n",
    "This brings us to the case (10) $(t < r_\\ell) \\wedge (C_1 > C_2)$."
   ]
  },
  {
   "cell_type": "markdown",
   "id": "426000f1-3162-42cb-9962-355903205de5",
   "metadata": {},
   "source": [
    "## (2) $t < x_{min} \\wedge (C_1 < C_2)$\n",
    "\n",
    "Once again. agents attend with probability 1 so the next window will look like $[x, y, z, 100]$ where $z > y$. We also know that \n",
    "\n",
    "$$\n",
    "\\begin{aligned}\n",
    "\\frac{60-y}{z - y} &< x_{min} \\\\\n",
    "60 - y &< x_{min}(z - y) \\\\\n",
    "y &< \\frac{x_{min} z - 60}{x_{min} - 1}\n",
    "\\end{aligned}\n",
    "$$\n",
    "\n",
    "Is this useful?  Probably not.\n",
    "\n",
    "Anyway, the threshold will be\n",
    "\n",
    "$$t = \\frac{60 - z} {y - z}$$\n",
    "\n",
    "So\n",
    "\n",
    "$$\n",
    "\\begin{aligned}\n",
    "y - z &< \\frac{x_{min} z - 60}{x_{min} - 1} - z \\\\\n",
    "y - z &< \\frac{-60 - z}{x_{min} - 1}\n",
    "\\end{aligned}\n",
    "$$\n",
    "\n",
    "and thus\n",
    "\n",
    "$$\n",
    "t > \\frac{(60 - z)(x_{min} - 1)}{-60 - z}\n",
    "$$"
   ]
  },
  {
   "cell_type": "markdown",
   "id": "a834b168-3abc-49c5-9081-8edf716b2008",
   "metadata": {},
   "source": []
  },
  {
   "cell_type": "code",
   "execution_count": null,
   "id": "2611cea5-8c32-468a-9cb9-3c94891c7587",
   "metadata": {},
   "outputs": [],
   "source": []
  },
  {
   "cell_type": "code",
   "execution_count": null,
   "id": "0e7af208-2a68-4993-b72c-29945b8641fd",
   "metadata": {},
   "outputs": [],
   "source": []
  },
  {
   "cell_type": "code",
   "execution_count": null,
   "id": "0e1afeaf-2e0a-4731-ba4e-fc39678181ce",
   "metadata": {},
   "outputs": [],
   "source": []
  },
  {
   "cell_type": "code",
   "execution_count": null,
   "id": "9f5b581e-7c72-4302-bba8-39260ef94ca9",
   "metadata": {},
   "outputs": [],
   "source": []
  },
  {
   "cell_type": "code",
   "execution_count": null,
   "id": "651152c8-869f-4054-9e7e-6ef3ec31ea82",
   "metadata": {},
   "outputs": [],
   "source": []
  },
  {
   "cell_type": "code",
   "execution_count": null,
   "id": "ac886b0e-33bc-442c-86a3-cf48520173e1",
   "metadata": {},
   "outputs": [],
   "source": []
  },
  {
   "cell_type": "code",
   "execution_count": null,
   "id": "72e9539a-7e7b-4553-8129-69ca555c4eda",
   "metadata": {},
   "outputs": [],
   "source": []
  },
  {
   "cell_type": "code",
   "execution_count": null,
   "id": "18f1b3f9-37aa-4f5b-affb-59ca10d2b77a",
   "metadata": {},
   "outputs": [],
   "source": []
  },
  {
   "cell_type": "code",
   "execution_count": 275,
   "id": "fd9fa690-a4e7-4cb7-b3d0-6abeaf34d518",
   "metadata": {},
   "outputs": [],
   "source": [
    "import numpy as np\n",
    "import pandas as pd\n",
    "from matplotlib import pyplot as plt\n",
    "from scipy.stats import binom\n",
    "\n",
    "\n",
    "def err(hist, a):\n",
    "    [c_4, c_3, c_2, c_1] = hist\n",
    "    return (c_3 - c_1 + (c_2 - c_3) * a)**2 + (c_4 - c_2 + (c_3 - c_4) * a)**2\n",
    "\n",
    "\n",
    "def pred(hist, a):\n",
    "    [c_4, c_3, c_2, c_1] = hist\n",
    "    return a * c_1 + (1 - a) * c_2\n",
    "\n",
    "\n",
    "def plot_errs(hist):\n",
    "    x = np.arange(-1, 1.01, 0.01)\n",
    "    y = err(hist, x)\n",
    "    going = pred(hist, x)\n",
    "\n",
    "    mask = np.where(going < 60)\n",
    "    plt.plot(x[mask],y[mask], color=\"blue\")\n",
    "\n",
    "    mask = np.where(going >= 60)\n",
    "    plt.plot(x[mask],y[mask], color=\"orange\")\n",
    "\n",
    "    plt.xlabel(\"a\")\n",
    "    plt.ylabel(\"Error\")\n",
    "    plt.legend([\"going\", \"not going\"])\n",
    "    _ = plt.title(hist)\n",
    "    \n",
    "    \n",
    "def binom_p_value(k, n, p):\n",
    "    if k < n * p:\n",
    "        return binom.cdf(k, n, p)\n",
    "    else:\n",
    "        return binom.sf(k, n, p)\n",
    "\n",
    "    \n",
    "def assert_equal(a, b, msg):\n",
    "    assert (np.abs(a - b) < 1e-6).all(), msg\n",
    "    \n",
    "\n",
    "def assert_less(a, b, msg):\n",
    "    assert (a - b < 1e-6).all(), msg\n",
    "\n",
    "    \n",
    "def assert_geq(a,b,msg):\n",
    "    assert (a - b > -1e-6).all(), msg\n",
    "\n",
    "\n",
    "class BarModel:\n",
    "    def __init__(\n",
    "        self,\n",
    "        hist, \n",
    "        s, \n",
    "        x_min, \n",
    "        x_max\n",
    "    ):\n",
    "        try:\n",
    "            self.predict(hist, s, x_min, x_max)\n",
    "        except AssertionError as E:\n",
    "            self.error = E\n",
    "            print(E)\n",
    "        \n",
    "    def predict(self, hist, s, x_min, x_max):\n",
    "        # write the errors as a quadratic eqation\n",
    "        [c_4, c_3, c_2, c_1] = hist\n",
    "\n",
    "        self.a_1 = (c_2 - c_3)**2 + (c_3 - c_4)**2\n",
    "        self.a_2 = 2 * ((c_2 - c_3) * (c_3 - c_1) + (c_3 - c_4) * (c_4 - c_2))\n",
    "        self.a_3 = (c_3 - c_1)**2 + (c_4 - c_2)**2\n",
    "\n",
    "        # check work\n",
    "        x = np.arange(-1, 1.01, 0.01)\n",
    "        y = err(hist, x)\n",
    "        y_2 = (self.a_1 * x**2 + self.a_2 * x + self.a_3)\n",
    "\n",
    "        assert_equal( (y_2 - y).max(), 0, \"Check your coefficients!\")\n",
    "        \n",
    "        # check for degenerate  case\n",
    "        # when prediction is a constant\n",
    "        # equal to c_1\n",
    "        if c_1 == c_2:\n",
    "            if c_1 < 60:\n",
    "                self.p_go = 1\n",
    "                self.case = 1\n",
    "            else:\n",
    "                self.p_go = 0\n",
    "                self.case = 4\n",
    "            return\n",
    "        \n",
    "        # threshold\n",
    "        self.t = (60 - c_2) / (c_1 - c_2)\n",
    "\n",
    "        # whether or not prediction is increasing\n",
    "        # determines which regions of the map are going\n",
    "        # this inequality follows from the predictor\n",
    "        # for time t\n",
    "        self.increasing = c_1 > c_2\n",
    "        \n",
    "        # threshold lower than entire window\n",
    "        if self.t <= x_min:\n",
    "            if self.increasing:\n",
    "                self.p_go = 0\n",
    "                self.case = 5\n",
    "            else:\n",
    "                self.p_go = 1\n",
    "                self.case = 2\n",
    "            return\n",
    "        \n",
    "        # threshold above entire window\n",
    "        if self.t >= x_max:\n",
    "            if self.increasing:\n",
    "                self.p_go = 1\n",
    "                self.case = 3\n",
    "            else:\n",
    "                self.p_go = 0\n",
    "                self.case = 6\n",
    "            return\n",
    "        \n",
    "        \n",
    "        self.q = (self.t - x_min) / (x_max - x_min)\n",
    "        \n",
    "        # when err function is a constant\n",
    "        # when a_1 is 0, a_2 should also be 0\n",
    "        # so this is convenient\n",
    "        if self.a_1 == 0:\n",
    "            assert self.a_2 == 0\n",
    "    \n",
    "            if self.increasing:\n",
    "                self.p_go = self.q\n",
    "                self.case = 7\n",
    "            else:\n",
    "                self.p_go = 1 - self.q\n",
    "                self.case = 8\n",
    "            return\n",
    "            \n",
    "        # optimal A is min of error curve\n",
    "        self.opt_a = -self.a_2 / (2*self.a_1)\n",
    "\n",
    "        assert_geq (y.min(), err(hist, self.opt_a), \"Opt_a isn't minimum!\")\n",
    "\n",
    "        \n",
    "        # is the bottom part going\n",
    "        inc_going = self.increasing and self.t > self.opt_a\n",
    "        dec_going = not self.increasing and self.t <= self.opt_a\n",
    "        self.bottom_part_going = inc_going or dec_going\n",
    "        \n",
    "        # find coordinates of bottom region\n",
    "        # reflection of threshold about *opt_a*\n",
    "        self.t_ref  = 2 * self.opt_a - self.t\n",
    "\n",
    "        assert_equal(self.opt_a - self.t_ref, self.t - self.opt_a, \"reflected thresholds not symmetrical\")\n",
    "        \n",
    "        # to get the bottom part we need the left-hand\n",
    "        # and right-hand sides of the threshold\n",
    "        self.t_l = min(self.t, self.t_ref)\n",
    "        self.t_r = max(self.t, self.t_ref)\n",
    "\n",
    "        assert_equal(self.opt_a - self.t_l, self.t_r - self.opt_a, \"right and left thresholds not symmetrical\")\n",
    "        \n",
    "        # reflection of LHS of window across threshold\n",
    "        # this is the righthand boundary of the symmetric region\n",
    "        self.ref_r = 2 * self.opt_a - x_min\n",
    "\n",
    "        assert_equal(self.opt_a - x_min, self.ref_r - self.opt_a, \"ref_r not symmetrical\")\n",
    "\n",
    "        # reflection of RHS of window across threshold\n",
    "        # this is the lefthand boundary of the symmetric region\n",
    "        self.ref_l = 2 * self.opt_a - x_max\n",
    "\n",
    "        assert_equal(x_max - self.opt_a, self.opt_a - self.ref_l, \"ref_l not symmetrical\")\n",
    "\n",
    "        \n",
    "        # For the remaining cases we can now\n",
    "        # assume that threshold is inside of\n",
    "        # the window\n",
    "\n",
    "        # threshold to the left of all points other \n",
    "        # interesting things.\n",
    "        # agents will always pick a > t\n",
    "        # when possible\n",
    "        if self.t < self.ref_l:\n",
    "            # the probability that any is in the optimal region\n",
    "            if self.increasing:\n",
    "                self.p_go = self.q**s\n",
    "                self.case = 10\n",
    "            else:\n",
    "                self.p_go = 1 - self.q**s\n",
    "                self.case = 9\n",
    "            return\n",
    "        \n",
    "        # threshold within window\n",
    "        # but to the right of all points other \n",
    "        # interesting things.\n",
    "        # agents will always pick a <= t\n",
    "        # when possible        \n",
    "        if self.t > self.ref_r:\n",
    "            if self.increasing:\n",
    "                self.p_go = 1 - (1 - self.q)**s\n",
    "                self.case = 11\n",
    "            else:\n",
    "                self.p_go = (1 - self.q)**s\n",
    "                self.case = 12\n",
    "            return\n",
    "                \n",
    "        # the remaining cases have a bottom region where the threshold\n",
    "        # is closer to opt_a than either reflected boundary.  The bottom\n",
    "        # region is the reflection of the threshold about opt_a.  The symmetric\n",
    "        # region is the area between the reflected threshold and reflected\n",
    "        # boundaries, where there is no preference between strategies\n",
    "        # that attend the bar and those that do not.\n",
    "        self.p_anything_bottom = 1 - (1 - 2 * np.abs(self.t - self.opt_a) / (x_max - x_min))**s\n",
    "        \n",
    "        # asymmetric region is on left\n",
    "        if x_min <= self.ref_l:\n",
    "            self.p_all_left_asym = ((self.ref_l - x_min) / (x_max - x_min))**s\n",
    "            self.p_sym = 1 - self.p_anything_bottom - self.p_all_left_asym\n",
    "            \n",
    "            assert_geq(self.p_sym, 0, f\"Negative probability of {self.p_sym}!  Oh no!\")\n",
    "            \n",
    "            # bottom goes, left side doesn't\n",
    "            if self.t < self.opt_a and not self.increasing:\n",
    "                self.case = 13\n",
    "                self.p_go = self.p_anything_bottom + 0.5 * self.p_sym\n",
    "                \n",
    "            # bottom and left side go\n",
    "            elif self.t > self.opt_a and self.increasing:\n",
    "                self.case = 14\n",
    "                self.p_go = 1 - 0.5 * self.p_sym\n",
    "                \n",
    "            # only symmetric region can go\n",
    "            elif self.t > self.opt_a:\n",
    "                self.case = 15\n",
    "                self.p_go = 0.5 * self.p_sym\n",
    "                \n",
    "            # left side goes, bottom does not\n",
    "            else:\n",
    "                self.case = 16\n",
    "                self.p_go = 0.5 * self.p_sym + self.p_all_left_asym\n",
    "                \n",
    "            return\n",
    "                \n",
    "        if x_max > self.ref_r:\n",
    "            self.p_all_right_asym = ((x_max - self.ref_r) / (x_max - x_min))**s\n",
    "            self.p_sym = 1 - self.p_anything_bottom - self.p_all_right_asym\n",
    "            \n",
    "            assert_geq(self.p_sym, 0, f\"Negative probability of {self.p_sym}!  Fiddlesticks!\")\n",
    "            \n",
    "            # bottom goes, right side doesn't\n",
    "            if self.t > self.opt_a and self.increasing:\n",
    "                self.p_go = self.p_anything_bottom + 0.5 *self.p_sym\n",
    "                self.case = 17\n",
    "                \n",
    "            # bottom and right side go\n",
    "            elif self.t < self.opt_a and not self.increasing:\n",
    "                self.p_go = 1 - 0.5 * self.p_sym\n",
    "                self.case = 18\n",
    "                \n",
    "            # right side goes, bottom doesn't\n",
    "            elif self.t > self.opt_a and not self.increasing:\n",
    "                self.p_go = self.p_all_right_asym + 0.5 * self.p_sym\n",
    "                self.case = 19\n",
    "                \n",
    "            # only symmetric region can go\n",
    "            elif self.t < self.opt_a and self.increasing:\n",
    "                self.p_go = 0.5 * self.p_sym\n",
    "                self.case = 20\n",
    "                \n",
    "            else:\n",
    "                assert False, \"WTF???\"\n",
    "            return\n",
    "        else:\n",
    "            assert False, \"Missing case!\"\n",
    "\n",
    "\n",
    "def make_strategies(rng, strategies, memory):\n",
    "    # weights should sum to 1\n",
    "    # essentially, we are partitioning the [0,1] interval\n",
    "    # and taking the size of each sub-interval\n",
    "    # TODO: add negative weights?\n",
    "    w = rng.uniform(-1, 1, size=(strategies, memory-1))\n",
    "    w.sort(axis=1)\n",
    "    offsets = np.hstack([w[:, :], np.ones(shape=(strategies,1))])\n",
    "    return offsets - np.hstack([np.zeros(shape=(strategies,1)), w[:, :]])\n",
    "\n",
    "def run_test(\n",
    "    start,\n",
    "    agents,\n",
    "    strategies,\n",
    "    trials,\n",
    "    seed\n",
    "):\n",
    "    # number of weeks back in predictor function\n",
    "    # AND number of weeks back to look when selecting a predictor\n",
    "    memory = 2\n",
    "    # number of rounds to run the simulation\n",
    "    n_iter = 1\n",
    "    threshold = 60\n",
    "    \n",
    "    x_min = -1\n",
    "    x_max = 1\n",
    "    \n",
    "    model = BarModel(start, strategies, x_min, x_max)\n",
    "    p = model.p_go\n",
    "    print(f\"Case: {model.case}\")\n",
    "    print(f\"We expect agents to attend with probability {p}.\")\n",
    "    print(f\"Total weekly attendance should have mean {agents * p} and variance {agents * p * (1-p)}\")\n",
    "    \n",
    "    results = np.empty(trials)\n",
    "\n",
    "    rng = np.random.default_rng(seed)\n",
    "\n",
    "    for tr in range(trials):\n",
    "        # each row is a strategy\n",
    "        strats = [\n",
    "            make_strategies(rng, strategies, memory) for _ in range(agents)\n",
    "        ]\n",
    "\n",
    "        # weekly attendance count\n",
    "        # the first 2*memory weeks are randomly generated\n",
    "        # to seed the strategies\n",
    "        hist = np.hstack([start, np.zeros(n_iter)]).astype(int)\n",
    "\n",
    "        # index of week\n",
    "        # we need some starting history to begin making selections\n",
    "        t = memory * 2\n",
    "\n",
    "        # Record the index of the optimal strategy \n",
    "        # on each iteration.\n",
    "        # each row corresponds to an agent\n",
    "        # each column corresponds to a week\n",
    "        best_strats = np.zeros((agents, len(hist)))\n",
    "\n",
    "        # record each agent's prediction on each iteration\n",
    "        pred_history = np.zeros((agents, len(hist)))\n",
    "\n",
    "        # construct time windows for evaluating strategies\n",
    "\n",
    "        # The columns begin at\n",
    "        # t - m - 1 \n",
    "        # t - m\n",
    "        # ...\n",
    "        # t - 1\n",
    "        # t\n",
    "        # as you go down the column you are looking back\n",
    "        # to that week's history.\n",
    "        # so the column beginning at *t - m - 1*\n",
    "        # generates the prediction for week *t - m*\n",
    "        # and the rightmost column generates a\n",
    "        # prediction for next week.\n",
    "        windows = np.vstack([\n",
    "            hist[t-memory-i-1: t-i]\n",
    "            for i in range(memory)\n",
    "        ])\n",
    "\n",
    "        for agent in range(agents):\n",
    "            strat = strats[agent]\n",
    "            # each row is a strategy\n",
    "            # each column is predicted attendance\n",
    "            # in increasing order.\n",
    "            # the last column has the prediction for\n",
    "            # next week\n",
    "            predictions = strat.dot(windows)\n",
    "\n",
    "            # these are the observations that we use to\n",
    "            # to test our predictions.\n",
    "            # note that the observation from column 0\n",
    "            # is not used since its prediction would come\n",
    "            # from a previous week's history.\n",
    "            observations = windows[0, 1:]\n",
    "\n",
    "            # calculate the absolute error of predictions\n",
    "            # here, we discard the rightmost prediction as\n",
    "            # this is the prediction for the future.\n",
    "            # if we knew the correct answer for that,\n",
    "            # we wouldn't need to predict it!\n",
    "            errs = ((predictions[:, :-1] - observations)**2).sum(axis=1)\n",
    "\n",
    "            best_strat = np.argmin(errs)\n",
    "            best_strats[agent, t] = best_strat\n",
    "\n",
    "            pred = strat[best_strat].dot(windows[:,-1])\n",
    "            pred_history[agent, t] = pred\n",
    "\n",
    "        hist[t] = (pred_history[:, t] < threshold).sum()\n",
    "        results[tr] = hist[t]\n",
    "\n",
    "    plt.figure()\n",
    "    plt.hist(results)\n",
    "\n",
    "    print(f\"Average attendance: {results.mean()}\")\n",
    "    print(f\"Variance of attendance: {results.var()}\")\n",
    "    \n",
    "    # individual trials have attendance distributed\n",
    "    # binom(agents, p)\n",
    "    \n",
    "    # attendance of the full experiment should be distributed\n",
    "    # binom(trials * agents, p)\n",
    "    \n",
    "    n = trials * agents\n",
    "    print(f\"P-value: {binom_p_value(results.sum(), n, p)}\")"
   ]
  },
  {
   "cell_type": "code",
   "execution_count": 71,
   "id": "656ded2d-4258-40ce-af0a-ec513ef0a3f3",
   "metadata": {},
   "outputs": [
    {
     "data": {
      "text/plain": [
       "{3: array([ 0, 69, 21, 31]),\n",
       " 13: array([98, 12, 59, 32]),\n",
       " 17: array([43, 93, 19, 78]),\n",
       " 15: array([74,  1, 90, 19]),\n",
       " 6: array([31, 29, 98, 94]),\n",
       " 19: array([29, 40, 64, 18]),\n",
       " 11: array([39, 86,  0, 90]),\n",
       " 9: array([45, 75, 65, 26]),\n",
       " 10: array([16, 11, 74, 89]),\n",
       " 2: array([24, 97, 22,  1]),\n",
       " 5: array([72,  0, 90, 99]),\n",
       " 4: array([ 7, 83, 95, 95]),\n",
       " 12: array([77, 68, 90, 29]),\n",
       " 16: array([37,  0, 51, 65]),\n",
       " 14: array([14, 99, 16, 77]),\n",
       " 1: array([87, 89,  0,  0]),\n",
       " 18: array([46,  1, 54,  5]),\n",
       " 20: array([77, 77, 67, 79]),\n",
       " 7: array([ 9,  9,  9, 77]),\n",
       " 8: array([71, 71, 71,  4])}"
      ]
     },
     "execution_count": 71,
     "metadata": {},
     "output_type": "execute_result"
    }
   ],
   "source": [
    "# save an example of each case for testing\n",
    "cases = dict()\n",
    "strategies = 2\n",
    "rng = np.random.default_rng(27)\n",
    "x_min = -1\n",
    "x_max = 1\n",
    "\n",
    "n_iter = 0\n",
    "while n_iter < 10000 or len(cases) < 20:\n",
    "    n_iter += 1\n",
    "    start = rng.choice(100, size=(4,))\n",
    "    model = BarModel(start, strategies, x_min, x_max)\n",
    "    \n",
    "    if model.case not in cases:\n",
    "        cases[model.case] = start\n",
    "    \n",
    "cases"
   ]
  },
  {
   "cell_type": "code",
   "execution_count": 72,
   "id": "0b25cbd3-7bc0-43b8-89d3-463ac0313113",
   "metadata": {},
   "outputs": [
    {
     "name": "stdout",
     "output_type": "stream",
     "text": [
      "Case: 1\n",
      "We expect agents to attend with probability 1.\n",
      "Total weekly attendance should have mean 100 and variance 0\n",
      "Average attendance: 100.0\n",
      "Variance of attendance: 0.0\n",
      "P-value: 0.0\n"
     ]
    },
    {
     "data": {
      "image/png": "[encoded data removed]",
      "text/plain": [
       "<Figure size 432x288 with 1 Axes>"
      ]
     },
     "metadata": {
      "needs_background": "light"
     },
     "output_type": "display_data"
    }
   ],
   "source": [
    "agents = 100\n",
    "strategies = 2\n",
    "trials = 2000\n",
    "seed = 5678\n",
    "\n",
    "start = cases[1]\n",
    "\n",
    "run_test(\n",
    "    start,\n",
    "    agents,\n",
    "    strategies,\n",
    "    trials,\n",
    "    seed\n",
    ")"
   ]
  },
  {
   "cell_type": "code",
   "execution_count": 73,
   "id": "8ab15c19-9e43-41f5-83f0-5793e2711b2f",
   "metadata": {},
   "outputs": [
    {
     "name": "stdout",
     "output_type": "stream",
     "text": [
      "Case: 2\n",
      "We expect agents to attend with probability 1.\n",
      "Total weekly attendance should have mean 100 and variance 0\n",
      "Average attendance: 100.0\n",
      "Variance of attendance: 0.0\n",
      "P-value: 0.0\n"
     ]
    },
    {
     "data": {
      "image/png": "[encoded data removed]",
      "text/plain": [
       "<Figure size 432x288 with 1 Axes>"
      ]
     },
     "metadata": {
      "needs_background": "light"
     },
     "output_type": "display_data"
    }
   ],
   "source": [
    "start = cases[2]\n",
    "\n",
    "run_test(\n",
    "    start,\n",
    "    agents,\n",
    "    strategies,\n",
    "    trials,\n",
    "    seed\n",
    ")"
   ]
  },
  {
   "cell_type": "code",
   "execution_count": 74,
   "id": "43e63903-2790-4ba3-b75b-577adcccad88",
   "metadata": {},
   "outputs": [
    {
     "name": "stdout",
     "output_type": "stream",
     "text": [
      "Case: 3\n",
      "We expect agents to attend with probability 1.\n",
      "Total weekly attendance should have mean 100 and variance 0\n",
      "Average attendance: 100.0\n",
      "Variance of attendance: 0.0\n",
      "P-value: 0.0\n"
     ]
    },
    {
     "data": {
      "image/png": "[encoded data removed]",
      "text/plain": [
       "<Figure size 432x288 with 1 Axes>"
      ]
     },
     "metadata": {
      "needs_background": "light"
     },
     "output_type": "display_data"
    }
   ],
   "source": [
    "start = cases[3]\n",
    "\n",
    "run_test(\n",
    "    start,\n",
    "    agents,\n",
    "    strategies,\n",
    "    trials,\n",
    "    seed\n",
    ")"
   ]
  },
  {
   "cell_type": "code",
   "execution_count": 75,
   "id": "898edaf5-4afc-44f5-92fd-10340e4c7f82",
   "metadata": {},
   "outputs": [
    {
     "name": "stdout",
     "output_type": "stream",
     "text": [
      "Case: 4\n",
      "We expect agents to attend with probability 0.\n",
      "Total weekly attendance should have mean 0 and variance 0\n",
      "Average attendance: 0.0\n",
      "Variance of attendance: 0.0\n",
      "P-value: 0.0\n"
     ]
    },
    {
     "data": {
      "image/png": "[encoded data removed]",
      "text/plain": [
       "<Figure size 432x288 with 1 Axes>"
      ]
     },
     "metadata": {
      "needs_background": "light"
     },
     "output_type": "display_data"
    }
   ],
   "source": [
    "start = cases[4]\n",
    "\n",
    "run_test(\n",
    "    start,\n",
    "    agents,\n",
    "    strategies,\n",
    "    trials,\n",
    "    seed\n",
    ")"
   ]
  },
  {
   "cell_type": "code",
   "execution_count": 77,
   "id": "c73982a4-bab2-49a8-8d12-ed08e3056cdf",
   "metadata": {},
   "outputs": [
    {
     "name": "stdout",
     "output_type": "stream",
     "text": [
      "Case: 6\n",
      "We expect agents to attend with probability 0.\n",
      "Total weekly attendance should have mean 0 and variance 0\n",
      "Average attendance: 0.0\n",
      "Variance of attendance: 0.0\n",
      "P-value: 0.0\n"
     ]
    },
    {
     "data": {
      "image/png": "[encoded data removed]",
      "text/plain": [
       "<Figure size 432x288 with 1 Axes>"
      ]
     },
     "metadata": {
      "needs_background": "light"
     },
     "output_type": "display_data"
    }
   ],
   "source": [
    "start = cases[6]\n",
    "\n",
    "run_test(\n",
    "    start,\n",
    "    agents,\n",
    "    strategies,\n",
    "    trials,\n",
    "    seed\n",
    ")"
   ]
  },
  {
   "cell_type": "code",
   "execution_count": 78,
   "id": "2495a92f-d936-4416-9072-075d7fe399ac",
   "metadata": {},
   "outputs": [
    {
     "name": "stdout",
     "output_type": "stream",
     "text": [
      "Case: 7\n",
      "We expect agents to attend with probability 0.875.\n",
      "Total weekly attendance should have mean 87.5 and variance 10.9375\n",
      "Average attendance: 87.496\n",
      "Variance of attendance: 11.610984\n",
      "P-value: 0.4794427602577509\n"
     ]
    },
    {
     "data": {
      "image/png": "[encoded data removed]",
      "text/plain": [
       "<Figure size 432x288 with 1 Axes>"
      ]
     },
     "metadata": {
      "needs_background": "light"
     },
     "output_type": "display_data"
    }
   ],
   "source": [
    "start = cases[7]\n",
    "\n",
    "run_test(\n",
    "    start,\n",
    "    agents,\n",
    "    strategies,\n",
    "    trials,\n",
    "    seed\n",
    ")"
   ]
  },
  {
   "cell_type": "code",
   "execution_count": 79,
   "id": "69d1ef7f-f36b-4a23-bcf4-02551b7debeb",
   "metadata": {},
   "outputs": [
    {
     "name": "stdout",
     "output_type": "stream",
     "text": [
      "Case: 8\n",
      "We expect agents to attend with probability 0.417910447761194.\n",
      "Total weekly attendance should have mean 41.7910447761194 and variance 24.326130541323234\n",
      "Average attendance: 41.9315\n",
      "Variance of attendance: 25.12880775\n",
      "P-value: 0.10102364096416097\n"
     ]
    },
    {
     "data": {
      "image/png": "[encoded data removed]",
      "text/plain": [
       "<Figure size 432x288 with 1 Axes>"
      ]
     },
     "metadata": {
      "needs_background": "light"
     },
     "output_type": "display_data"
    }
   ],
   "source": [
    "start = cases[8]\n",
    "\n",
    "run_test(\n",
    "    start,\n",
    "    agents,\n",
    "    strategies,\n",
    "    trials,\n",
    "    seed\n",
    ")"
   ]
  },
  {
   "cell_type": "code",
   "execution_count": 80,
   "id": "e76ceb31-3357-4ea3-8ca0-637bfc200deb",
   "metadata": {},
   "outputs": [
    {
     "name": "stdout",
     "output_type": "stream",
     "text": [
      "Case: 9\n",
      "We expect agents to attend with probability 0.6817882971729126.\n",
      "Total weekly attendance should have mean 68.17882971729125 and variance 21.69530150109728\n",
      "Average attendance: 68.205\n",
      "Variance of attendance: 21.583975\n",
      "P-value: 0.3999803388246817\n"
     ]
    },
    {
     "data": {
      "image/png": "[encoded data removed]",
      "text/plain": [
       "<Figure size 432x288 with 1 Axes>"
      ]
     },
     "metadata": {
      "needs_background": "light"
     },
     "output_type": "display_data"
    }
   ],
   "source": [
    "start = cases[9]\n",
    "\n",
    "run_test(\n",
    "    start,\n",
    "    agents,\n",
    "    strategies,\n",
    "    trials,\n",
    "    seed\n",
    ")"
   ]
  },
  {
   "cell_type": "code",
   "execution_count": 81,
   "id": "ad417ed5-b6a9-49e9-bf44-d6ddeb0ef197",
   "metadata": {},
   "outputs": [
    {
     "name": "stdout",
     "output_type": "stream",
     "text": [
      "Case: 10\n",
      "We expect agents to attend with probability 0.0011111111111111107.\n",
      "Total weekly attendance should have mean 0.11111111111111106 and variance 0.11098765432098762\n",
      "Average attendance: 0.107\n",
      "Variance of attendance: 0.11055100000000001\n",
      "P-value: 0.3049838551286823\n"
     ]
    },
    {
     "data": {
      "image/png": "[encoded data removed]",
      "text/plain": [
       "<Figure size 432x288 with 1 Axes>"
      ]
     },
     "metadata": {
      "needs_background": "light"
     },
     "output_type": "display_data"
    }
   ],
   "source": [
    "start = cases[10]\n",
    "\n",
    "run_test(\n",
    "    start,\n",
    "    agents,\n",
    "    strategies,\n",
    "    trials,\n",
    "    seed\n",
    ")"
   ]
  },
  {
   "cell_type": "code",
   "execution_count": 82,
   "id": "91f80783-598e-4d47-8360-5759c6b13f93",
   "metadata": {},
   "outputs": [
    {
     "name": "stdout",
     "output_type": "stream",
     "text": [
      "Case: 11\n",
      "We expect agents to attend with probability 0.9722222222222222.\n",
      "Total weekly attendance should have mean 97.22222222222221 and variance 2.7006172839506184\n",
      "Average attendance: 97.251\n",
      "Variance of attendance: 2.668999\n",
      "P-value: 0.21501440975243166\n"
     ]
    },
    {
     "data": {
      "image/png": "[encoded data removed]",
      "text/plain": [
       "<Figure size 432x288 with 1 Axes>"
      ]
     },
     "metadata": {
      "needs_background": "light"
     },
     "output_type": "display_data"
    }
   ],
   "source": [
    "start = cases[11]\n",
    "\n",
    "run_test(\n",
    "    start,\n",
    "    agents,\n",
    "    strategies,\n",
    "    trials,\n",
    "    seed\n",
    ")"
   ]
  },
  {
   "cell_type": "code",
   "execution_count": 83,
   "id": "c6f56db9-5158-4da7-815a-6ef6b21b4071",
   "metadata": {},
   "outputs": [
    {
     "name": "stdout",
     "output_type": "stream",
     "text": [
      "Case: 12\n",
      "We expect agents to attend with probability 0.06456597688793332.\n",
      "Total weekly attendance should have mean 6.456597688793332 and variance 6.039721151644018\n",
      "Average attendance: 6.511\n",
      "Variance of attendance: 6.2698789999999995\n",
      "P-value: 0.1599798852388341\n"
     ]
    },
    {
     "data": {
      "image/png": "[encoded data removed]",
      "text/plain": [
       "<Figure size 432x288 with 1 Axes>"
      ]
     },
     "metadata": {
      "needs_background": "light"
     },
     "output_type": "display_data"
    }
   ],
   "source": [
    "start = cases[12]\n",
    "\n",
    "run_test(\n",
    "    start,\n",
    "    agents,\n",
    "    strategies,\n",
    "    trials,\n",
    "    seed\n",
    ")"
   ]
  },
  {
   "cell_type": "code",
   "execution_count": 84,
   "id": "d629996c-2385-44fc-9b56-45e8d4cdebb2",
   "metadata": {},
   "outputs": [
    {
     "name": "stdout",
     "output_type": "stream",
     "text": [
      "Case: 13\n",
      "We expect agents to attend with probability 0.7669906636099126.\n",
      "Total weekly attendance should have mean 76.69906636099127 and variance 17.87159855451385\n",
      "Average attendance: 76.7435\n",
      "Variance of attendance: 17.52170775\n",
      "P-value: 0.31834557978203154\n"
     ]
    },
    {
     "data": {
      "image/png": "[encoded data removed]",
      "text/plain": [
       "<Figure size 432x288 with 1 Axes>"
      ]
     },
     "metadata": {
      "needs_background": "light"
     },
     "output_type": "display_data"
    }
   ],
   "source": [
    "start = cases[13]\n",
    "\n",
    "run_test(\n",
    "    start,\n",
    "    agents,\n",
    "    strategies,\n",
    "    trials,\n",
    "    seed\n",
    ")"
   ]
  },
  {
   "cell_type": "code",
   "execution_count": 85,
   "id": "8138726f-6f97-4de7-a5ad-17b8aac654aa",
   "metadata": {},
   "outputs": [
    {
     "name": "stdout",
     "output_type": "stream",
     "text": [
      "Case: 14\n",
      "We expect agents to attend with probability 0.9217542591049495.\n",
      "Total weekly attendance should have mean 92.17542591049495 and variance 7.2123344926835165\n",
      "Average attendance: 92.2015\n",
      "Variance of attendance: 7.281897749999999\n",
      "P-value: 0.33090577452076864\n"
     ]
    },
    {
     "data": {
      "image/png": "[encoded data removed]",
      "text/plain": [
       "<Figure size 432x288 with 1 Axes>"
      ]
     },
     "metadata": {
      "needs_background": "light"
     },
     "output_type": "display_data"
    }
   ],
   "source": [
    "start = cases[14]\n",
    "\n",
    "run_test(\n",
    "    start,\n",
    "    agents,\n",
    "    strategies,\n",
    "    trials,\n",
    "    seed\n",
    ")"
   ]
  },
  {
   "cell_type": "code",
   "execution_count": 86,
   "id": "ff57b0c1-db6a-4dcf-ad25-fa5a07283d8e",
   "metadata": {},
   "outputs": [
    {
     "name": "stdout",
     "output_type": "stream",
     "text": [
      "Case: 15\n",
      "We expect agents to attend with probability 0.18564748683437327.\n",
      "Total weekly attendance should have mean 18.564748683437326 and variance 15.118249746645446\n",
      "Average attendance: 18.4565\n",
      "Variance of attendance: 14.34710775\n",
      "P-value: 0.10702541623728301\n"
     ]
    },
    {
     "data": {
      "image/png": "[encoded data removed]",
      "text/plain": [
       "<Figure size 432x288 with 1 Axes>"
      ]
     },
     "metadata": {
      "needs_background": "light"
     },
     "output_type": "display_data"
    }
   ],
   "source": [
    "start = cases[15]\n",
    "\n",
    "run_test(\n",
    "    start,\n",
    "    agents,\n",
    "    strategies,\n",
    "    trials,\n",
    "    seed\n",
    ")"
   ]
  },
  {
   "cell_type": "code",
   "execution_count": 87,
   "id": "9bff10f0-01e1-422f-bd5b-b303eb23d556",
   "metadata": {},
   "outputs": [
    {
     "name": "stdout",
     "output_type": "stream",
     "text": [
      "Case: 16\n",
      "We expect agents to attend with probability 0.6884092376108741.\n",
      "Total weekly attendance should have mean 68.84092376108741 and variance 21.450195918288916\n",
      "Average attendance: 68.8985\n",
      "Variance of attendance: 22.49319775\n",
      "P-value: 0.28836619238222877\n"
     ]
    },
    {
     "data": {
      "image/png": "[encoded data removed]",
      "text/plain": [
       "<Figure size 432x288 with 1 Axes>"
      ]
     },
     "metadata": {
      "needs_background": "light"
     },
     "output_type": "display_data"
    }
   ],
   "source": [
    "start = cases[16]\n",
    "\n",
    "run_test(\n",
    "    start,\n",
    "    agents,\n",
    "    strategies,\n",
    "    trials,\n",
    "    seed\n",
    ")"
   ]
  },
  {
   "cell_type": "code",
   "execution_count": 88,
   "id": "1d38ae70-0bb2-478b-8faf-ec34f584c811",
   "metadata": {},
   "outputs": [
    {
     "name": "stdout",
     "output_type": "stream",
     "text": [
      "Case: 17\n",
      "We expect agents to attend with probability 0.9567768546283218.\n",
      "Total weekly attendance should have mean 95.67768546283219 and variance 4.135490507585693\n",
      "Average attendance: 95.7095\n",
      "Variance of attendance: 3.889109750000001\n",
      "P-value: 0.2406228677214996\n"
     ]
    },
    {
     "data": {
      "image/png": "[encoded data removed]",
      "text/plain": [
       "<Figure size 432x288 with 1 Axes>"
      ]
     },
     "metadata": {
      "needs_background": "light"
     },
     "output_type": "display_data"
    }
   ],
   "source": [
    "start = cases[17]\n",
    "\n",
    "run_test(\n",
    "    start,\n",
    "    agents,\n",
    "    strategies,\n",
    "    trials,\n",
    "    seed\n",
    ")"
   ]
  },
  {
   "cell_type": "code",
   "execution_count": 89,
   "id": "12d98eff-36e1-46b9-928d-3a4dff90077a",
   "metadata": {},
   "outputs": [
    {
     "name": "stdout",
     "output_type": "stream",
     "text": [
      "Case: 18\n",
      "We expect agents to attend with probability 0.5880845917014649.\n",
      "Total weekly attendance should have mean 58.808459170146484 and variance 24.22411047047862\n",
      "Average attendance: 58.861\n",
      "Variance of attendance: 23.051679\n",
      "P-value: 0.31576485485197175\n"
     ]
    },
    {
     "data": {
      "image/png": "[encoded data removed]",
      "text/plain": [
       "<Figure size 432x288 with 1 Axes>"
      ]
     },
     "metadata": {
      "needs_background": "light"
     },
     "output_type": "display_data"
    }
   ],
   "source": [
    "start = cases[18]\n",
    "\n",
    "run_test(\n",
    "    start,\n",
    "    agents,\n",
    "    strategies,\n",
    "    trials,\n",
    "    seed\n",
    ")"
   ]
  },
  {
   "cell_type": "code",
   "execution_count": 90,
   "id": "69bc5757-aa35-42b2-9200-eeb33e94b6bf",
   "metadata": {},
   "outputs": [
    {
     "name": "stdout",
     "output_type": "stream",
     "text": [
      "Case: 19\n",
      "We expect agents to attend with probability 0.27159231221122826.\n",
      "Total weekly attendance should have mean 27.159231221122827 and variance 19.782992815898698\n",
      "Average attendance: 27.2915\n",
      "Variance of attendance: 19.59452775\n",
      "P-value: 0.09140700850910637\n"
     ]
    },
    {
     "data": {
      "image/png": "[encoded data removed]",
      "text/plain": [
       "<Figure size 432x288 with 1 Axes>"
      ]
     },
     "metadata": {
      "needs_background": "light"
     },
     "output_type": "display_data"
    }
   ],
   "source": [
    "start = cases[19]\n",
    "\n",
    "run_test(\n",
    "    start,\n",
    "    agents,\n",
    "    strategies,\n",
    "    trials,\n",
    "    seed\n",
    ")"
   ]
  },
  {
   "cell_type": "code",
   "execution_count": 91,
   "id": "09edf616-3a66-4483-b7ed-51ef91f719a5",
   "metadata": {},
   "outputs": [
    {
     "name": "stdout",
     "output_type": "stream",
     "text": [
      "Case: 20\n",
      "We expect agents to attend with probability 0.1701388888888889.\n",
      "Total weekly attendance should have mean 17.01388888888889 and variance 14.119164737654323\n",
      "Average attendance: 16.8575\n",
      "Variance of attendance: 14.426193750000003\n",
      "P-value: 0.03144715492472763\n"
     ]
    },
    {
     "data": {
      "image/png": "[encoded data removed]",
      "text/plain": [
       "<Figure size 432x288 with 1 Axes>"
      ]
     },
     "metadata": {
      "needs_background": "light"
     },
     "output_type": "display_data"
    }
   ],
   "source": [
    "start = cases[20]\n",
    "\n",
    "run_test(\n",
    "    start,\n",
    "    agents,\n",
    "    strategies,\n",
    "    trials,\n",
    "    seed\n",
    ")"
   ]
  },
  {
   "cell_type": "code",
   "execution_count": null,
   "id": "a027cf4c-6d68-4d70-971e-2129cf184edb",
   "metadata": {},
   "outputs": [],
   "source": [
    "## Double check the unlikely P-Values with a different seed"
   ]
  },
  {
   "cell_type": "code",
   "execution_count": 92,
   "id": "fc53374e-63fb-4cec-81c1-3ad7da34d09b",
   "metadata": {},
   "outputs": [
    {
     "name": "stdout",
     "output_type": "stream",
     "text": [
      "Case: 20\n",
      "We expect agents to attend with probability 0.1701388888888889.\n",
      "Total weekly attendance should have mean 17.01388888888889 and variance 14.119164737654323\n",
      "Average attendance: 17.023\n",
      "Variance of attendance: 14.262470999999998\n",
      "P-value: 0.4553880636800196\n"
     ]
    },
    {
     "data": {
      "image/png": "[encoded data removed]",
      "text/plain": [
       "<Figure size 432x288 with 1 Axes>"
      ]
     },
     "metadata": {
      "needs_background": "light"
     },
     "output_type": "display_data"
    }
   ],
   "source": [
    "seed = 29\n",
    "\n",
    "start = cases[20]\n",
    "\n",
    "run_test(\n",
    "    start,\n",
    "    agents,\n",
    "    strategies,\n",
    "    trials,\n",
    "    seed\n",
    ")"
   ]
  },
  {
   "cell_type": "code",
   "execution_count": 93,
   "id": "c1ac725e-58df-4385-bf7b-cd0dbd989713",
   "metadata": {},
   "outputs": [
    {
     "name": "stdout",
     "output_type": "stream",
     "text": [
      "Case: 19\n",
      "We expect agents to attend with probability 0.27159231221122826.\n",
      "Total weekly attendance should have mean 27.159231221122827 and variance 19.782992815898698\n",
      "Average attendance: 27.227\n",
      "Variance of attendance: 20.403470999999996\n",
      "P-value: 0.24695227545205375\n"
     ]
    },
    {
     "data": {
      "image/png": "[encoded data removed]",
      "text/plain": [
       "<Figure size 432x288 with 1 Axes>"
      ]
     },
     "metadata": {
      "needs_background": "light"
     },
     "output_type": "display_data"
    }
   ],
   "source": [
    "start = cases[19]\n",
    "\n",
    "run_test(\n",
    "    start,\n",
    "    agents,\n",
    "    strategies,\n",
    "    trials,\n",
    "    seed\n",
    ")"
   ]
  },
  {
   "cell_type": "code",
   "execution_count": 94,
   "id": "359b7a7b-3ac9-4838-917e-4129ee9f5375",
   "metadata": {},
   "outputs": [
    {
     "name": "stdout",
     "output_type": "stream",
     "text": [
      "Case: 15\n",
      "We expect agents to attend with probability 0.18564748683437327.\n",
      "Total weekly attendance should have mean 18.564748683437326 and variance 15.118249746645446\n",
      "Average attendance: 18.4535\n",
      "Variance of attendance: 14.60183775\n",
      "P-value: 0.10079028760589871\n"
     ]
    },
    {
     "data": {
      "image/png": "[encoded data removed]",
      "text/plain": [
       "<Figure size 432x288 with 1 Axes>"
      ]
     },
     "metadata": {
      "needs_background": "light"
     },
     "output_type": "display_data"
    }
   ],
   "source": [
    "start = cases[15]\n",
    "\n",
    "run_test(\n",
    "    start,\n",
    "    agents,\n",
    "    strategies,\n",
    "    trials,\n",
    "    seed\n",
    ")"
   ]
  },
  {
   "cell_type": "code",
   "execution_count": 95,
   "id": "caa6dd9b-d720-43cd-ac88-bd632bf24d5c",
   "metadata": {},
   "outputs": [
    {
     "name": "stdout",
     "output_type": "stream",
     "text": [
      "Case: 15\n",
      "We expect agents to attend with probability 0.18564748683437327.\n",
      "Total weekly attendance should have mean 18.564748683437326 and variance 15.118249746645446\n",
      "Average attendance: 18.555\n",
      "Variance of attendance: 14.722974999999998\n",
      "P-value: 0.4567376442417584\n"
     ]
    },
    {
     "data": {
      "image/png": "[encoded data removed]",
      "text/plain": [
       "<Figure size 432x288 with 1 Axes>"
      ]
     },
     "metadata": {
      "needs_background": "light"
     },
     "output_type": "display_data"
    }
   ],
   "source": [
    "seed = 493\n",
    "start = cases[15]\n",
    "\n",
    "run_test(\n",
    "    start,\n",
    "    agents,\n",
    "    strategies,\n",
    "    trials,\n",
    "    seed\n",
    ")"
   ]
  },
  {
   "cell_type": "code",
   "execution_count": 96,
   "id": "05035309-2c66-4e83-97a6-d4d5d13114dc",
   "metadata": {},
   "outputs": [
    {
     "name": "stdout",
     "output_type": "stream",
     "text": [
      "Case: 8\n",
      "We expect agents to attend with probability 0.417910447761194.\n",
      "Total weekly attendance should have mean 41.7910447761194 and variance 24.326130541323234\n",
      "Average attendance: 41.9975\n",
      "Variance of attendance: 24.648493750000004\n",
      "P-value: 0.030468598545449543\n"
     ]
    },
    {
     "data": {
      "image/png": "[encoded data removed]",
      "text/plain": [
       "<Figure size 432x288 with 1 Axes>"
      ]
     },
     "metadata": {
      "needs_background": "light"
     },
     "output_type": "display_data"
    }
   ],
   "source": [
    "start = cases[8]\n",
    "\n",
    "run_test(\n",
    "    start,\n",
    "    agents,\n",
    "    strategies,\n",
    "    trials,\n",
    "    seed\n",
    ")"
   ]
  },
  {
   "cell_type": "code",
   "execution_count": 97,
   "id": "df867dc2-caae-4e29-8a91-f37332392551",
   "metadata": {},
   "outputs": [
    {
     "name": "stdout",
     "output_type": "stream",
     "text": [
      "Case: 8\n",
      "We expect agents to attend with probability 0.417910447761194.\n",
      "Total weekly attendance should have mean 41.7910447761194 and variance 24.326130541323234\n",
      "Average attendance: 41.721\n",
      "Variance of attendance: 23.838159\n",
      "P-value: 0.26343984581828606\n"
     ]
    },
    {
     "data": {
      "image/png": "[encoded data removed]",
      "text/plain": [
       "<Figure size 432x288 with 1 Axes>"
      ]
     },
     "metadata": {
      "needs_background": "light"
     },
     "output_type": "display_data"
    }
   ],
   "source": [
    "seed = 9\n",
    "start = cases[8]\n",
    "\n",
    "run_test(\n",
    "    start,\n",
    "    agents,\n",
    "    strategies,\n",
    "    trials,\n",
    "    seed\n",
    ")"
   ]
  },
  {
   "cell_type": "markdown",
   "id": "705c4f8f-bc41-41ce-a3ee-8d2d9551798c",
   "metadata": {},
   "source": [
    "What happens if we iterate the map a bunch of times?  Will we find fixed points?\n",
    "\n",
    "## Iterating the map"
   ]
  },
  {
   "cell_type": "code",
   "execution_count": 124,
   "id": "8b6966d5-6569-40c5-aae4-203a34c71bf6",
   "metadata": {},
   "outputs": [],
   "source": [
    "from util import detect_cycle"
   ]
  },
  {
   "cell_type": "code",
   "execution_count": 148,
   "id": "fa1ae919-ddcf-4d79-9ed7-717e9ede5771",
   "metadata": {},
   "outputs": [],
   "source": [
    "start = [83,26,32,78]\n",
    "n = 1000\n",
    "hist = np.zeros(shape=n + 4)\n",
    "hist[:4] = start\n",
    "\n",
    "for i in range(4, n+4):\n",
    "    model = BarModel(hist[i-4:i], strategies, x_min, x_max)\n",
    "    hist[i] = int(model.p_go * agents)"
   ]
  },
  {
   "cell_type": "code",
   "execution_count": 149,
   "id": "e468e334-933f-47ef-b653-8e4c2340d0c1",
   "metadata": {},
   "outputs": [
    {
     "data": {
      "text/plain": [
       "75"
      ]
     },
     "execution_count": 149,
     "metadata": {},
     "output_type": "execute_result"
    }
   ],
   "source": [
    "detect_cycle(hist, 2)"
   ]
  },
  {
   "cell_type": "code",
   "execution_count": 150,
   "id": "106d547e-1fa3-421b-82dc-961d90fdf459",
   "metadata": {},
   "outputs": [
    {
     "data": {
      "text/plain": [
       "[<matplotlib.lines.Line2D at 0x12df04910>]"
      ]
     },
     "execution_count": 150,
     "metadata": {},
     "output_type": "execute_result"
    },
    {
     "data": {
      "image/png": "[encoded data removed]",
      "text/plain": [
       "<Figure size 432x288 with 1 Axes>"
      ]
     },
     "metadata": {
      "needs_background": "light"
     },
     "output_type": "display_data"
    }
   ],
   "source": [
    "plt.plot(hist[-150:])"
   ]
  },
  {
   "cell_type": "code",
   "execution_count": 152,
   "id": "0cb6997a-3de0-483a-9054-119cb1a15231",
   "metadata": {},
   "outputs": [
    {
     "data": {
      "text/plain": [
       "array([ 80.,  79.,   0.,  61.,  99.,  23.,  42., 100.,  42.,  17.,  98.,\n",
       "        58.,   1.,  76.,  85.,   0.,  58., 100.,  27.,  40., 100.,  44.,\n",
       "        13.,  94.,  62.,   0.,  73.,  89.,   0.,  56., 100.,  29.,  38.,\n",
       "       100.,  45.,  11.,  92.,  64.,   0.,  71.,  92.,   5.,  53., 100.,\n",
       "        33.,  36., 100.,  47.,   8.,  88.,  68.,   0.,  68.,  95.,  12.,\n",
       "        49., 100.,  36.,  31., 100.,  50.,   6.,  85.,  72.,   0.,  65.,\n",
       "        97.,  17.,  46., 100.,  39.,  24., 100.,  54.,   3.])"
      ]
     },
     "execution_count": 152,
     "metadata": {},
     "output_type": "execute_result"
    }
   ],
   "source": [
    "cycle = hist[-75:]\n",
    "cycle"
   ]
  },
  {
   "cell_type": "code",
   "execution_count": 167,
   "id": "24cefaa5-a31b-46fa-b37a-45801e3f73d9",
   "metadata": {},
   "outputs": [
    {
     "name": "stdout",
     "output_type": "stream",
     "text": [
      "Cycle length: 75\n"
     ]
    },
    {
     "data": {
      "text/plain": [
       "[<matplotlib.lines.Line2D at 0x12dfc2850>]"
      ]
     },
     "execution_count": 167,
     "metadata": {},
     "output_type": "execute_result"
    },
    {
     "data": {
      "image/png": "[encoded data removed]",
      "text/plain": [
       "<Figure size 432x288 with 1 Axes>"
      ]
     },
     "metadata": {
      "needs_background": "light"
     },
     "output_type": "display_data"
    }
   ],
   "source": [
    "start = [0,0,0,0]\n",
    "n = 1000\n",
    "hist = np.zeros(shape=n + 4, dtype=int)\n",
    "hist[:4] = start\n",
    "\n",
    "for i in range(4, n+4):\n",
    "    model = BarModel(hist[i-4:i], strategies, x_min, x_max)\n",
    "    hist[i] = int(model.p_go * agents)\n",
    "    \n",
    "    \n",
    "print(f\"Cycle length: {detect_cycle(hist, 4)}\")\n",
    "plt.plot(hist[-150:])"
   ]
  },
  {
   "cell_type": "code",
   "execution_count": 189,
   "id": "d7354d59-331d-4622-9497-114b047515a8",
   "metadata": {},
   "outputs": [
    {
     "data": {
      "text/plain": [
       "False"
      ]
     },
     "execution_count": 189,
     "metadata": {},
     "output_type": "execute_result"
    }
   ],
   "source": [
    "def match_cycle(hist, cycle):\n",
    "    offset = -1\n",
    "    for i in range(71):\n",
    "        if (hist[-75 + i: -71 + i] == cycle[:4]).all():\n",
    "            offset = i\n",
    "        \n",
    "    if offset == -1:\n",
    "        return False\n",
    "\n",
    "    reset = np.hstack([hist[-75 + offset:], hist[-75:-75 + offset]])\n",
    "    return (reset - cycle).max() == 0\n",
    "\n",
    "match_cycle(hist, cycle)"
   ]
  },
  {
   "cell_type": "code",
   "execution_count": null,
   "id": "84420d9a-ccc7-449b-93b2-1346c62695ed",
   "metadata": {},
   "outputs": [],
   "source": []
  },
  {
   "cell_type": "code",
   "execution_count": null,
   "id": "4f85a9f0-df13-4b3b-abd4-b72d12257659",
   "metadata": {},
   "outputs": [],
   "source": []
  },
  {
   "cell_type": "code",
   "execution_count": null,
   "id": "016f2caa-5bd1-4eee-b31b-d2566e70f14a",
   "metadata": {},
   "outputs": [],
   "source": []
  },
  {
   "cell_type": "code",
   "execution_count": 185,
   "id": "5b4c0abc-3133-4f66-aaaa-887962a3f1c3",
   "metadata": {},
   "outputs": [
    {
     "name": "stdout",
     "output_type": "stream",
     "text": [
      "Cycle length: 75\n"
     ]
    },
    {
     "data": {
      "text/plain": [
       "[<matplotlib.lines.Line2D at 0x12e0f8d30>]"
      ]
     },
     "execution_count": 185,
     "metadata": {},
     "output_type": "execute_result"
    },
    {
     "data": {
      "image/png": "[encoded data removed]",
      "text/plain": [
       "<Figure size 432x288 with 1 Axes>"
      ]
     },
     "metadata": {
      "needs_background": "light"
     },
     "output_type": "display_data"
    }
   ],
   "source": [
    "start = [80,20,80,20]\n",
    "n = 1000\n",
    "hist = np.zeros(shape=n + 4, dtype=int)\n",
    "hist[:4] = start\n",
    "\n",
    "for i in range(4, n+4):\n",
    "    model = BarModel(hist[i-4:i], strategies, x_min, x_max)\n",
    "    hist[i] = int(model.p_go * agents)\n",
    "    \n",
    "    \n",
    "print(f\"Cycle length: {detect_cycle(hist, 4)}\")\n",
    "assert match_cycle(hist, cycle), \"Different cycle\"\n",
    "plt.plot(hist[-150:])"
   ]
  },
  {
   "cell_type": "code",
   "execution_count": 186,
   "id": "4e61f0f6-4f58-4d57-9d92-2713c6a69310",
   "metadata": {},
   "outputs": [
    {
     "name": "stdout",
     "output_type": "stream",
     "text": [
      "Cycle length: 75\n"
     ]
    },
    {
     "data": {
      "text/plain": [
       "[<matplotlib.lines.Line2D at 0x12e164850>]"
      ]
     },
     "execution_count": 186,
     "metadata": {},
     "output_type": "execute_result"
    },
    {
     "data": {
      "image/png": "[encoded data removed]",
      "text/plain": [
       "<Figure size 432x288 with 1 Axes>"
      ]
     },
     "metadata": {
      "needs_background": "light"
     },
     "output_type": "display_data"
    }
   ],
   "source": [
    "start = rng.choice(101, size=4)\n",
    "n = 1000\n",
    "hist = np.zeros(shape=n + 4, dtype=int)\n",
    "hist[:4] = start\n",
    "\n",
    "for i in range(4, n+4):\n",
    "    model = BarModel(hist[i-4:i], strategies, x_min, x_max)\n",
    "    hist[i] = int(model.p_go * agents)\n",
    "    \n",
    "    \n",
    "print(f\"Cycle length: {detect_cycle(hist, 4)}\")\n",
    "assert match_cycle(hist, cycle), \"Different cycle\"\n",
    "plt.plot(hist[-150:])"
   ]
  },
  {
   "cell_type": "code",
   "execution_count": null,
   "id": "a13d611d-044a-4f2d-9359-55881b58e642",
   "metadata": {},
   "outputs": [],
   "source": []
  },
  {
   "cell_type": "code",
   "execution_count": 187,
   "id": "b02cc44c-caa8-4068-9304-7dfbf6ca3829",
   "metadata": {},
   "outputs": [
    {
     "name": "stdout",
     "output_type": "stream",
     "text": [
      "Cycle length: 75\n"
     ]
    },
    {
     "data": {
      "text/plain": [
       "[<matplotlib.lines.Line2D at 0x12e1cb880>]"
      ]
     },
     "execution_count": 187,
     "metadata": {},
     "output_type": "execute_result"
    },
    {
     "data": {
      "image/png": "[encoded data removed]",
      "text/plain": [
       "<Figure size 432x288 with 1 Axes>"
      ]
     },
     "metadata": {
      "needs_background": "light"
     },
     "output_type": "display_data"
    }
   ],
   "source": [
    "start = rng.choice(101, size=4)\n",
    "n = 1000\n",
    "hist = np.zeros(shape=n + 4, dtype=int)\n",
    "hist[:4] = start\n",
    "\n",
    "for i in range(4, n+4):\n",
    "    model = BarModel(hist[i-4:i], strategies, x_min, x_max)\n",
    "    hist[i] = int(model.p_go * agents)\n",
    "    \n",
    "    \n",
    "print(f\"Cycle length: {detect_cycle(hist, 4)}\")\n",
    "assert match_cycle(hist, cycle), \"Different cycle\"\n",
    "plt.plot(hist[-150:])"
   ]
  },
  {
   "cell_type": "code",
   "execution_count": 299,
   "id": "5d429ca1-975a-495f-ac84-7080bcece4be",
   "metadata": {},
   "outputs": [
    {
     "data": {
      "text/plain": [
       "1"
      ]
     },
     "execution_count": 299,
     "metadata": {},
     "output_type": "execute_result"
    }
   ],
   "source": [
    "strategies = 2\n",
    "diff_cycles = []\n",
    "\n",
    "for _ in range(500):\n",
    "    start = rng.choice(101, size=4)\n",
    "    n = 1000\n",
    "    hist = np.zeros(shape=n + 4, dtype=int)\n",
    "    hist[:4] = start\n",
    "\n",
    "    for i in range(4, n+4):\n",
    "        model = BarModel(hist[i-4:i], strategies, x_min, x_max)\n",
    "        hist[i] = int(model.p_go * agents)\n",
    "\n",
    "    is_match = False\n",
    "    for result in diff_cycles:\n",
    "        if match_cycle(hist, result[\"cycle\"]):\n",
    "            result[\"starts\"].append(start)\n",
    "            is_match = True\n",
    "            break\n",
    "    if not is_match:\n",
    "        cycle_length = detect_cycle(hist, 2)\n",
    "        if cycle_length != 75:\n",
    "            print(f\"Found cycle of length: {cycle_length}\")\n",
    "        diff_cycles.append({\n",
    "            \"cycle\": hist[-cycle_length:],\n",
    "            \"starts\": [start]\n",
    "        })\n",
    "\n",
    "\n",
    "len(diff_cycles)"
   ]
  },
  {
   "cell_type": "code",
   "execution_count": 300,
   "id": "5f854b3d-8acd-4bc3-a10c-a975463bd765",
   "metadata": {},
   "outputs": [
    {
     "name": "stdout",
     "output_type": "stream",
     "text": [
      "[100  33  36 100  47   8  88  68   0  68  95  12  49 100  36  31 100  50\n",
      "   6  85  72   0  65  97  17  46 100  39  24 100  54   3  80  79   0  61\n",
      "  99  23  42 100  42  17  98  58   1  76  85   0  58 100  27  40 100  44\n",
      "  13  94  62   0  73  89   0  56 100  29  38 100  45  11  92  64   0  71\n",
      "  92   5  53]\n",
      "Cycle has length 75 and occurred 500 times.\n",
      "\n",
      "\n"
     ]
    }
   ],
   "source": [
    "for result in diff_cycles:\n",
    "    print(result[\"cycle\"])\n",
    "    print(f'Cycle has length {len(result[\"cycle\"])} and occurred {len(result[\"starts\"])} times.\\n\\n')"
   ]
  },
  {
   "cell_type": "code",
   "execution_count": 301,
   "id": "791a716c-3ea9-430f-a8ef-a2ca92ef5a07",
   "metadata": {},
   "outputs": [
    {
     "data": {
      "text/plain": [
       "100    11\n",
       "0       7\n",
       "58      2\n",
       "68      2\n",
       "17      2\n",
       "92      2\n",
       "42      2\n",
       "85      2\n",
       "36      2\n",
       "76      1\n",
       "61      1\n",
       "62      1\n",
       "64      1\n",
       "65      1\n",
       "71      1\n",
       "72      1\n",
       "73      1\n",
       "3       1\n",
       "56      1\n",
       "80      1\n",
       "88      1\n",
       "89      1\n",
       "94      1\n",
       "95      1\n",
       "97      1\n",
       "98      1\n",
       "99      1\n",
       "79      1\n",
       "53      1\n",
       "54      1\n",
       "31      1\n",
       "6       1\n",
       "8       1\n",
       "11      1\n",
       "12      1\n",
       "13      1\n",
       "23      1\n",
       "24      1\n",
       "27      1\n",
       "29      1\n",
       "33      1\n",
       "5       1\n",
       "38      1\n",
       "39      1\n",
       "40      1\n",
       "44      1\n",
       "45      1\n",
       "46      1\n",
       "47      1\n",
       "49      1\n",
       "1       1\n",
       "50      1\n",
       "dtype: int64"
      ]
     },
     "execution_count": 301,
     "metadata": {},
     "output_type": "execute_result"
    }
   ],
   "source": [
    "pd.Series(diff_cycles[0][\"cycle\"]).value_counts()"
   ]
  },
  {
   "cell_type": "code",
   "execution_count": null,
   "id": "f2ada9ad-621a-4c3a-92af-5c52c0f6e00a",
   "metadata": {},
   "outputs": [],
   "source": [
    "for result in diff_cycles: \n",
    "    assert (pd.Series(result[\"cycle\"]).value_counts() == pd.Series(diff_cycles[0][\"cycle\"]).value_counts()).all()\n",
    "    \n",
    "print(f\"All cycle have the same numbers!\")\n",
    "    "
   ]
  },
  {
   "cell_type": "code",
   "execution_count": 227,
   "id": "9e381db4-975a-4e9b-ba83-0c49af4f1fd6",
   "metadata": {},
   "outputs": [
    {
     "data": {
      "text/plain": [
       "[2,\n",
       " 4,\n",
       " 7,\n",
       " 9,\n",
       " 10,\n",
       " 14,\n",
       " 15,\n",
       " 16,\n",
       " 18,\n",
       " 19,\n",
       " 20,\n",
       " 21,\n",
       " 22,\n",
       " 25,\n",
       " 26,\n",
       " 28,\n",
       " 30,\n",
       " 32,\n",
       " 34,\n",
       " 35,\n",
       " 37,\n",
       " 41,\n",
       " 43,\n",
       " 48,\n",
       " 51,\n",
       " 52,\n",
       " 55,\n",
       " 57,\n",
       " 59,\n",
       " 60,\n",
       " 63,\n",
       " 66,\n",
       " 67,\n",
       " 69,\n",
       " 70,\n",
       " 74,\n",
       " 75,\n",
       " 77,\n",
       " 78,\n",
       " 81,\n",
       " 82,\n",
       " 83,\n",
       " 84,\n",
       " 86,\n",
       " 87,\n",
       " 90,\n",
       " 91,\n",
       " 93,\n",
       " 96]"
      ]
     },
     "execution_count": 227,
     "metadata": {},
     "output_type": "execute_result"
    }
   ],
   "source": [
    "cnts = pd.Series(diff_cycles[0][\"cycle\"]).value_counts()\n",
    "list(set(range(100)) - set(cnts.index))"
   ]
  },
  {
   "cell_type": "markdown",
   "id": "a2de09c6-1a1a-43c2-8ed5-09032f372ad9",
   "metadata": {},
   "source": [
    "What?!?!?!?!\n",
    "\n",
    "So most starts get attracted to the same limit cycle.  A few have differrent cycles but all of them appear to have length 75 and contain the same numbers the same number of times (100 shows up 11 times, 0 7 times, 58 twice, 9 never).  Mysterious...\n",
    "\n",
    "I wonder what happens when we change the number of strategies?"
   ]
  },
  {
   "cell_type": "code",
   "execution_count": 237,
   "id": "60708645-cb1c-4372-947b-d0d9fe15422b",
   "metadata": {},
   "outputs": [
    {
     "name": "stdout",
     "output_type": "stream",
     "text": [
      "Found cycle of length: 6\n",
      "Found cycle of length: 6\n"
     ]
    },
    {
     "data": {
      "text/plain": [
       "2"
      ]
     },
     "execution_count": 237,
     "metadata": {},
     "output_type": "execute_result"
    }
   ],
   "source": [
    "def match_cycle(hist, cycle):\n",
    "    l = len(cycle)\n",
    "    offset = -1\n",
    "    for i in range(l):\n",
    "        if (hist[-2*l + i: -2*l + i + 4] == cycle[:4]).all():\n",
    "            offset = i\n",
    "\n",
    "    if offset == -1:\n",
    "        return False\n",
    "\n",
    "    reset = np.hstack([hist[-l + offset:], hist[-l:-l + offset]])\n",
    "    return (reset - cycle).max() == 0\n",
    "\n",
    "\n",
    "diff_cycles = []\n",
    "strategies = 10\n",
    "\n",
    "for _ in range(500):\n",
    "    start = rng.choice(101, size=4)\n",
    "    n = 1000\n",
    "    hist = np.zeros(shape=n + 4, dtype=int)\n",
    "    hist[:4] = start\n",
    "\n",
    "    for i in range(4, n+4):\n",
    "        model = BarModel(hist[i-4:i], strategies, x_min, x_max)\n",
    "        hist[i] = int(model.p_go * agents)\n",
    "\n",
    "    is_match = False\n",
    "    for result in diff_cycles:\n",
    "        if match_cycle(hist, result[\"cycle\"]):\n",
    "            result[\"starts\"].append(start)\n",
    "            is_match = True\n",
    "            break\n",
    "    if not is_match:\n",
    "        cycle_length = detect_cycle(hist, 2)\n",
    "        if cycle_length != 75:\n",
    "            print(f\"Found cycle of length: {cycle_length}\")\n",
    "        diff_cycles.append({\n",
    "            \"cycle\": hist[-cycle_length:],\n",
    "            \"starts\": [start]\n",
    "        })\n",
    "\n",
    "\n",
    "len(diff_cycles)"
   ]
  },
  {
   "cell_type": "code",
   "execution_count": 238,
   "id": "145ffed0-97e7-4bb5-a347-bd24af4c3caf",
   "metadata": {},
   "outputs": [
    {
     "name": "stdout",
     "output_type": "stream",
     "text": [
      "Cycle has length 6 and occurred 265 times.\n",
      "\n",
      "\n",
      "Cycle has length 6 and occurred 235 times.\n",
      "\n",
      "\n"
     ]
    }
   ],
   "source": [
    "for result in diff_cycles:\n",
    "    print(f'Cycle has length {len(result[\"cycle\"])} and occurred {len(result[\"starts\"])} times.\\n\\n')"
   ]
  },
  {
   "cell_type": "code",
   "execution_count": 240,
   "id": "b351eff8-000f-49b6-94f1-575baa473571",
   "metadata": {},
   "outputs": [
    {
     "data": {
      "text/plain": [
       "array([97, 99,  0, 97, 99,  0])"
      ]
     },
     "execution_count": 240,
     "metadata": {},
     "output_type": "execute_result"
    }
   ],
   "source": [
    "diff_cycles[0][\"cycle\"]"
   ]
  },
  {
   "cell_type": "code",
   "execution_count": 241,
   "id": "9b194b5a-2656-4d83-81f7-470d0c3ffeab",
   "metadata": {},
   "outputs": [
    {
     "data": {
      "text/plain": [
       "array([ 10,   0, 100,  10,   0, 100])"
      ]
     },
     "execution_count": 241,
     "metadata": {},
     "output_type": "execute_result"
    }
   ],
   "source": [
    "diff_cycles[1][\"cycle\"]"
   ]
  },
  {
   "cell_type": "markdown",
   "id": "b4be7652-0aa8-4522-b009-250084382c66",
   "metadata": {},
   "source": [
    "Okay well this is very different.  The cycle length still seems to be a constant but the numbers in it vary considerably."
   ]
  },
  {
   "cell_type": "code",
   "execution_count": 242,
   "id": "0cb2f8f9-a2a5-4161-bea5-907589beb00f",
   "metadata": {},
   "outputs": [
    {
     "name": "stdout",
     "output_type": "stream",
     "text": [
      "Found cycle of length: 6\n",
      "Found cycle of length: 6\n"
     ]
    },
    {
     "data": {
      "text/plain": [
       "2"
      ]
     },
     "execution_count": 242,
     "metadata": {},
     "output_type": "execute_result"
    }
   ],
   "source": [
    "diff_cycles = []\n",
    "strategies = 5\n",
    "\n",
    "for _ in range(500):\n",
    "    start = rng.choice(101, size=4)\n",
    "    n = 1000\n",
    "    hist = np.zeros(shape=n + 4, dtype=int)\n",
    "    hist[:4] = start\n",
    "\n",
    "    for i in range(4, n+4):\n",
    "        model = BarModel(hist[i-4:i], strategies, x_min, x_max)\n",
    "        hist[i] = int(model.p_go * agents)\n",
    "\n",
    "    is_match = False\n",
    "    for result in diff_cycles:\n",
    "        if match_cycle(hist, result[\"cycle\"]):\n",
    "            result[\"starts\"].append(start)\n",
    "            is_match = True\n",
    "            break\n",
    "    if not is_match:\n",
    "        cycle_length = detect_cycle(hist, 2)\n",
    "        if cycle_length != 75:\n",
    "            print(f\"Found cycle of length: {cycle_length}\")\n",
    "        diff_cycles.append({\n",
    "            \"cycle\": hist[-cycle_length:],\n",
    "            \"starts\": [start]\n",
    "        })\n",
    "\n",
    "\n",
    "len(diff_cycles)"
   ]
  },
  {
   "cell_type": "code",
   "execution_count": 248,
   "id": "b2dfba81-5f27-44ed-9fa1-d29cd7d79a0f",
   "metadata": {
    "tags": []
   },
   "outputs": [
    {
     "name": "stdout",
     "output_type": "stream",
     "text": [
      "Cycle has length 6 and occurred 286 times.\n",
      "\n",
      "\n",
      "Cycle has length 6 and occurred 214 times.\n",
      "\n",
      "\n"
     ]
    }
   ],
   "source": [
    "for result in diff_cycles:\n",
    "    print(f'Cycle has length {len(result[\"cycle\"])} and occurred {len(result[\"starts\"])} times.\\n\\n')\n",
    "    \n",
    "    "
   ]
  },
  {
   "cell_type": "code",
   "execution_count": 249,
   "id": "3b84157e-6a83-4673-af20-7d777d9a7a52",
   "metadata": {},
   "outputs": [
    {
     "data": {
      "text/plain": [
       "array([ 0, 83, 99,  0, 83, 99])"
      ]
     },
     "execution_count": 249,
     "metadata": {},
     "output_type": "execute_result"
    }
   ],
   "source": [
    "diff_cycles[0][\"cycle\"]"
   ]
  },
  {
   "cell_type": "code",
   "execution_count": 250,
   "id": "d82386b9-3e08-4cea-a6c9-c7549a70b5d0",
   "metadata": {},
   "outputs": [
    {
     "data": {
      "text/plain": [
       "array([ 1, 99, 32,  1, 99, 32])"
      ]
     },
     "execution_count": 250,
     "metadata": {},
     "output_type": "execute_result"
    }
   ],
   "source": [
    "diff_cycles[1][\"cycle\"]"
   ]
  },
  {
   "cell_type": "code",
   "execution_count": 251,
   "id": "9708aa66-af5d-4d5c-9843-125ff73ef3c1",
   "metadata": {},
   "outputs": [
    {
     "name": "stdout",
     "output_type": "stream",
     "text": [
      "Found cycle of length: 6\n"
     ]
    },
    {
     "data": {
      "text/plain": [
       "1"
      ]
     },
     "execution_count": 251,
     "metadata": {},
     "output_type": "execute_result"
    }
   ],
   "source": [
    "diff_cycles = []\n",
    "strategies = 4\n",
    "\n",
    "for _ in range(500):\n",
    "    start = rng.choice(101, size=4)\n",
    "    n = 1000\n",
    "    hist = np.zeros(shape=n + 4, dtype=int)\n",
    "    hist[:4] = start\n",
    "\n",
    "    for i in range(4, n+4):\n",
    "        model = BarModel(hist[i-4:i], strategies, x_min, x_max)\n",
    "        hist[i] = int(model.p_go * agents)\n",
    "\n",
    "    is_match = False\n",
    "    for result in diff_cycles:\n",
    "        if match_cycle(hist, result[\"cycle\"]):\n",
    "            result[\"starts\"].append(start)\n",
    "            is_match = True\n",
    "            break\n",
    "    if not is_match:\n",
    "        cycle_length = detect_cycle(hist, 2)\n",
    "        if cycle_length != 75:\n",
    "            print(f\"Found cycle of length: {cycle_length}\")\n",
    "        diff_cycles.append({\n",
    "            \"cycle\": hist[-cycle_length:],\n",
    "            \"starts\": [start]\n",
    "        })\n",
    "\n",
    "\n",
    "len(diff_cycles)"
   ]
  },
  {
   "cell_type": "code",
   "execution_count": 252,
   "id": "68b26937-6bbc-41c2-9b42-0d3f2b704ded",
   "metadata": {},
   "outputs": [
    {
     "name": "stdout",
     "output_type": "stream",
     "text": [
      "Cycle has length 6 and occurred 500 times.\n",
      "\n",
      "\n"
     ]
    }
   ],
   "source": [
    "for result in diff_cycles:\n",
    "    print(f'Cycle has length {len(result[\"cycle\"])} and occurred {len(result[\"starts\"])} times.\\n\\n')"
   ]
  },
  {
   "cell_type": "code",
   "execution_count": 253,
   "id": "acd4e83c-09c1-4b72-90d2-a7ce01309f95",
   "metadata": {},
   "outputs": [
    {
     "data": {
      "text/plain": [
       "array([76, 99,  0, 76, 99,  0])"
      ]
     },
     "execution_count": 253,
     "metadata": {},
     "output_type": "execute_result"
    }
   ],
   "source": [
    "diff_cycles[0][\"cycle\"]"
   ]
  },
  {
   "cell_type": "code",
   "execution_count": 254,
   "id": "7362223f-abd3-4b5a-b403-25e5b2c2e79e",
   "metadata": {},
   "outputs": [
    {
     "name": "stdout",
     "output_type": "stream",
     "text": [
      "Found cycle of length: 6\n",
      "Found cycle of length: 6\n"
     ]
    },
    {
     "data": {
      "text/plain": [
       "2"
      ]
     },
     "execution_count": 254,
     "metadata": {},
     "output_type": "execute_result"
    }
   ],
   "source": [
    "diff_cycles = []\n",
    "strategies = 3\n",
    "\n",
    "for _ in range(500):\n",
    "    start = rng.choice(101, size=4)\n",
    "    n = 1000\n",
    "    hist = np.zeros(shape=n + 4, dtype=int)\n",
    "    hist[:4] = start\n",
    "\n",
    "    for i in range(4, n+4):\n",
    "        model = BarModel(hist[i-4:i], strategies, x_min, x_max)\n",
    "        hist[i] = int(model.p_go * agents)\n",
    "\n",
    "    is_match = False\n",
    "    for result in diff_cycles:\n",
    "        if match_cycle(hist, result[\"cycle\"]):\n",
    "            result[\"starts\"].append(start)\n",
    "            is_match = True\n",
    "            break\n",
    "    if not is_match:\n",
    "        cycle_length = detect_cycle(hist, 2)\n",
    "        if cycle_length != 75:\n",
    "            print(f\"Found cycle of length: {cycle_length}\")\n",
    "        diff_cycles.append({\n",
    "            \"cycle\": hist[-cycle_length:],\n",
    "            \"starts\": [start]\n",
    "        })\n",
    "\n",
    "\n",
    "len(diff_cycles)"
   ]
  },
  {
   "cell_type": "code",
   "execution_count": 255,
   "id": "fd42ec49-91ec-41b5-a94b-ae22345f9b76",
   "metadata": {},
   "outputs": [
    {
     "name": "stdout",
     "output_type": "stream",
     "text": [
      "Cycle has length 6 and occurred 499 times.\n",
      "\n",
      "\n",
      "Cycle has length 6 and occurred 1 times.\n",
      "\n",
      "\n"
     ]
    }
   ],
   "source": [
    "for result in diff_cycles:\n",
    "    print(f'Cycle has length {len(result[\"cycle\"])} and occurred {len(result[\"starts\"])} times.\\n\\n')\n",
    "    \n",
    "    "
   ]
  },
  {
   "cell_type": "code",
   "execution_count": 256,
   "id": "317f4c88-9aa3-4ab9-8e59-c23d74d09b42",
   "metadata": {},
   "outputs": [
    {
     "data": {
      "text/plain": [
       "array([ 9, 63, 99,  9, 63, 99])"
      ]
     },
     "execution_count": 256,
     "metadata": {},
     "output_type": "execute_result"
    }
   ],
   "source": [
    "diff_cycles[0][\"cycle\"]"
   ]
  },
  {
   "cell_type": "code",
   "execution_count": 257,
   "id": "880315cb-3a67-4b02-ae12-52208c4ce8cd",
   "metadata": {},
   "outputs": [
    {
     "data": {
      "text/plain": [
       "array([99, 10, 62, 99, 10, 62])"
      ]
     },
     "execution_count": 257,
     "metadata": {},
     "output_type": "execute_result"
    }
   ],
   "source": [
    "diff_cycles[1][\"cycle\"]"
   ]
  },
  {
   "cell_type": "code",
   "execution_count": 276,
   "id": "2f912ed1-485b-4f32-a04b-785f73899f74",
   "metadata": {},
   "outputs": [
    {
     "name": "stdout",
     "output_type": "stream",
     "text": [
      "Found cycle of length: 6\n",
      "Found cycle of length: 6\n"
     ]
    },
    {
     "data": {
      "text/plain": [
       "2"
      ]
     },
     "execution_count": 276,
     "metadata": {},
     "output_type": "execute_result"
    }
   ],
   "source": [
    "diff_cycles = []\n",
    "strategies = 20\n",
    "\n",
    "for _ in range(500):\n",
    "    start = rng.choice(101, size=4)\n",
    "    n = 1000\n",
    "    hist = np.zeros(shape=n + 4, dtype=int)\n",
    "    hist[:4] = start\n",
    "\n",
    "    for i in range(4, n+4):\n",
    "        model = BarModel(hist[i-4:i], strategies, x_min, x_max)\n",
    "        hist[i] = int(model.p_go * agents)\n",
    "\n",
    "    is_match = False\n",
    "    for result in diff_cycles:\n",
    "        if match_cycle(hist, result[\"cycle\"]):\n",
    "            result[\"starts\"].append(start)\n",
    "            is_match = True\n",
    "            break\n",
    "    if not is_match:\n",
    "        cycle_length = detect_cycle(hist, 2)\n",
    "        if cycle_length != 75:\n",
    "            print(f\"Found cycle of length: {cycle_length}\")\n",
    "        diff_cycles.append({\n",
    "            \"cycle\": hist[-cycle_length:],\n",
    "            \"starts\": [start]\n",
    "        })\n",
    "\n",
    "\n",
    "len(diff_cycles)"
   ]
  },
  {
   "cell_type": "code",
   "execution_count": 277,
   "id": "94a25bbc-385f-464f-9e46-98dedccaa1e9",
   "metadata": {},
   "outputs": [
    {
     "name": "stdout",
     "output_type": "stream",
     "text": [
      "Cycle has length 6 and occurred 283 times.\n",
      "\n",
      "\n",
      "Cycle has length 6 and occurred 217 times.\n",
      "\n",
      "\n"
     ]
    }
   ],
   "source": [
    "for result in diff_cycles:\n",
    "    print(f'Cycle has length {len(result[\"cycle\"])} and occurred {len(result[\"starts\"])} times.\\n\\n')"
   ]
  },
  {
   "cell_type": "code",
   "execution_count": 278,
   "id": "8796ff3b-9437-47f0-9d4e-64c280340bda",
   "metadata": {},
   "outputs": [
    {
     "data": {
      "text/plain": [
       "array([ 0, 99, 99,  0, 99, 99])"
      ]
     },
     "execution_count": 278,
     "metadata": {},
     "output_type": "execute_result"
    }
   ],
   "source": [
    "diff_cycles[0][\"cycle\"]"
   ]
  },
  {
   "cell_type": "code",
   "execution_count": 279,
   "id": "aebba50e-7416-4316-85e0-c5ee559f29f7",
   "metadata": {},
   "outputs": [
    {
     "data": {
      "text/plain": [
       "array([  1,   0, 100,   1,   0, 100])"
      ]
     },
     "execution_count": 279,
     "metadata": {},
     "output_type": "execute_result"
    }
   ],
   "source": [
    "diff_cycles[1][\"cycle\"]"
   ]
  },
  {
   "cell_type": "code",
   "execution_count": 280,
   "id": "119e3593-4b45-49e0-a3b3-1a5c11898e8d",
   "metadata": {},
   "outputs": [
    {
     "name": "stdout",
     "output_type": "stream",
     "text": [
      "Found cycle of length: 6\n",
      "Found cycle of length: 6\n"
     ]
    },
    {
     "data": {
      "text/plain": [
       "2"
      ]
     },
     "execution_count": 280,
     "metadata": {},
     "output_type": "execute_result"
    }
   ],
   "source": [
    "diff_cycles = []\n",
    "strategies = 100\n",
    "\n",
    "for _ in range(500):\n",
    "    start = rng.choice(101, size=4)\n",
    "    n = 1000\n",
    "    hist = np.zeros(shape=n + 4, dtype=int)\n",
    "    hist[:4] = start\n",
    "\n",
    "    for i in range(4, n+4):\n",
    "        model = BarModel(hist[i-4:i], strategies, x_min, x_max)\n",
    "        hist[i] = int(model.p_go * agents)\n",
    "\n",
    "    is_match = False\n",
    "    for result in diff_cycles:\n",
    "        if match_cycle(hist, result[\"cycle\"]):\n",
    "            result[\"starts\"].append(start)\n",
    "            is_match = True\n",
    "            break\n",
    "    if not is_match:\n",
    "        cycle_length = detect_cycle(hist, 2)\n",
    "        if cycle_length != 75:\n",
    "            print(f\"Found cycle of length: {cycle_length}\")\n",
    "        diff_cycles.append({\n",
    "            \"cycle\": hist[-cycle_length:],\n",
    "            \"starts\": [start]\n",
    "        })\n",
    "\n",
    "\n",
    "len(diff_cycles)"
   ]
  },
  {
   "cell_type": "code",
   "execution_count": 281,
   "id": "6fec1010-fe64-4f1e-843d-f5f934be0351",
   "metadata": {},
   "outputs": [
    {
     "name": "stdout",
     "output_type": "stream",
     "text": [
      "Cycle has length 6 and occurred 286 times.\n",
      "\n",
      "\n",
      "Cycle has length 6 and occurred 214 times.\n",
      "\n",
      "\n"
     ]
    }
   ],
   "source": [
    "for result in diff_cycles:\n",
    "    print(f'Cycle has length {len(result[\"cycle\"])} and occurred {len(result[\"starts\"])} times.\\n\\n')\n",
    "    \n",
    "    "
   ]
  },
  {
   "cell_type": "markdown",
   "id": "747395f9-c894-4d79-96ce-66dca510b2fb",
   "metadata": {},
   "source": [
    "What happens if we don't round attendance?  Will the system settle into a similar attractor?"
   ]
  },
  {
   "cell_type": "code",
   "execution_count": 282,
   "id": "4ed69cec-56cb-41c7-98f8-907c94bf000d",
   "metadata": {},
   "outputs": [],
   "source": [
    "diff_cycles = []\n",
    "strategies = 3\n",
    "\n",
    "for _ in range(500):\n",
    "    start = rng.choice(101, size=4)\n",
    "    n = 1000\n",
    "    hist = np.zeros(shape=n + 4)\n",
    "    hist[:4] = start\n",
    "\n",
    "    for i in range(4, n+4):\n",
    "        model = BarModel(hist[i-4:i], strategies, x_min, x_max)\n",
    "        hist[i] = model.p_go * agents"
   ]
  },
  {
   "cell_type": "code",
   "execution_count": 283,
   "id": "e851941c-feef-4f83-99ba-71d4d4b03ace",
   "metadata": {},
   "outputs": [
    {
     "data": {
      "text/plain": [
       "array([1.00000000e+02, 1.89485369e+01, 3.95667179e+01, 1.00000000e+02,\n",
       "       2.99494219e+01, 1.59244533e+01, 1.00000000e+02, 4.42657535e+01,\n",
       "       5.00230989e+00, 9.73099139e+01, 5.35320340e+01, 2.19880077e+00,\n",
       "       9.16546428e+01, 7.62008772e+01, 0.00000000e+00, 7.77120178e+01,\n",
       "       9.61468158e+01, 7.53378816e-04, 6.74369632e+01, 9.93627035e+01])"
      ]
     },
     "execution_count": 283,
     "metadata": {},
     "output_type": "execute_result"
    }
   ],
   "source": [
    "hist[-20:]"
   ]
  },
  {
   "cell_type": "code",
   "execution_count": 285,
   "id": "96f15ccc-2540-4077-a363-8ca74aaeaaf0",
   "metadata": {},
   "outputs": [
    {
     "data": {
      "text/plain": [
       "[<matplotlib.lines.Line2D at 0x1303233a0>]"
      ]
     },
     "execution_count": 285,
     "metadata": {},
     "output_type": "execute_result"
    },
    {
     "data": {
      "image/png": "[encoded data removed]",
      "text/plain": [
       "<Figure size 432x288 with 1 Axes>"
      ]
     },
     "metadata": {
      "needs_background": "light"
     },
     "output_type": "display_data"
    }
   ],
   "source": [
    "plt.plot(hist[-100:])"
   ]
  },
  {
   "cell_type": "code",
   "execution_count": 295,
   "id": "d1045143-fff3-4d43-b764-5bf5f232d9a1",
   "metadata": {},
   "outputs": [
    {
     "data": {
      "text/plain": [
       "[<matplotlib.lines.Line2D at 0x1304607f0>]"
      ]
     },
     "execution_count": 295,
     "metadata": {},
     "output_type": "execute_result"
    },
    {
     "data": {
      "image/png": "[encoded data removed]",
      "text/plain": [
       "<Figure size 432x288 with 1 Axes>"
      ]
     },
     "metadata": {
      "needs_background": "light"
     },
     "output_type": "display_data"
    }
   ],
   "source": [
    "plt.plot(hist[-200:])"
   ]
  },
  {
   "cell_type": "code",
   "execution_count": 294,
   "id": "644ee409-fa5e-473b-8b50-451b9881a4f6",
   "metadata": {},
   "outputs": [],
   "source": [
    "detect_cycle(np.round(hist, decimals=1), 4)"
   ]
  },
  {
   "cell_type": "markdown",
   "id": "1245b34e-81b5-4bff-a427-37cd2b2a4ba2",
   "metadata": {},
   "source": [
    "It appears that these length 3 cycles only happen because of rounding.  Without rounding the system appears to approach some much longer and more complicated cycle."
   ]
  },
  {
   "cell_type": "code",
   "execution_count": null,
   "id": "bf08adfc-bef9-4834-93d2-dd971ee2de8c",
   "metadata": {},
   "outputs": [],
   "source": []
  },
  {
   "cell_type": "code",
   "execution_count": null,
   "id": "7208e776-ffea-48f7-b480-8bbe3ab66e39",
   "metadata": {},
   "outputs": [],
   "source": []
  },
  {
   "cell_type": "code",
   "execution_count": null,
   "id": "a428748d-38cc-4cb4-8f20-137781614ce6",
   "metadata": {},
   "outputs": [],
   "source": []
  },
  {
   "cell_type": "code",
   "execution_count": null,
   "id": "2621ba4f-1689-4e31-a487-4ead8ce30690",
   "metadata": {},
   "outputs": [],
   "source": []
  },
  {
   "cell_type": "code",
   "execution_count": null,
   "id": "510210d3-2539-4da8-9f64-198e6c24ad49",
   "metadata": {},
   "outputs": [],
   "source": []
  },
  {
   "cell_type": "markdown",
   "id": "06ee8bf1-9033-4f09-9718-58750f24b884",
   "metadata": {},
   "source": [
    "Okay this is bizarre.  For > 2 strategies, we always end up with a cycle of length 6.  For 5 and 10 strategies, we seem to have 2 different attractors that each pull in about half of the phase space.  With 3 and 4 strategies, there is one dominant attractor but a few  I.C. that wind up somewhere else.\n",
    "\n",
    "How well do they compare to the actual simuulation?"
   ]
  },
  {
   "cell_type": "code",
   "execution_count": 308,
   "id": "0576b23e-3846-497a-a9df-6a70444adbc0",
   "metadata": {},
   "outputs": [
    {
     "name": "stdout",
     "output_type": "stream",
     "text": [
      "[43 93 19 78]\n"
     ]
    },
    {
     "name": "stderr",
     "output_type": "stream",
     "text": [
      "/Users/rebecca/.pyenv/versions/3.9.5/envs/jupyter/lib/python3.9/site-packages/matplotlib/text.py:1215: FutureWarning: elementwise comparison failed; returning scalar instead, but in the future will perform elementwise comparison\n",
      "  if s != self._text:\n"
     ]
    },
    {
     "data": {
      "image/png": "[encoded data removed]",
      "text/plain": [
       "<Figure size 432x288 with 1 Axes>"
      ]
     },
     "metadata": {
      "needs_background": "light"
     },
     "output_type": "display_data"
    }
   ],
   "source": [
    "print(cases[17])\n",
    "plot_errs(cases[17])"
   ]
  },
  {
   "cell_type": "code",
   "execution_count": 309,
   "id": "0a4309a0-f03d-4700-9f11-97b340114719",
   "metadata": {},
   "outputs": [
    {
     "name": "stderr",
     "output_type": "stream",
     "text": [
      "/Users/rebecca/.pyenv/versions/3.9.5/envs/jupyter/lib/python3.9/site-packages/matplotlib/text.py:1215: FutureWarning: elementwise comparison failed; returning scalar instead, but in the future will perform elementwise comparison\n",
      "  if s != self._text:\n"
     ]
    },
    {
     "data": {
      "image/png": "[encoded data removed]",
      "text/plain": [
       "<Figure size 432x288 with 1 Axes>"
      ]
     },
     "metadata": {
      "needs_background": "light"
     },
     "output_type": "display_data"
    }
   ],
   "source": [
    "plot_errs(cases[18])"
   ]
  },
  {
   "cell_type": "code",
   "execution_count": 310,
   "id": "124e208e-96c2-4ce0-afe1-4ff8766a8bbb",
   "metadata": {},
   "outputs": [
    {
     "name": "stderr",
     "output_type": "stream",
     "text": [
      "/Users/rebecca/.pyenv/versions/3.9.5/envs/jupyter/lib/python3.9/site-packages/matplotlib/text.py:1215: FutureWarning: elementwise comparison failed; returning scalar instead, but in the future will perform elementwise comparison\n",
      "  if s != self._text:\n"
     ]
    },
    {
     "data": {
      "image/png": "[encoded data removed]",
      "text/plain": [
       "<Figure size 432x288 with 1 Axes>"
      ]
     },
     "metadata": {
      "needs_background": "light"
     },
     "output_type": "display_data"
    }
   ],
   "source": [
    "plot_errs(cases[19])"
   ]
  },
  {
   "cell_type": "code",
   "execution_count": 311,
   "id": "aa8401ba-c218-4c7d-a8ab-0593113e31b1",
   "metadata": {},
   "outputs": [
    {
     "name": "stderr",
     "output_type": "stream",
     "text": [
      "/Users/rebecca/.pyenv/versions/3.9.5/envs/jupyter/lib/python3.9/site-packages/matplotlib/text.py:1215: FutureWarning: elementwise comparison failed; returning scalar instead, but in the future will perform elementwise comparison\n",
      "  if s != self._text:\n"
     ]
    },
    {
     "data": {
      "image/png": "[encoded data removed]",
      "text/plain": [
       "<Figure size 432x288 with 1 Axes>"
      ]
     },
     "metadata": {
      "needs_background": "light"
     },
     "output_type": "display_data"
    }
   ],
   "source": [
    "plot_errs(cases[20])"
   ]
  },
  {
   "cell_type": "code",
   "execution_count": 327,
   "id": "1ce61a96-a864-4ad4-a0ac-418740f9ae3a",
   "metadata": {},
   "outputs": [
    {
     "name": "stdout",
     "output_type": "stream",
     "text": [
      "Case 1 has no optimal a value\n",
      "\n",
      "Case 2 has no optimal a value\n",
      "\n",
      "Case 3 has no optimal a value\n",
      "\n",
      "Case 4 has no optimal a value\n",
      "\n",
      "Case 5 has no optimal a value\n",
      "\n",
      "Case 6 has no optimal a value\n",
      "\n",
      "Case 7 has no optimal a value\n",
      "\n",
      "Case 8 has no optimal a value\n",
      "\n",
      "Case 9 has optimal a value 1.09\n",
      "\n",
      "Case 10 has optimal a value 1.157736604907361\n",
      "\n",
      "Case 11 has optimal a value -0.22665278500780844\n",
      "\n",
      "Case 12 has optimal a value -1.7256637168141593\n",
      "\n",
      "Case 13 has optimal a value 0.4470588235294118\n",
      "\n",
      "Case 14 has optimal a value 0.14141986679892304\n",
      "\n",
      "Case 15 has optimal a value 0.032754716981132075\n",
      "\n",
      "Case 16 has optimal a value 0.7045340050377834\n",
      "\n",
      "Case 17 has optimal a value -0.011283851554663993\n",
      "\n",
      "Case 18 has optimal a value -0.03061646669424907\n",
      "\n",
      "Case 19 has optimal a value -0.20516499282639886\n",
      "\n",
      "Case 20 has optimal a value -0.2\n",
      "\n"
     ]
    }
   ],
   "source": [
    "for case in range(1,21):\n",
    "    m = BarModel(cases[case], strategies, x_min, x_max)\n",
    "    try:\n",
    "        print(f\"Case {case} has optimal a value {m.opt_a}\\n\")\n",
    "    except:\n",
    "        print(f\"Case {case} has no optimal a value\\n\")"
   ]
  },
  {
   "cell_type": "code",
   "execution_count": 328,
   "id": "8a9ad37f-c30e-4360-9c72-58b6ad722da6",
   "metadata": {},
   "outputs": [
    {
     "data": {
      "text/plain": [
       "-0.20516499282639886"
      ]
     },
     "execution_count": 328,
     "metadata": {},
     "output_type": "execute_result"
    }
   ],
   "source": [
    "m = BarModel(cases[19], strategies, x_min, x_max)\n",
    "m.opt_a"
   ]
  },
  {
   "cell_type": "code",
   "execution_count": 333,
   "id": "b6d68199-8055-4327-9f47-8c993c4938c2",
   "metadata": {},
   "outputs": [
    {
     "data": {
      "text/plain": [
       "array([ 29,  40,  64,  18,  27, 100,  52,   9,  83,  72,   0,  65,  97,\n",
       "        17,  46, 100,  39,  24, 100,  54,   3,  80,  79,   0,  61,  99,\n",
       "        23,  42, 100,  42,  17,  98,  58,   1,  76,  85,   0,  58, 100,\n",
       "        27,  40, 100,  44,  13,  94,  62,   0,  73,  89,   0,  56, 100,\n",
       "        29,  38, 100,  45,  11,  92,  64,   0,  71,  92,   5,  53, 100,\n",
       "        33,  36, 100,  47,   8,  88,  68,   0,  68,  95,  12,  49, 100,\n",
       "        36,  31, 100,  50,   6,  85,  72,   0,  65,  97,  17,  46, 100,\n",
       "        39,  24, 100,  54,   3,  80,  79,   0,  61,  99,  23,  42, 100])"
      ]
     },
     "execution_count": 333,
     "metadata": {},
     "output_type": "execute_result"
    }
   ],
   "source": [
    "n = 100\n",
    "\n",
    "hist = np.zeros(shape=n + 4, dtype=int)\n",
    "hist[:4] = cases[19]\n",
    "\n",
    "cases_sim = np.zeros(shape=n, dtype=int)\n",
    "\n",
    "for i in range(4, n+4):\n",
    "    model = BarModel(hist[i-4:i], strategies, x_min, x_max)\n",
    "    hist[i] = int(model.p_go * agents)\n",
    "    cases_sim[i-4] = model.case\n",
    "    \n",
    "hist"
   ]
  },
  {
   "cell_type": "code",
   "execution_count": 334,
   "id": "fb97528e-b516-4311-a508-720071019961",
   "metadata": {},
   "outputs": [
    {
     "data": {
      "text/plain": [
       "array([19,  3, 10, 15,  9, 16,  6,  9, 14, 10,  9,  3, 10, 15,  2, 10, 15,\n",
       "        9, 14,  6,  9, 14, 10,  9,  3, 10, 15,  9, 10, 15,  9, 14,  5,  9,\n",
       "        3, 10,  9,  3, 10, 15,  9, 10,  6,  9, 14, 10,  9,  3, 10,  9,  3,\n",
       "       10, 15,  9, 16,  6,  9, 14, 10,  9,  3, 10,  9,  3, 10, 15,  9, 16,\n",
       "        6,  9, 14, 10,  9,  3, 10, 13,  2, 10, 15,  9, 16,  6,  9, 14, 10,\n",
       "        9,  3, 10, 15,  2, 10, 15,  9, 14,  6,  9, 14, 10,  9,  3])"
      ]
     },
     "execution_count": 334,
     "metadata": {},
     "output_type": "execute_result"
    }
   ],
   "source": [
    "cases_sim"
   ]
  },
  {
   "cell_type": "code",
   "execution_count": 338,
   "id": "4953d3f4-b0ee-48c7-85db-6141d3e94537",
   "metadata": {},
   "outputs": [
    {
     "data": {
      "text/plain": [
       "array([12,  2, 10,  6,  9, 14,  5,  9,  3, 10,  9,  3, 10, 15,  9, 16,  6,\n",
       "        9, 14, 10,  9,  3, 10,  9,  3, 10, 15,  9, 16,  6,  9, 14, 10,  9,\n",
       "        3, 10, 13,  2, 10, 15,  9, 16,  6,  9, 14, 10,  9,  3, 10, 15,  2,\n",
       "       10, 15,  9, 14,  6,  9, 14, 10,  9,  3, 10, 15,  9, 10, 15,  9, 14,\n",
       "        5,  9,  3, 10,  9,  3, 10, 15,  9, 10,  6,  9, 14, 10,  9,  3, 10,\n",
       "        9,  3, 10, 15,  9, 16,  6,  9, 14, 10,  9,  3, 10,  9,  3])"
      ]
     },
     "execution_count": 338,
     "metadata": {},
     "output_type": "execute_result"
    }
   ],
   "source": [
    "n = 100\n",
    "\n",
    "hist = np.zeros(shape=n + 4, dtype=int)\n",
    "hist[:4] = cases[12]\n",
    "\n",
    "cases_sim = np.zeros(shape=n, dtype=int)\n",
    "\n",
    "for i in range(4, n+4):\n",
    "    model = BarModel(hist[i-4:i], strategies, x_min, x_max)\n",
    "    hist[i] = int(model.p_go * agents)\n",
    "    cases_sim[i-4] = model.case\n",
    "    \n",
    "cases_sim"
   ]
  },
  {
   "cell_type": "code",
   "execution_count": null,
   "id": "00f21e82-8d97-4ca6-b578-6736888e968e",
   "metadata": {},
   "outputs": [],
   "source": []
  }
 ],
 "metadata": {
  "kernelspec": {
   "display_name": "Python 3",
   "language": "python",
   "name": "python3"
  },
  "language_info": {
   "codemirror_mode": {
    "name": "ipython",
    "version": 3
   },
   "file_extension": ".py",
   "mimetype": "text/x-python",
   "name": "python",
   "nbconvert_exporter": "python",
   "pygments_lexer": "ipython3",
   "version": "3.9.5"
  }
 },
 "nbformat": 4,
 "nbformat_minor": 5
}
