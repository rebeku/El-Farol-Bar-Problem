{
 "cells": [
  {
   "cell_type": "code",
   "execution_count": 27,
   "id": "22ed2972-c458-4da2-b6f6-306d92a5ff7c",
   "metadata": {},
   "outputs": [],
   "source": [
    "import numpy as np\n",
    "from matplotlib import pyplot as plt\n",
    "\n",
    "\n",
    "def make_strategies(rng, strategies, memory):\n",
    "    # weights should sum to 1\n",
    "    # essentially, we are partitioning the [0,1] interval\n",
    "    # and taking the size of each sub-interval\n",
    "    # TODO: add negative weights?\n",
    "    w = rng.uniform(size=(strategies, memory-1))\n",
    "    w.sort(axis=1)\n",
    "    offsets = np.hstack([w[:, :], np.ones(shape=(strategies,1))])\n",
    "    return offsets - np.hstack([np.zeros(shape=(strategies,1)), w[:, :]])\n",
    "\n",
    "\n",
    "def run_simulation(\n",
    "    agents = 100, # number of agents\n",
    "    threshold = 60, # threshold for attendance\n",
    "    strategies = 10, # number of strategies\n",
    "    # number of weeks back in predictor function\n",
    "    # AND number of weeks back to look when selecting a predictor\n",
    "    memory = 8,\n",
    "    # number of rounds to run the simulation\n",
    "    n_iter = 500,\n",
    "    # random seed for numpy\n",
    "    seed=23\n",
    "):\n",
    "    \"\"\"\n",
    "    Run a simulation of the El Farol Bar Problem\n",
    "    for *n_iter* weeks.  Return the weekly attendance history,\n",
    "    the strategy chosen by each agent, and the prediction\n",
    "    made by each agent each week using their optimal predictor.\n",
    "    \"\"\"\n",
    "    rng = np.random.default_rng(seed)\n",
    "\n",
    "    # each row is a strategy\n",
    "    strats = [\n",
    "        make_strategies(rng, strategies, memory) for _ in range(agents)\n",
    "    ]\n",
    "\n",
    "    start = rng.uniform(agents, size=(memory*2))\n",
    "\n",
    "    # weekly attendance count\n",
    "    # the first 2*memory weeks are randomly generated\n",
    "    # to seed the strategies\n",
    "    hist = np.hstack([start, np.zeros(n_iter)]).astype(int)\n",
    "\n",
    "    # index of week\n",
    "    # we need some starting history to begin making selections\n",
    "    t = memory * 2\n",
    "\n",
    "    # Record the index of the optimal strategy \n",
    "    # on each iteration.\n",
    "    # each row corresponds to an agent\n",
    "    # each column corresponds to a week\n",
    "    best_strats = np.zeros((agents, len(hist)))\n",
    "\n",
    "    # record each agent's prediction on each iteration\n",
    "    pred_history = np.zeros((agents, len(hist)))\n",
    "\n",
    "    while t < memory * 2 + n_iter:\n",
    "        \n",
    "        # construct time windows for evaluating strategies\n",
    "        \n",
    "        # The columns begin at\n",
    "        # t - m - 1 \n",
    "        # t - m\n",
    "        # ...\n",
    "        # t - 1\n",
    "        # t\n",
    "        # as you go down the column you are looking back\n",
    "        # to that week's history.\n",
    "        # so the column beginning at *t - m - 1*\n",
    "        # generates the prediction for week *t - m*\n",
    "        # and the rightmost column generates a\n",
    "        # prediction for next week.\n",
    "        windows = np.vstack([\n",
    "            hist[t-memory-i-1: t-i]\n",
    "            for i in range(memory)\n",
    "        ])\n",
    "\n",
    "        for agent in range(agents):\n",
    "            strat = strats[agent]\n",
    "            # each row is a strategy\n",
    "            # each column is predicted attendance\n",
    "            # in increasing order.\n",
    "            # the last column has the prediction for\n",
    "            # next week\n",
    "            predictions = strat.dot(windows)\n",
    "            \n",
    "            # these are the observations that we use to\n",
    "            # to test our predictions.\n",
    "            # note that the observation from column 0\n",
    "            # is not used since its prediction would come\n",
    "            # from a previous week's history.\n",
    "            observations = windows[0, 1:]\n",
    "\n",
    "            # calculate the absolute error of predictions\n",
    "            # here, we discard the rightmost prediction as\n",
    "            # this is the prediction for the future.\n",
    "            # if we knew the correct answer for that,\n",
    "            # we wouldn't need to predict it!\n",
    "            errs = np.abs(predictions[:, :-1] - observations).sum(axis=1)\n",
    "\n",
    "            best_strat = np.argmin(errs)\n",
    "            best_strats[agent, t] = best_strat\n",
    "\n",
    "            pred = strat[best_strat].dot(windows[:,-1])\n",
    "            pred_history[agent, t] = pred\n",
    "\n",
    "        hist[t] = (pred_history[:, t] < threshold).sum()\n",
    "        t += 1\n",
    "        \n",
    "    return hist, best_strats, pred_history"
   ]
  },
  {
   "cell_type": "code",
   "execution_count": 11,
   "id": "9edc80a7-49b1-46e0-b1ad-ed1867182887",
   "metadata": {},
   "outputs": [],
   "source": [
    "agents = 100 # number of agents\n",
    "threshold = 60 # threshold for attendance\n",
    "strategies = 2 # number of strategies\n",
    "# number of weeks back in predictor function\n",
    "# AND number of weeks back to look when selecting a predictor\n",
    "memory = 2\n",
    "# number of rounds to run the simulation\n",
    "n_iter = 1\n",
    "# random seed for numpy\n",
    "seed=25\n",
    "\n",
    "\n",
    "rng = np.random.default_rng(seed)\n",
    "\n",
    "# each row is a strategy\n",
    "strats = [\n",
    "    make_strategies(rng, strategies, memory) for _ in range(agents)\n",
    "]\n",
    "\n",
    "start = np.array([0,100,0,100])\n",
    "\n",
    "# weekly attendance count\n",
    "# the first 2*memory weeks are randomly generated\n",
    "# to seed the strategies\n",
    "hist = np.hstack([start, np.zeros(n_iter)]).astype(int)\n",
    "\n",
    "# index of week\n",
    "# we need some starting history to begin making selections\n",
    "t = memory * 2\n",
    "\n",
    "# Record the index of the optimal strategy \n",
    "# on each iteration.\n",
    "# each row corresponds to an agent\n",
    "# each column corresponds to a week\n",
    "best_strats = np.zeros((agents, len(hist)))\n",
    "\n",
    "# record each agent's prediction on each iteration\n",
    "pred_history = np.zeros((agents, len(hist)))\n",
    "\n",
    "# construct time windows for evaluating strategies\n",
    "\n",
    "# The columns begin at\n",
    "# t - m - 1 \n",
    "# t - m\n",
    "# ...\n",
    "# t - 1\n",
    "# t\n",
    "# as you go down the column you are looking back\n",
    "# to that week's history.\n",
    "# so the column beginning at *t - m - 1*\n",
    "# generates the prediction for week *t - m*\n",
    "# and the rightmost column generates a\n",
    "# prediction for next week.\n",
    "windows = np.vstack([\n",
    "    hist[t-memory-i-1: t-i]\n",
    "    for i in range(memory)\n",
    "])\n",
    "\n",
    "for agent in range(agents):\n",
    "    strat = strats[agent]\n",
    "    # each row is a strategy\n",
    "    # each column is predicted attendance\n",
    "    # in increasing order.\n",
    "    # the last column has the prediction for\n",
    "    # next week\n",
    "    predictions = strat.dot(windows)\n",
    "\n",
    "    # these are the observations that we use to\n",
    "    # to test our predictions.\n",
    "    # note that the observation from column 0\n",
    "    # is not used since its prediction would come\n",
    "    # from a previous week's history.\n",
    "    observations = windows[0, 1:]\n",
    "\n",
    "    # calculate the absolute error of predictions\n",
    "    # here, we discard the rightmost prediction as\n",
    "    # this is the prediction for the future.\n",
    "    # if we knew the correct answer for that,\n",
    "    # we wouldn't need to predict it!\n",
    "    errs = np.abs(predictions[:, :-1] - observations).sum(axis=1)\n",
    "\n",
    "    best_strat = np.argmin(errs)\n",
    "    best_strats[agent, t] = best_strat\n",
    "\n",
    "    pred = strat[best_strat].dot(windows[:,-1])\n",
    "    pred_history[agent, t] = pred\n",
    "\n",
    "hist[t] = (pred_history[:, t] < threshold).sum()\n",
    "t += 1"
   ]
  },
  {
   "cell_type": "code",
   "execution_count": 12,
   "id": "696b0eeb-6c37-48fd-b77c-4e0e0a0412db",
   "metadata": {},
   "outputs": [
    {
     "data": {
      "text/plain": [
       "array([  0, 100,   0, 100,  85])"
      ]
     },
     "execution_count": 12,
     "metadata": {},
     "output_type": "execute_result"
    }
   ],
   "source": [
    "hist"
   ]
  },
  {
   "cell_type": "markdown",
   "id": "30c74956-fc7f-4d6b-9cf0-3233f2f78835",
   "metadata": {},
   "source": [
    "WHAT?????\n",
    "\n",
    "# Check assumptions\n",
    "## Coefficients sum to 1"
   ]
  },
  {
   "cell_type": "code",
   "execution_count": 13,
   "id": "d73dab5f-74f8-4741-bb12-517523b9110c",
   "metadata": {},
   "outputs": [],
   "source": [
    "for strat in strats:\n",
    "    for i in range(2):\n",
    "        assert strats[i].sum() - 1 < 1e010"
   ]
  },
  {
   "cell_type": "markdown",
   "id": "ac30e0b3-9e3b-48ae-8522-9b566ad88efe",
   "metadata": {},
   "source": [
    "OK that's fine\n",
    "## Are agents picking the highest a?"
   ]
  },
  {
   "cell_type": "code",
   "execution_count": 20,
   "id": "dc1e9533-6112-45df-a750-e713de07e26a",
   "metadata": {},
   "outputs": [
    {
     "ename": "AssertionError",
     "evalue": "",
     "output_type": "error",
     "traceback": [
      "\u001b[0;31m---------------------------------------------------------------------------\u001b[0m",
      "\u001b[0;31mAssertionError\u001b[0m                            Traceback (most recent call last)",
      "\u001b[0;32m<ipython-input-20-ca04afd0a5e8>\u001b[0m in \u001b[0;36m<module>\u001b[0;34m\u001b[0m\n\u001b[1;32m      7\u001b[0m     \u001b[0ma_bad\u001b[0m \u001b[0;34m=\u001b[0m \u001b[0mstrat\u001b[0m\u001b[0;34m[\u001b[0m\u001b[0mnc\u001b[0m\u001b[0;34m,\u001b[0m \u001b[0;36m0\u001b[0m\u001b[0;34m]\u001b[0m\u001b[0;34m\u001b[0m\u001b[0;34m\u001b[0m\u001b[0m\n\u001b[1;32m      8\u001b[0m \u001b[0;34m\u001b[0m\u001b[0m\n\u001b[0;32m----> 9\u001b[0;31m     \u001b[0;32massert\u001b[0m \u001b[0ma_1\u001b[0m \u001b[0;34m>\u001b[0m \u001b[0ma_bad\u001b[0m\u001b[0;34m\u001b[0m\u001b[0;34m\u001b[0m\u001b[0m\n\u001b[0m\u001b[1;32m     10\u001b[0m \u001b[0;34m\u001b[0m\u001b[0m\n\u001b[1;32m     11\u001b[0m \u001b[0mprint\u001b[0m\u001b[0;34m(\u001b[0m\u001b[0;34m\"Largest always picked!\"\u001b[0m\u001b[0;34m)\u001b[0m\u001b[0;34m\u001b[0m\u001b[0;34m\u001b[0m\u001b[0m\n",
      "\u001b[0;31mAssertionError\u001b[0m: "
     ]
    }
   ],
   "source": [
    "for strat, choice in zip(strats, best_strats[:, -1]):\n",
    "    c = int(choice)\n",
    "    a_1 = strat[c, 0]\n",
    "    \n",
    "    # not chosen\n",
    "    nc = (c + 1) % 2\n",
    "    a_bad = strat[nc, 0]\n",
    "    \n",
    "    assert a_1 > a_bad\n",
    "    \n",
    "print(\"Largest always picked!\")"
   ]
  },
  {
   "cell_type": "code",
   "execution_count": 21,
   "id": "f05e1263-70af-4f22-ad56-68ce57df78a7",
   "metadata": {},
   "outputs": [
    {
     "name": "stdout",
     "output_type": "stream",
     "text": [
      "Smallest always picked?!?!\n"
     ]
    }
   ],
   "source": [
    "for strat, choice in zip(strats, best_strats[:, -1]):\n",
    "    c = int(choice)\n",
    "    a_1 = strat[c, 0]\n",
    "    \n",
    "    # not chosen\n",
    "    nc = (c + 1) % 2\n",
    "    a_bad = strat[nc, 0]\n",
    "    \n",
    "    assert a_1 < a_bad\n",
    "    \n",
    "print(\"Smallest always picked?!?!\")"
   ]
  },
  {
   "cell_type": "markdown",
   "id": "706b2edb-6048-4841-a5d8-bbbbdc297bc3",
   "metadata": {},
   "source": [
    "Something is still wrong.  But we are making progress!"
   ]
  },
  {
   "cell_type": "code",
   "execution_count": 34,
   "id": "0fbd581b-addd-4d4d-a334-77f4b4f724ce",
   "metadata": {},
   "outputs": [
    {
     "data": {
      "text/plain": [
       "array([[100,   0, 100],\n",
       "       [  0, 100,   0]])"
      ]
     },
     "execution_count": 34,
     "metadata": {},
     "output_type": "execute_result"
    }
   ],
   "source": [
    "windows"
   ]
  },
  {
   "cell_type": "code",
   "execution_count": 33,
   "id": "d3a671a1-814a-443a-b9d0-0bbeac1e5988",
   "metadata": {},
   "outputs": [
    {
     "data": {
      "text/plain": [
       "array([[0.51056717, 0.48943283],\n",
       "       [0.91127415, 0.08872585]])"
      ]
     },
     "execution_count": 33,
     "metadata": {},
     "output_type": "execute_result"
    }
   ],
   "source": [
    "strats[-1]"
   ]
  },
  {
   "cell_type": "code",
   "execution_count": 31,
   "id": "23246e04-0a9c-4d38-ac05-0d78138f2d13",
   "metadata": {},
   "outputs": [
    {
     "data": {
      "text/plain": [
       "array([[51.05671669, 48.94328331, 51.05671669],\n",
       "       [91.1274154 ,  8.8725846 , 91.1274154 ]])"
      ]
     },
     "execution_count": 31,
     "metadata": {},
     "output_type": "execute_result"
    }
   ],
   "source": [
    "predictions"
   ]
  },
  {
   "cell_type": "code",
   "execution_count": 32,
   "id": "66c2b3d6-cb6b-4978-8588-761a9d3ed265",
   "metadata": {},
   "outputs": [
    {
     "data": {
      "text/plain": [
       "array([  0, 100])"
      ]
     },
     "execution_count": 32,
     "metadata": {},
     "output_type": "execute_result"
    }
   ],
   "source": [
    "observations"
   ]
  },
  {
   "cell_type": "code",
   "execution_count": 36,
   "id": "2c6ef12e-b193-44d6-a58a-400939a88cb1",
   "metadata": {},
   "outputs": [
    {
     "data": {
      "text/plain": [
       "array([[ 51.05671669, -51.05671669],\n",
       "       [ 91.1274154 , -91.1274154 ]])"
      ]
     },
     "execution_count": 36,
     "metadata": {},
     "output_type": "execute_result"
    }
   ],
   "source": [
    "predictions[:, :-1] - observations"
   ]
  },
  {
   "cell_type": "code",
   "execution_count": 40,
   "id": "5d1efaea-0d16-4ecd-bb73-e9a7648688a8",
   "metadata": {},
   "outputs": [
    {
     "data": {
      "text/plain": [
       "array([102.11343339, 182.2548308 ])"
      ]
     },
     "execution_count": 40,
     "metadata": {},
     "output_type": "execute_result"
    }
   ],
   "source": [
    "errs"
   ]
  },
  {
   "cell_type": "code",
   "execution_count": 39,
   "id": "7e28c219-6dbd-4bc8-b77c-9dc9a9bfa95a",
   "metadata": {},
   "outputs": [
    {
     "data": {
      "text/plain": [
       "array([100., 100.])"
      ]
     },
     "execution_count": 39,
     "metadata": {},
     "output_type": "execute_result"
    }
   ],
   "source": [
    "predictions[:, :-1].sum(axis=1)"
   ]
  },
  {
   "cell_type": "markdown",
   "id": "5fc448c0-0ada-4796-9940-af1289863c5a",
   "metadata": {},
   "source": [
    "Wait, this IS right!  The columns are in decreasing order so the leftmost weight IS attached to the most recent week.  Before I just had the off-by-one error and the backwards order cancel each other out.  We are okay I think.\n",
    "\n",
    "We pick the smallest $a$ and use that to predict.  So the probability of an agent attending after history (0, 100, 0, 100) is:\n",
    "\n",
    "$$\n",
    "P(\\text{prediction} < 60) \\\\\n",
    "= P(100 a_{min} < 60) \\\\\n",
    "= 1 - P(a_{min} > 0.6) \\\\\n",
    "= 1 - P(a > 0.6)^S \\\\\n",
    "= 1 - 0.4^S \\\\\n",
    "$$\n",
    "\n",
    "With history (100, 0, 100, 0), the probability of attending is:\n",
    "\n",
    "$$\n",
    "P(\\text{prediction} < 60) \\\\\n",
    "= P(100 (1 - a_{min}) < 60) \\\\\n",
    "= P(1 - a_{min}) < 0.6) \\\\\n",
    "= P(0.4 < a_{min}) \\\\\n",
    "= P(a_{min} > 0.4) \\\\\n",
    "= P(a > 0.4)^S\n",
    "= 0.6^S\n",
    "$$\n",
    "\n",
    "Is this what we get?"
   ]
  },
  {
   "cell_type": "code",
   "execution_count": 43,
   "id": "8d0cfea8-1687-4eba-ae5c-ed7da7ede9cd",
   "metadata": {},
   "outputs": [
    {
     "name": "stdout",
     "output_type": "stream",
     "text": [
      "We expect agents to attend with probability 0.84.\n",
      "Total weekly attendance should have mean 84.0 and variance 13.440000000000003\n",
      "Average attendance: 84.0734\n",
      "Variance of attendance: 13.53801244\n"
     ]
    },
    {
     "data": {
      "image/png": "[encoded data removed]",
      "text/plain": [
       "<Figure size 432x288 with 1 Axes>"
      ]
     },
     "metadata": {
      "needs_background": "light"
     },
     "output_type": "display_data"
    }
   ],
   "source": [
    "agents = 100 # number of agents\n",
    "threshold = 60 # threshold for attendance\n",
    "strategies = 2 # number of strategies\n",
    "# number of weeks back in predictor function\n",
    "# AND number of weeks back to look when selecting a predictor\n",
    "memory = 2\n",
    "# number of rounds to run the simulation\n",
    "n_iter = 1\n",
    "trials = 5000\n",
    "\n",
    "# random seed for numpy\n",
    "seed=25\n",
    "\n",
    "\n",
    "p = (1 - 0.4**strategies)\n",
    "print(f\"We expect agents to attend with probability {p}.\")\n",
    "print(f\"Total weekly attendance should have mean {agents * p} and variance {agents * p * (1-p)}\")\n",
    "\n",
    "results = np.empty(trials)\n",
    "\n",
    "rng = np.random.default_rng(seed)\n",
    "\n",
    "for tr in range(trials):\n",
    "    # each row is a strategy\n",
    "    strats = [\n",
    "        make_strategies(rng, strategies, memory) for _ in range(agents)\n",
    "    ]\n",
    "\n",
    "    start = np.array([0,100,0,100])\n",
    "\n",
    "    # weekly attendance count\n",
    "    # the first 2*memory weeks are randomly generated\n",
    "    # to seed the strategies\n",
    "    hist = np.hstack([start, np.zeros(n_iter)]).astype(int)\n",
    "\n",
    "    # index of week\n",
    "    # we need some starting history to begin making selections\n",
    "    t = memory * 2\n",
    "\n",
    "    # Record the index of the optimal strategy \n",
    "    # on each iteration.\n",
    "    # each row corresponds to an agent\n",
    "    # each column corresponds to a week\n",
    "    best_strats = np.zeros((agents, len(hist)))\n",
    "\n",
    "    # record each agent's prediction on each iteration\n",
    "    pred_history = np.zeros((agents, len(hist)))\n",
    "\n",
    "    # construct time windows for evaluating strategies\n",
    "\n",
    "    # The columns begin at\n",
    "    # t - m - 1 \n",
    "    # t - m\n",
    "    # ...\n",
    "    # t - 1\n",
    "    # t\n",
    "    # as you go down the column you are looking back\n",
    "    # to that week's history.\n",
    "    # so the column beginning at *t - m - 1*\n",
    "    # generates the prediction for week *t - m*\n",
    "    # and the rightmost column generates a\n",
    "    # prediction for next week.\n",
    "    windows = np.vstack([\n",
    "        hist[t-memory-i-1: t-i]\n",
    "        for i in range(memory)\n",
    "    ])\n",
    "\n",
    "    for agent in range(agents):\n",
    "        strat = strats[agent]\n",
    "        # each row is a strategy\n",
    "        # each column is predicted attendance\n",
    "        # in increasing order.\n",
    "        # the last column has the prediction for\n",
    "        # next week\n",
    "        predictions = strat.dot(windows)\n",
    "\n",
    "        # these are the observations that we use to\n",
    "        # to test our predictions.\n",
    "        # note that the observation from column 0\n",
    "        # is not used since its prediction would come\n",
    "        # from a previous week's history.\n",
    "        observations = windows[0, 1:]\n",
    "\n",
    "        # calculate the absolute error of predictions\n",
    "        # here, we discard the rightmost prediction as\n",
    "        # this is the prediction for the future.\n",
    "        # if we knew the correct answer for that,\n",
    "        # we wouldn't need to predict it!\n",
    "        errs = np.abs(predictions[:, :-1] - observations).sum(axis=1)\n",
    "\n",
    "        best_strat = np.argmin(errs)\n",
    "        best_strats[agent, t] = best_strat\n",
    "\n",
    "        pred = strat[best_strat].dot(windows[:,-1])\n",
    "        pred_history[agent, t] = pred\n",
    "\n",
    "    hist[t] = (pred_history[:, t] < threshold).sum()\n",
    "    results[tr] = hist[t]\n",
    "\n",
    "\n",
    "plt.hist(results)\n",
    "\n",
    "print(f\"Average attendance: {results.mean()}\")\n",
    "print(f\"Variance of attendance: {results.var()}\")"
   ]
  },
  {
   "cell_type": "code",
   "execution_count": 45,
   "id": "e2a04ba1-b4c3-4638-bb9b-5807e30686b6",
   "metadata": {},
   "outputs": [
    {
     "name": "stdout",
     "output_type": "stream",
     "text": [
      "We expect agents to attend with probability 0.36.\n",
      "Total weekly attendance should have mean 36.0 and variance 23.04\n",
      "Average attendance: 35.941\n",
      "Variance of attendance: 23.150319\n"
     ]
    },
    {
     "data": {
      "image/png": "[encoded data removed]",
      "text/plain": [
       "<Figure size 432x288 with 1 Axes>"
      ]
     },
     "metadata": {
      "needs_background": "light"
     },
     "output_type": "display_data"
    }
   ],
   "source": [
    "agents = 100 # number of agents\n",
    "threshold = 60 # threshold for attendance\n",
    "strategies = 2 # number of strategies\n",
    "# number of weeks back in predictor function\n",
    "# AND number of weeks back to look when selecting a predictor\n",
    "memory = 2\n",
    "# number of rounds to run the simulation\n",
    "n_iter = 1\n",
    "trials = 5000\n",
    "\n",
    "# random seed for numpy\n",
    "seed=25\n",
    "\n",
    "\n",
    "p = (0.6**strategies)\n",
    "print(f\"We expect agents to attend with probability {p}.\")\n",
    "print(f\"Total weekly attendance should have mean {agents * p} and variance {agents * p * (1-p)}\")\n",
    "\n",
    "results = np.empty(trials)\n",
    "\n",
    "rng = np.random.default_rng(seed)\n",
    "\n",
    "for tr in range(trials):\n",
    "    # each row is a strategy\n",
    "    strats = [\n",
    "        make_strategies(rng, strategies, memory) for _ in range(agents)\n",
    "    ]\n",
    "\n",
    "    start = np.array([100,0,100,0])\n",
    "\n",
    "    # weekly attendance count\n",
    "    # the first 2*memory weeks are randomly generated\n",
    "    # to seed the strategies\n",
    "    hist = np.hstack([start, np.zeros(n_iter)]).astype(int)\n",
    "\n",
    "    # index of week\n",
    "    # we need some starting history to begin making selections\n",
    "    t = memory * 2\n",
    "\n",
    "    # Record the index of the optimal strategy \n",
    "    # on each iteration.\n",
    "    # each row corresponds to an agent\n",
    "    # each column corresponds to a week\n",
    "    best_strats = np.zeros((agents, len(hist)))\n",
    "\n",
    "    # record each agent's prediction on each iteration\n",
    "    pred_history = np.zeros((agents, len(hist)))\n",
    "\n",
    "    # construct time windows for evaluating strategies\n",
    "\n",
    "    # The columns begin at\n",
    "    # t - m - 1 \n",
    "    # t - m\n",
    "    # ...\n",
    "    # t - 1\n",
    "    # t\n",
    "    # as you go down the column you are looking back\n",
    "    # to that week's history.\n",
    "    # so the column beginning at *t - m - 1*\n",
    "    # generates the prediction for week *t - m*\n",
    "    # and the rightmost column generates a\n",
    "    # prediction for next week.\n",
    "    windows = np.vstack([\n",
    "        hist[t-memory-i-1: t-i]\n",
    "        for i in range(memory)\n",
    "    ])\n",
    "\n",
    "    for agent in range(agents):\n",
    "        strat = strats[agent]\n",
    "        # each row is a strategy\n",
    "        # each column is predicted attendance\n",
    "        # in increasing order.\n",
    "        # the last column has the prediction for\n",
    "        # next week\n",
    "        predictions = strat.dot(windows)\n",
    "\n",
    "        # these are the observations that we use to\n",
    "        # to test our predictions.\n",
    "        # note that the observation from column 0\n",
    "        # is not used since its prediction would come\n",
    "        # from a previous week's history.\n",
    "        observations = windows[0, 1:]\n",
    "\n",
    "        # calculate the absolute error of predictions\n",
    "        # here, we discard the rightmost prediction as\n",
    "        # this is the prediction for the future.\n",
    "        # if we knew the correct answer for that,\n",
    "        # we wouldn't need to predict it!\n",
    "        errs = np.abs(predictions[:, :-1] - observations).sum(axis=1)\n",
    "\n",
    "        best_strat = np.argmin(errs)\n",
    "        best_strats[agent, t] = best_strat\n",
    "\n",
    "        pred = strat[best_strat].dot(windows[:,-1])\n",
    "        pred_history[agent, t] = pred\n",
    "\n",
    "    hist[t] = (pred_history[:, t] < threshold).sum()\n",
    "    results[tr] = hist[t]\n",
    "\n",
    "\n",
    "plt.hist(results)\n",
    "\n",
    "print(f\"Average attendance: {results.mean()}\")\n",
    "print(f\"Variance of attendance: {results.var()}\")"
   ]
  },
  {
   "cell_type": "markdown",
   "id": "f662191c-524a-4bc9-b7c1-2d66f2adbdea",
   "metadata": {},
   "source": [
    "Whoo!  This is actually working and making sense!\n",
    "\n",
    "So what happens on the second step now?  This should be more varied because the starting points vary trial to trial.  But the strategy distribution is not independent of last week's attendance.  Will they still pick the smallest $a$?"
   ]
  },
  {
   "cell_type": "code",
   "execution_count": 46,
   "id": "2127383b-e0a6-4b7e-b6e9-65a579f747a1",
   "metadata": {},
   "outputs": [
    {
     "name": "stdout",
     "output_type": "stream",
     "text": [
      "We expect agents to attend with probability 0.84.\n",
      "Total weekly attendance should have mean 84.0 and variance 13.440000000000003\n",
      "Average attendance: 84.0734\n",
      "Variance of attendance: 13.53801244\n"
     ]
    },
    {
     "data": {
      "image/png": "[encoded data removed]",
      "text/plain": [
       "<Figure size 432x288 with 1 Axes>"
      ]
     },
     "metadata": {
      "needs_background": "light"
     },
     "output_type": "display_data"
    }
   ],
   "source": [
    "agents = 100 # number of agents\n",
    "threshold = 60 # threshold for attendance\n",
    "strategies = 2 # number of strategies\n",
    "# number of weeks back in predictor function\n",
    "# AND number of weeks back to look when selecting a predictor\n",
    "memory = 2\n",
    "# number of rounds to run the simulation\n",
    "n_iter = 1\n",
    "trials = 5000\n",
    "\n",
    "# random seed for numpy\n",
    "seed=25\n",
    "\n",
    "\n",
    "p = (1 - 0.4**strategies)\n",
    "print(f\"We expect agents to attend with probability {p}.\")\n",
    "print(f\"Total weekly attendance should have mean {agents * p} and variance {agents * p * (1-p)}\")\n",
    "\n",
    "results = np.empty(trials)\n",
    "\n",
    "rng = np.random.default_rng(seed)\n",
    "\n",
    "for tr in range(trials):\n",
    "    # each row is a strategy\n",
    "    strats = [\n",
    "        make_strategies(rng, strategies, memory) for _ in range(agents)\n",
    "    ]\n",
    "\n",
    "    start = np.array([0,100,0,100])\n",
    "\n",
    "    # weekly attendance count\n",
    "    # the first 2*memory weeks are randomly generated\n",
    "    # to seed the strategies\n",
    "    hist = np.hstack([start, np.zeros(n_iter)]).astype(int)\n",
    "\n",
    "    # index of week\n",
    "    # we need some starting history to begin making selections\n",
    "    t = memory * 2\n",
    "\n",
    "    # Record the index of the optimal strategy \n",
    "    # on each iteration.\n",
    "    # each row corresponds to an agent\n",
    "    # each column corresponds to a week\n",
    "    best_strats = np.zeros((agents, len(hist)))\n",
    "\n",
    "    # record each agent's prediction on each iteration\n",
    "    pred_history = np.zeros((agents, len(hist)))\n",
    "\n",
    "    # construct time windows for evaluating strategies\n",
    "\n",
    "    # The columns begin at\n",
    "    # t - m - 1 \n",
    "    # t - m\n",
    "    # ...\n",
    "    # t - 1\n",
    "    # t\n",
    "    # as you go down the column you are looking back\n",
    "    # to that week's history.\n",
    "    # so the column beginning at *t - m - 1*\n",
    "    # generates the prediction for week *t - m*\n",
    "    # and the rightmost column generates a\n",
    "    # prediction for next week.\n",
    "    windows = np.vstack([\n",
    "        hist[t-memory-i-1: t-i]\n",
    "        for i in range(memory)\n",
    "    ])\n",
    "\n",
    "    for agent in range(agents):\n",
    "        strat = strats[agent]\n",
    "        # each row is a strategy\n",
    "        # each column is predicted attendance\n",
    "        # in increasing order.\n",
    "        # the last column has the prediction for\n",
    "        # next week\n",
    "        predictions = strat.dot(windows)\n",
    "\n",
    "        # these are the observations that we use to\n",
    "        # to test our predictions.\n",
    "        # note that the observation from column 0\n",
    "        # is not used since its prediction would come\n",
    "        # from a previous week's history.\n",
    "        observations = windows[0, 1:]\n",
    "\n",
    "        # calculate the absolute error of predictions\n",
    "        # here, we discard the rightmost prediction as\n",
    "        # this is the prediction for the future.\n",
    "        # if we knew the correct answer for that,\n",
    "        # we wouldn't need to predict it!\n",
    "        errs = np.abs(predictions[:, :-1] - observations).sum(axis=1)\n",
    "\n",
    "        best_strat = np.argmin(errs)\n",
    "        best_strats[agent, t] = best_strat\n",
    "\n",
    "        pred = strat[best_strat].dot(windows[:,-1])\n",
    "        pred_history[agent, t] = pred\n",
    "\n",
    "    hist[t] = (pred_history[:, t] < threshold).sum()\n",
    "    results[tr] = hist[t]\n",
    "\n",
    "plt.hist(results)\n",
    "\n",
    "print(f\"Average attendance: {results.mean()}\")\n",
    "print(f\"Variance of attendance: {results.var()}\")"
   ]
  },
  {
   "cell_type": "code",
   "execution_count": 53,
   "id": "14b5a960-e346-4e1a-98c6-3e96fcf60327",
   "metadata": {},
   "outputs": [
    {
     "name": "stdout",
     "output_type": "stream",
     "text": [
      "We expect agents to attend with probability 0.84.\n",
      "Total weekly attendance should have mean 84.0 and variance 13.440000000000003\n"
     ]
    }
   ],
   "source": [
    "agents = 100 # number of agents\n",
    "threshold = 60 # threshold for attendance\n",
    "strategies = 2 # number of strategies\n",
    "# number of weeks back in predictor function\n",
    "# AND number of weeks back to look when selecting a predictor\n",
    "memory = 2\n",
    "# number of rounds to run the simulation\n",
    "n_iter = 10\n",
    "trials = 50\n",
    "\n",
    "# random seed for numpy\n",
    "seed=25\n",
    "\n",
    "\n",
    "p = (1 - 0.4**strategies)\n",
    "print(f\"We expect agents to attend with probability {p}.\")\n",
    "print(f\"Total weekly attendance should have mean {agents * p} and variance {agents * p * (1-p)}\")\n",
    "\n",
    "results = np.empty((trials, n_iter))\n",
    "\n",
    "rng = np.random.default_rng(seed)\n",
    "\n",
    "for tr in range(trials):\n",
    "    # each row is a strategy\n",
    "    strats = [\n",
    "        make_strategies(rng, strategies, memory) for _ in range(agents)\n",
    "    ]\n",
    "\n",
    "    start = np.array([0,100,0,100])\n",
    "\n",
    "    # weekly attendance count\n",
    "    # the first 2*memory weeks are randomly generated\n",
    "    # to seed the strategies\n",
    "    hist = np.hstack([start, np.zeros(n_iter)]).astype(int)\n",
    "\n",
    "    # index of week\n",
    "    # we need some starting history to begin making selections\n",
    "    t = memory * 2\n",
    "\n",
    "    # Record the index of the optimal strategy \n",
    "    # on each iteration.\n",
    "    # each row corresponds to an agent\n",
    "    # each column corresponds to a week\n",
    "    best_strats = np.zeros((agents, len(hist)))\n",
    "\n",
    "    # record each agent's prediction on each iteration\n",
    "    pred_history = np.zeros((agents, len(hist)))\n",
    "\n",
    "    while t < memory * 2 + n_iter:\n",
    "        # construct time windows for evaluating strategies\n",
    "\n",
    "        # The columns begin at\n",
    "        # t - m - 1 \n",
    "        # t - m\n",
    "        # ...\n",
    "        # t - 1\n",
    "        # t\n",
    "        # as you go down the column you are looking back\n",
    "        # to that week's history.\n",
    "        # so the column beginning at *t - m - 1*\n",
    "        # generates the prediction for week *t - m*\n",
    "        # and the rightmost column generates a\n",
    "        # prediction for next week.\n",
    "        windows = np.vstack([\n",
    "            hist[t-memory-i-1: t-i]\n",
    "            for i in range(memory)\n",
    "        ])\n",
    "\n",
    "        for agent in range(agents):\n",
    "            strat = strats[agent]\n",
    "            # each row is a strategy\n",
    "            # each column is predicted attendance\n",
    "            # in increasing order.\n",
    "            # the last column has the prediction for\n",
    "            # next week\n",
    "            predictions = strat.dot(windows)\n",
    "\n",
    "            # these are the observations that we use to\n",
    "            # to test our predictions.\n",
    "            # note that the observation from column 0\n",
    "            # is not used since its prediction would come\n",
    "            # from a previous week's history.\n",
    "            observations = windows[0, 1:]\n",
    "\n",
    "            # calculate the absolute error of predictions\n",
    "            # here, we discard the rightmost prediction as\n",
    "            # this is the prediction for the future.\n",
    "            # if we knew the correct answer for that,\n",
    "            # we wouldn't need to predict it!\n",
    "            errs = np.abs(predictions[:, :-1] - observations).sum(axis=1)\n",
    "\n",
    "            best_strat = np.argmin(errs)\n",
    "            best_strats[agent, t] = best_strat\n",
    "\n",
    "            pred = strat[best_strat].dot(windows[:,-1])\n",
    "            pred_history[agent, t] = pred\n",
    "\n",
    "        hist[t] = (pred_history[:, t] < threshold).sum()\n",
    "        t += 1\n",
    "        \n",
    "    results[tr] = hist[-n_iter:]"
   ]
  },
  {
   "cell_type": "code",
   "execution_count": 57,
   "id": "52acf063-af6f-420a-9576-e04c83404a33",
   "metadata": {},
   "outputs": [
    {
     "data": {
      "text/plain": [
       "array([84.6 ,  0.  , 91.28, 88.44,  0.  , 89.14, 89.28,  0.  , 88.74,\n",
       "       89.44])"
      ]
     },
     "execution_count": 57,
     "metadata": {},
     "output_type": "execute_result"
    }
   ],
   "source": [
    "results.mean(axis=0)"
   ]
  },
  {
   "cell_type": "code",
   "execution_count": 58,
   "id": "1dbdd96c-4a61-47c2-a169-dc99357ba790",
   "metadata": {},
   "outputs": [
    {
     "data": {
      "text/plain": [
       "array([3.01330383, 0.        , 3.69345367, 3.63406109, 0.        ,\n",
       "       4.50781544, 3.88350357, 0.        , 4.62951401, 3.94542773])"
      ]
     },
     "execution_count": 58,
     "metadata": {},
     "output_type": "execute_result"
    }
   ],
   "source": [
    "results.std(axis=0)"
   ]
  },
  {
   "cell_type": "code",
   "execution_count": 60,
   "id": "941a8e87-cbe1-40d2-9aa5-a6a6a9c805b7",
   "metadata": {},
   "outputs": [
    {
     "data": {
      "text/plain": [
       "<ErrorbarContainer object of 3 artists>"
      ]
     },
     "execution_count": 60,
     "metadata": {},
     "output_type": "execute_result"
    },
    {
     "data": {
      "image/png": "[encoded data removed]",
      "text/plain": [
       "<Figure size 432x288 with 1 Axes>"
      ]
     },
     "metadata": {
      "needs_background": "light"
     },
     "output_type": "display_data"
    }
   ],
   "source": [
    "plt.errorbar(np.arange(n_iter), results.mean(axis=0), results.std(axis=0))"
   ]
  },
  {
   "cell_type": "code",
   "execution_count": 64,
   "id": "671486ed-7abd-468d-9d8d-e2c8ae1d8888",
   "metadata": {},
   "outputs": [
    {
     "data": {
      "image/png": "[encoded data removed]",
      "text/plain": [
       "<Figure size 432x288 with 1 Axes>"
      ]
     },
     "metadata": {
      "needs_background": "light"
     },
     "output_type": "display_data"
    }
   ],
   "source": [
    "for i in range(n_iter):\n",
    "    plt.plot(results[i])"
   ]
  },
  {
   "cell_type": "markdown",
   "id": "76878b92-634a-48b2-a3ba-39d7e9c1b8f2",
   "metadata": {},
   "source": [
    "What is the probability of an agent going with an arbitrary 2 numbers in the previous 2 weeks?  Under what conditions will this become cyclic?  Based on simulations starting with random attendance, it appears that when memory=2, the system will always settle into a cycle of period 3 pretty quickly."
   ]
  },
  {
   "cell_type": "code",
   "execution_count": 66,
   "id": "eb53df0f-b5f6-4352-8c5f-dcfb80d496c6",
   "metadata": {},
   "outputs": [
    {
     "name": "stdout",
     "output_type": "stream",
     "text": [
      "We expect agents to attend with probability 0.84.\n",
      "Total weekly attendance should have mean 84.0 and variance 13.440000000000003\n"
     ]
    }
   ],
   "source": [
    "agents = 100 # number of agents\n",
    "threshold = 60 # threshold for attendance\n",
    "strategies = 2 # number of strategies\n",
    "# number of weeks back in predictor function\n",
    "# AND number of weeks back to look when selecting a predictor\n",
    "memory = 2\n",
    "# number of rounds to run the simulation\n",
    "n_iter = 10\n",
    "trials = 50\n",
    "\n",
    "# random seed for numpy\n",
    "seed=25\n",
    "\n",
    "\n",
    "p = (1 - 0.4**strategies)\n",
    "print(f\"We expect agents to attend with probability {p}.\")\n",
    "print(f\"Total weekly attendance should have mean {agents * p} and variance {agents * p * (1-p)}\")\n",
    "\n",
    "results = np.empty((trials, n_iter))\n",
    "\n",
    "rng = np.random.default_rng(seed)\n",
    "\n",
    "for tr in range(trials):\n",
    "    # each row is a strategy\n",
    "    strats = [\n",
    "        make_strategies(rng, strategies, memory) for _ in range(agents)\n",
    "    ]\n",
    "\n",
    "    start = np.array([20,56,20,56])\n",
    "\n",
    "    # weekly attendance count\n",
    "    # the first 2*memory weeks are randomly generated\n",
    "    # to seed the strategies\n",
    "    hist = np.hstack([start, np.zeros(n_iter)]).astype(int)\n",
    "\n",
    "    # index of week\n",
    "    # we need some starting history to begin making selections\n",
    "    t = memory * 2\n",
    "\n",
    "    # Record the index of the optimal strategy \n",
    "    # on each iteration.\n",
    "    # each row corresponds to an agent\n",
    "    # each column corresponds to a week\n",
    "    best_strats = np.zeros((agents, len(hist)))\n",
    "\n",
    "    # record each agent's prediction on each iteration\n",
    "    pred_history = np.zeros((agents, len(hist)))\n",
    "\n",
    "    while t < memory * 2 + n_iter:\n",
    "        # construct time windows for evaluating strategies\n",
    "\n",
    "        # The columns begin at\n",
    "        # t - m - 1 \n",
    "        # t - m\n",
    "        # ...\n",
    "        # t - 1\n",
    "        # t\n",
    "        # as you go down the column you are looking back\n",
    "        # to that week's history.\n",
    "        # so the column beginning at *t - m - 1*\n",
    "        # generates the prediction for week *t - m*\n",
    "        # and the rightmost column generates a\n",
    "        # prediction for next week.\n",
    "        windows = np.vstack([\n",
    "            hist[t-memory-i-1: t-i]\n",
    "            for i in range(memory)\n",
    "        ])\n",
    "\n",
    "        for agent in range(agents):\n",
    "            strat = strats[agent]\n",
    "            # each row is a strategy\n",
    "            # each column is predicted attendance\n",
    "            # in increasing order.\n",
    "            # the last column has the prediction for\n",
    "            # next week\n",
    "            predictions = strat.dot(windows)\n",
    "\n",
    "            # these are the observations that we use to\n",
    "            # to test our predictions.\n",
    "            # note that the observation from column 0\n",
    "            # is not used since its prediction would come\n",
    "            # from a previous week's history.\n",
    "            observations = windows[0, 1:]\n",
    "\n",
    "            # calculate the absolute error of predictions\n",
    "            # here, we discard the rightmost prediction as\n",
    "            # this is the prediction for the future.\n",
    "            # if we knew the correct answer for that,\n",
    "            # we wouldn't need to predict it!\n",
    "            errs = np.abs(predictions[:, :-1] - observations).sum(axis=1)\n",
    "\n",
    "            best_strat = np.argmin(errs)\n",
    "            best_strats[agent, t] = best_strat\n",
    "\n",
    "            pred = strat[best_strat].dot(windows[:,-1])\n",
    "            pred_history[agent, t] = pred\n",
    "\n",
    "        hist[t] = (pred_history[:, t] < threshold).sum()\n",
    "        t += 1\n",
    "        \n",
    "    results[tr] = hist[-n_iter:]"
   ]
  },
  {
   "cell_type": "code",
   "execution_count": 67,
   "id": "36476664-88d3-4433-a16f-23f95bb648db",
   "metadata": {},
   "outputs": [
    {
     "data": {
      "image/png": "[encoded data removed]",
      "text/plain": [
       "<Figure size 432x288 with 1 Axes>"
      ]
     },
     "metadata": {
      "needs_background": "light"
     },
     "output_type": "display_data"
    }
   ],
   "source": [
    "for i in range(n_iter):\n",
    "    plt.plot(results[i])"
   ]
  },
  {
   "cell_type": "code",
   "execution_count": null,
   "id": "b1889f27-b6a7-4a85-ac32-fca57bde4276",
   "metadata": {},
   "outputs": [],
   "source": []
  },
  {
   "cell_type": "code",
   "execution_count": null,
   "id": "6244ee76-7eb9-463e-88da-5227482876b3",
   "metadata": {},
   "outputs": [],
   "source": []
  },
  {
   "cell_type": "code",
   "execution_count": null,
   "id": "f6d08787-2ba9-41f3-9080-d84b19264a19",
   "metadata": {},
   "outputs": [],
   "source": []
  }
 ],
 "metadata": {
  "kernelspec": {
   "display_name": "Python 3",
   "language": "python",
   "name": "python3"
  },
  "language_info": {
   "codemirror_mode": {
    "name": "ipython",
    "version": 3
   },
   "file_extension": ".py",
   "mimetype": "text/x-python",
   "name": "python",
   "nbconvert_exporter": "python",
   "pygments_lexer": "ipython3",
   "version": "3.9.5"
  }
 },
 "nbformat": 4,
 "nbformat_minor": 5
}
