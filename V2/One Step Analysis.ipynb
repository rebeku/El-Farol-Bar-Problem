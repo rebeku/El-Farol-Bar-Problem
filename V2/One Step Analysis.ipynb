{
 "cells": [
  {
   "cell_type": "markdown",
   "id": "3fb33bf8-9ccf-4e05-b360-2ce9e351301e",
   "metadata": {},
   "source": [
    "Consider a really simple case:\n",
    "\n",
    "$M = 2$  \n",
    "$S = 2$\n",
    "\n",
    "Suppose we use an unbiased estimator so $a_2 = 1 - a_1$ \n",
    "\n",
    "Attendance the last 4 weeks was (0, 100, 0, 100)"
   ]
  },
  {
   "cell_type": "code",
   "execution_count": 4,
   "id": "a5d62c21-1fd9-47ee-8792-2944974507bc",
   "metadata": {
    "jupyter": {
     "source_hidden": true
    },
    "tags": []
   },
   "outputs": [],
   "source": [
    "from matplotlib import pyplot as plt\n",
    "import numpy as np"
   ]
  },
  {
   "cell_type": "code",
   "execution_count": 7,
   "id": "c9ad5cdf-300a-4b83-914e-4cc0edead2eb",
   "metadata": {
    "jupyter": {
     "source_hidden": true
    },
    "tags": []
   },
   "outputs": [
    {
     "data": {
      "text/plain": [
       "[<matplotlib.lines.Line2D at 0x123e555e0>]"
      ]
     },
     "execution_count": 7,
     "metadata": {},
     "output_type": "execute_result"
    },
    {
     "data": {
      "image/png": "[encoded data removed]",
      "text/plain": [
       "<Figure size 432x288 with 1 Axes>"
      ]
     },
     "metadata": {
      "needs_background": "light"
     },
     "output_type": "display_data"
    }
   ],
   "source": [
    "x = np.arange(1,5)\n",
    "y = [0,100,0,100]\n",
    "plt.plot(x, y)"
   ]
  },
  {
   "cell_type": "markdown",
   "id": "2f306c94-af37-4ae5-a884-50a081b237d4",
   "metadata": {},
   "source": [
    "What happens next week?\n",
    "\n",
    "$$\n",
    "\\hat{N}^{(i)}(5) = 100 a_1^{(i)} \\\\\n",
    "\\hat{N}^{(i)}(4) = 100 (1 - a_1^{(i)}) \\\\ \n",
    "\\hat{N}^{(i)}(3) = 100 a_1^{(i)} \\\\\n",
    "$$\n",
    "\n",
    "where\n",
    "\n",
    "$$\n",
    "N(4) = 100 \\\\\n",
    "N(3) = 0\n",
    "$$\n",
    "\n",
    "So to minimize\n",
    "\n",
    "$$|\\hat{N}(4) - N(4)| + |\\hat{N}(3) - N(3)|$$\n",
    "\n",
    "each agent will chose the strategy with the smallest possible $a$.  They will predict\n",
    "\n",
    "$$\n",
    "\\hat{N}^{(*)}(5) = 100 a_{min} \n",
    "$$\n",
    "\n",
    "and attend if\n",
    "\n",
    "$$\n",
    "a_{min} < 0.6\n",
    "$$\n",
    "\n",
    "So\n",
    "\n",
    "$$\n",
    "P(\\text{prediction} < 60) \\\\\n",
    "= P(100 a_{min} < 60) \\\\\n",
    "= 1 - P(a_{min} > 0.6) \\\\\n",
    "= 1 - P(a > 0.6)^S \\\\\n",
    "= 1 - 0.4^S \\\\\n",
    "$$\n",
    "\n",
    "Likewise, with history (100, 0, 100, 0), the probability of attending is:\n",
    "\n",
    "$$\n",
    "P(\\text{prediction} < 60) \\\\\n",
    "= P(100 (1 - a_{min}) < 60) \\\\\n",
    "= P(1 - a_{min}) < 0.6) \\\\\n",
    "= P(0.4 < a_{min}) \\\\\n",
    "= P(a_{min} > 0.4) \\\\\n",
    "= P(a > 0.4)^S\n",
    "= 0.6^S\n",
    "$$"
   ]
  },
  {
   "cell_type": "code",
   "execution_count": 9,
   "id": "9f5e0998-2c73-43f5-8919-8f6096a47c27",
   "metadata": {
    "jupyter": {
     "source_hidden": true
    },
    "tags": []
   },
   "outputs": [],
   "source": [
    "def make_strategies(rng, strategies, memory):\n",
    "    # weights should sum to 1\n",
    "    # essentially, we are partitioning the [0,1] interval\n",
    "    # and taking the size of each sub-interval\n",
    "    # TODO: add negative weights?\n",
    "    w = rng.uniform(size=(strategies, memory-1))\n",
    "    w.sort(axis=1)\n",
    "    offsets = np.hstack([w[:, :], np.ones(shape=(strategies,1))])\n",
    "    return offsets - np.hstack([np.zeros(shape=(strategies,1)), w[:, :]])"
   ]
  },
  {
   "cell_type": "markdown",
   "id": "76b5ea76-68a6-43d7-8668-02d077dd5a93",
   "metadata": {},
   "source": [
    "#### The (0,100,0,100) case with 2 strategies"
   ]
  },
  {
   "cell_type": "code",
   "execution_count": 13,
   "id": "7d017cb0-8e30-42be-b30b-10ff1a50fc53",
   "metadata": {
    "jupyter": {
     "source_hidden": true
    },
    "tags": []
   },
   "outputs": [
    {
     "name": "stdout",
     "output_type": "stream",
     "text": [
      "We expect agents to attend with probability 0.84.\n",
      "Total weekly attendance should have mean 84.0 and variance 13.440000000000003\n",
      "Average attendance: 84.174\n",
      "Variance of attendance: 13.049724000000001\n"
     ]
    },
    {
     "data": {
      "image/png": "[encoded data removed]",
      "text/plain": [
       "<Figure size 432x288 with 1 Axes>"
      ]
     },
     "metadata": {
      "needs_background": "light"
     },
     "output_type": "display_data"
    }
   ],
   "source": [
    "agents = 100 # number of agents\n",
    "threshold = 60 # threshold for attendance\n",
    "strategies = 2 # number of strategies\n",
    "# number of weeks back in predictor function\n",
    "# AND number of weeks back to look when selecting a predictor\n",
    "memory = 2\n",
    "# number of rounds to run the simulation\n",
    "n_iter = 1\n",
    "trials = 1000\n",
    "\n",
    "# random seed for numpy\n",
    "seed=25\n",
    "\n",
    "\n",
    "p = (1 - 0.4**strategies)\n",
    "print(f\"We expect agents to attend with probability {p}.\")\n",
    "print(f\"Total weekly attendance should have mean {agents * p} and variance {agents * p * (1-p)}\")\n",
    "\n",
    "results = np.empty(trials)\n",
    "\n",
    "rng = np.random.default_rng(seed)\n",
    "\n",
    "for tr in range(trials):\n",
    "    # each row is a strategy\n",
    "    strats = [\n",
    "        make_strategies(rng, strategies, memory) for _ in range(agents)\n",
    "    ]\n",
    "\n",
    "    start = np.array([0,100,0,100])\n",
    "\n",
    "    # weekly attendance count\n",
    "    # the first 2*memory weeks are randomly generated\n",
    "    # to seed the strategies\n",
    "    hist = np.hstack([start, np.zeros(n_iter)]).astype(int)\n",
    "\n",
    "    # index of week\n",
    "    # we need some starting history to begin making selections\n",
    "    t = memory * 2\n",
    "\n",
    "    # Record the index of the optimal strategy \n",
    "    # on each iteration.\n",
    "    # each row corresponds to an agent\n",
    "    # each column corresponds to a week\n",
    "    best_strats = np.zeros((agents, len(hist)))\n",
    "\n",
    "    # record each agent's prediction on each iteration\n",
    "    pred_history = np.zeros((agents, len(hist)))\n",
    "\n",
    "    # construct time windows for evaluating strategies\n",
    "\n",
    "    # The columns begin at\n",
    "    # t - m - 1 \n",
    "    # t - m\n",
    "    # ...\n",
    "    # t - 1\n",
    "    # t\n",
    "    # as you go down the column you are looking back\n",
    "    # to that week's history.\n",
    "    # so the column beginning at *t - m - 1*\n",
    "    # generates the prediction for week *t - m*\n",
    "    # and the rightmost column generates a\n",
    "    # prediction for next week.\n",
    "    windows = np.vstack([\n",
    "        hist[t-memory-i-1: t-i]\n",
    "        for i in range(memory)\n",
    "    ])\n",
    "\n",
    "    for agent in range(agents):\n",
    "        strat = strats[agent]\n",
    "        # each row is a strategy\n",
    "        # each column is predicted attendance\n",
    "        # in increasing order.\n",
    "        # the last column has the prediction for\n",
    "        # next week\n",
    "        predictions = strat.dot(windows)\n",
    "\n",
    "        # these are the observations that we use to\n",
    "        # to test our predictions.\n",
    "        # note that the observation from column 0\n",
    "        # is not used since its prediction would come\n",
    "        # from a previous week's history.\n",
    "        observations = windows[0, 1:]\n",
    "\n",
    "        # calculate the absolute error of predictions\n",
    "        # here, we discard the rightmost prediction as\n",
    "        # this is the prediction for the future.\n",
    "        # if we knew the correct answer for that,\n",
    "        # we wouldn't need to predict it!\n",
    "        errs = np.abs(predictions[:, :-1] - observations).sum(axis=1)\n",
    "\n",
    "        best_strat = np.argmin(errs)\n",
    "        best_strats[agent, t] = best_strat\n",
    "\n",
    "        pred = strat[best_strat].dot(windows[:,-1])\n",
    "        pred_history[agent, t] = pred\n",
    "\n",
    "    hist[t] = (pred_history[:, t] < threshold).sum()\n",
    "    results[tr] = hist[t]\n",
    "\n",
    "\n",
    "plt.hist(results)\n",
    "\n",
    "print(f\"Average attendance: {results.mean()}\")\n",
    "print(f\"Variance of attendance: {results.var()}\")"
   ]
  },
  {
   "cell_type": "markdown",
   "id": "486c39e1-0742-4340-a7b3-0d023e5678a4",
   "metadata": {},
   "source": [
    "#### The (0,100,0,100) case with 3 strategies"
   ]
  },
  {
   "cell_type": "code",
   "execution_count": 15,
   "id": "85fb2709-d62a-4e2d-b475-53f604c58e25",
   "metadata": {
    "jupyter": {
     "source_hidden": true
    },
    "tags": []
   },
   "outputs": [
    {
     "name": "stdout",
     "output_type": "stream",
     "text": [
      "We expect agents to attend with probability 0.9359999999999999.\n",
      "Total weekly attendance should have mean 93.6 and variance 5.990400000000005\n",
      "Average attendance: 93.605\n",
      "Variance of attendance: 5.622975000000001\n"
     ]
    },
    {
     "data": {
      "image/png": "[encoded data removed]",
      "text/plain": [
       "<Figure size 432x288 with 1 Axes>"
      ]
     },
     "metadata": {
      "needs_background": "light"
     },
     "output_type": "display_data"
    }
   ],
   "source": [
    "agents = 100 # number of agents\n",
    "threshold = 60 # threshold for attendance\n",
    "strategies = 3 # number of strategies\n",
    "# number of weeks back in predictor function\n",
    "# AND number of weeks back to look when selecting a predictor\n",
    "memory = 2\n",
    "# number of rounds to run the simulation\n",
    "n_iter = 1\n",
    "trials = 1000\n",
    "\n",
    "# random seed for numpy\n",
    "seed=25\n",
    "\n",
    "\n",
    "p = (1 - 0.4**strategies)\n",
    "print(f\"We expect agents to attend with probability {p}.\")\n",
    "print(f\"Total weekly attendance should have mean {agents * p} and variance {agents * p * (1-p)}\")\n",
    "\n",
    "results = np.empty(trials)\n",
    "\n",
    "rng = np.random.default_rng(seed)\n",
    "\n",
    "for tr in range(trials):\n",
    "    # each row is a strategy\n",
    "    strats = [\n",
    "        make_strategies(rng, strategies, memory) for _ in range(agents)\n",
    "    ]\n",
    "\n",
    "    start = np.array([0,100,0,100])\n",
    "\n",
    "    # weekly attendance count\n",
    "    # the first 2*memory weeks are randomly generated\n",
    "    # to seed the strategies\n",
    "    hist = np.hstack([start, np.zeros(n_iter)]).astype(int)\n",
    "\n",
    "    # index of week\n",
    "    # we need some starting history to begin making selections\n",
    "    t = memory * 2\n",
    "\n",
    "    # Record the index of the optimal strategy \n",
    "    # on each iteration.\n",
    "    # each row corresponds to an agent\n",
    "    # each column corresponds to a week\n",
    "    best_strats = np.zeros((agents, len(hist)))\n",
    "\n",
    "    # record each agent's prediction on each iteration\n",
    "    pred_history = np.zeros((agents, len(hist)))\n",
    "\n",
    "    # construct time windows for evaluating strategies\n",
    "\n",
    "    # The columns begin at\n",
    "    # t - m - 1 \n",
    "    # t - m\n",
    "    # ...\n",
    "    # t - 1\n",
    "    # t\n",
    "    # as you go down the column you are looking back\n",
    "    # to that week's history.\n",
    "    # so the column beginning at *t - m - 1*\n",
    "    # generates the prediction for week *t - m*\n",
    "    # and the rightmost column generates a\n",
    "    # prediction for next week.\n",
    "    windows = np.vstack([\n",
    "        hist[t-memory-i-1: t-i]\n",
    "        for i in range(memory)\n",
    "    ])\n",
    "\n",
    "    for agent in range(agents):\n",
    "        strat = strats[agent]\n",
    "        # each row is a strategy\n",
    "        # each column is predicted attendance\n",
    "        # in increasing order.\n",
    "        # the last column has the prediction for\n",
    "        # next week\n",
    "        predictions = strat.dot(windows)\n",
    "\n",
    "        # these are the observations that we use to\n",
    "        # to test our predictions.\n",
    "        # note that the observation from column 0\n",
    "        # is not used since its prediction would come\n",
    "        # from a previous week's history.\n",
    "        observations = windows[0, 1:]\n",
    "\n",
    "        # calculate the absolute error of predictions\n",
    "        # here, we discard the rightmost prediction as\n",
    "        # this is the prediction for the future.\n",
    "        # if we knew the correct answer for that,\n",
    "        # we wouldn't need to predict it!\n",
    "        errs = np.abs(predictions[:, :-1] - observations).sum(axis=1)\n",
    "\n",
    "        best_strat = np.argmin(errs)\n",
    "        best_strats[agent, t] = best_strat\n",
    "\n",
    "        pred = strat[best_strat].dot(windows[:,-1])\n",
    "        pred_history[agent, t] = pred\n",
    "\n",
    "    hist[t] = (pred_history[:, t] < threshold).sum()\n",
    "    results[tr] = hist[t]\n",
    "\n",
    "\n",
    "plt.hist(results)\n",
    "\n",
    "print(f\"Average attendance: {results.mean()}\")\n",
    "print(f\"Variance of attendance: {results.var()}\")"
   ]
  },
  {
   "cell_type": "markdown",
   "id": "905eacb0-67ec-4aca-a44b-fc4bdcf1c555",
   "metadata": {},
   "source": [
    "#### The (0,100,0,100) case with 10 strategies"
   ]
  },
  {
   "cell_type": "code",
   "execution_count": 14,
   "id": "388a1001-f9c6-44b5-8313-44259c424e00",
   "metadata": {
    "jupyter": {
     "source_hidden": true
    },
    "tags": []
   },
   "outputs": [
    {
     "name": "stdout",
     "output_type": "stream",
     "text": [
      "We expect agents to attend with probability 0.9998951424.\n",
      "Total weekly attendance should have mean 99.98951424 and variance 0.010484660488373012\n",
      "Average attendance: 99.992\n",
      "Variance of attendance: 0.007936000000000002\n"
     ]
    },
    {
     "data": {
      "image/png": "[encoded data removed]",
      "text/plain": [
       "<Figure size 432x288 with 1 Axes>"
      ]
     },
     "metadata": {
      "needs_background": "light"
     },
     "output_type": "display_data"
    }
   ],
   "source": [
    "agents = 100 # number of agents\n",
    "threshold = 60 # threshold for attendance\n",
    "strategies = 10 # number of strategies\n",
    "# number of weeks back in predictor function\n",
    "# AND number of weeks back to look when selecting a predictor\n",
    "memory = 2\n",
    "# number of rounds to run the simulation\n",
    "n_iter = 1\n",
    "trials = 1000\n",
    "\n",
    "# random seed for numpy\n",
    "seed=25\n",
    "\n",
    "\n",
    "p = (1 - 0.4**strategies)\n",
    "print(f\"We expect agents to attend with probability {p}.\")\n",
    "print(f\"Total weekly attendance should have mean {agents * p} and variance {agents * p * (1-p)}\")\n",
    "\n",
    "results = np.empty(trials)\n",
    "\n",
    "rng = np.random.default_rng(seed)\n",
    "\n",
    "for tr in range(trials):\n",
    "    # each row is a strategy\n",
    "    strats = [\n",
    "        make_strategies(rng, strategies, memory) for _ in range(agents)\n",
    "    ]\n",
    "\n",
    "    start = np.array([0,100,0,100])\n",
    "\n",
    "    # weekly attendance count\n",
    "    # the first 2*memory weeks are randomly generated\n",
    "    # to seed the strategies\n",
    "    hist = np.hstack([start, np.zeros(n_iter)]).astype(int)\n",
    "\n",
    "    # index of week\n",
    "    # we need some starting history to begin making selections\n",
    "    t = memory * 2\n",
    "\n",
    "    # Record the index of the optimal strategy \n",
    "    # on each iteration.\n",
    "    # each row corresponds to an agent\n",
    "    # each column corresponds to a week\n",
    "    best_strats = np.zeros((agents, len(hist)))\n",
    "\n",
    "    # record each agent's prediction on each iteration\n",
    "    pred_history = np.zeros((agents, len(hist)))\n",
    "\n",
    "    # construct time windows for evaluating strategies\n",
    "\n",
    "    # The columns begin at\n",
    "    # t - m - 1 \n",
    "    # t - m\n",
    "    # ...\n",
    "    # t - 1\n",
    "    # t\n",
    "    # as you go down the column you are looking back\n",
    "    # to that week's history.\n",
    "    # so the column beginning at *t - m - 1*\n",
    "    # generates the prediction for week *t - m*\n",
    "    # and the rightmost column generates a\n",
    "    # prediction for next week.\n",
    "    windows = np.vstack([\n",
    "        hist[t-memory-i-1: t-i]\n",
    "        for i in range(memory)\n",
    "    ])\n",
    "\n",
    "    for agent in range(agents):\n",
    "        strat = strats[agent]\n",
    "        # each row is a strategy\n",
    "        # each column is predicted attendance\n",
    "        # in increasing order.\n",
    "        # the last column has the prediction for\n",
    "        # next week\n",
    "        predictions = strat.dot(windows)\n",
    "\n",
    "        # these are the observations that we use to\n",
    "        # to test our predictions.\n",
    "        # note that the observation from column 0\n",
    "        # is not used since its prediction would come\n",
    "        # from a previous week's history.\n",
    "        observations = windows[0, 1:]\n",
    "\n",
    "        # calculate the absolute error of predictions\n",
    "        # here, we discard the rightmost prediction as\n",
    "        # this is the prediction for the future.\n",
    "        # if we knew the correct answer for that,\n",
    "        # we wouldn't need to predict it!\n",
    "        errs = np.abs(predictions[:, :-1] - observations).sum(axis=1)\n",
    "\n",
    "        best_strat = np.argmin(errs)\n",
    "        best_strats[agent, t] = best_strat\n",
    "\n",
    "        pred = strat[best_strat].dot(windows[:,-1])\n",
    "        pred_history[agent, t] = pred\n",
    "\n",
    "    hist[t] = (pred_history[:, t] < threshold).sum()\n",
    "    results[tr] = hist[t]\n",
    "\n",
    "\n",
    "plt.hist(results)\n",
    "\n",
    "print(f\"Average attendance: {results.mean()}\")\n",
    "print(f\"Variance of attendance: {results.var()}\")"
   ]
  },
  {
   "cell_type": "markdown",
   "id": "b990f448-f681-40b5-ac87-b23b5398f023",
   "metadata": {},
   "source": [
    "#### The (100,0,100,0) case with 2 strategies"
   ]
  },
  {
   "cell_type": "code",
   "execution_count": 16,
   "id": "2aa68a91-9866-42ea-8e20-3e2a2e1eccbf",
   "metadata": {
    "jupyter": {
     "source_hidden": true
    },
    "tags": []
   },
   "outputs": [
    {
     "name": "stdout",
     "output_type": "stream",
     "text": [
      "We expect agents to attend with probability 0.36.\n",
      "Total weekly attendance should have mean 36.0 and variance 23.04\n",
      "Average attendance: 35.941\n",
      "Variance of attendance: 23.150319\n"
     ]
    },
    {
     "data": {
      "image/png": "[encoded data removed]",
      "text/plain": [
       "<Figure size 432x288 with 1 Axes>"
      ]
     },
     "metadata": {
      "needs_background": "light"
     },
     "output_type": "display_data"
    }
   ],
   "source": [
    "agents = 100 # number of agents\n",
    "threshold = 60 # threshold for attendance\n",
    "strategies = 2 # number of strategies\n",
    "# number of weeks back in predictor function\n",
    "# AND number of weeks back to look when selecting a predictor\n",
    "memory = 2\n",
    "# number of rounds to run the simulation\n",
    "n_iter = 1\n",
    "trials = 5000\n",
    "\n",
    "# random seed for numpy\n",
    "seed=25\n",
    "\n",
    "\n",
    "p = (0.6**strategies)\n",
    "print(f\"We expect agents to attend with probability {p}.\")\n",
    "print(f\"Total weekly attendance should have mean {agents * p} and variance {agents * p * (1-p)}\")\n",
    "\n",
    "results = np.empty(trials)\n",
    "\n",
    "rng = np.random.default_rng(seed)\n",
    "\n",
    "for tr in range(trials):\n",
    "    # each row is a strategy\n",
    "    strats = [\n",
    "        make_strategies(rng, strategies, memory) for _ in range(agents)\n",
    "    ]\n",
    "\n",
    "    start = np.array([100,0,100,0])\n",
    "\n",
    "    # weekly attendance count\n",
    "    # the first 2*memory weeks are randomly generated\n",
    "    # to seed the strategies\n",
    "    hist = np.hstack([start, np.zeros(n_iter)]).astype(int)\n",
    "\n",
    "    # index of week\n",
    "    # we need some starting history to begin making selections\n",
    "    t = memory * 2\n",
    "\n",
    "    # Record the index of the optimal strategy \n",
    "    # on each iteration.\n",
    "    # each row corresponds to an agent\n",
    "    # each column corresponds to a week\n",
    "    best_strats = np.zeros((agents, len(hist)))\n",
    "\n",
    "    # record each agent's prediction on each iteration\n",
    "    pred_history = np.zeros((agents, len(hist)))\n",
    "\n",
    "    # construct time windows for evaluating strategies\n",
    "\n",
    "    # The columns begin at\n",
    "    # t - m - 1 \n",
    "    # t - m\n",
    "    # ...\n",
    "    # t - 1\n",
    "    # t\n",
    "    # as you go down the column you are looking back\n",
    "    # to that week's history.\n",
    "    # so the column beginning at *t - m - 1*\n",
    "    # generates the prediction for week *t - m*\n",
    "    # and the rightmost column generates a\n",
    "    # prediction for next week.\n",
    "    windows = np.vstack([\n",
    "        hist[t-memory-i-1: t-i]\n",
    "        for i in range(memory)\n",
    "    ])\n",
    "\n",
    "    for agent in range(agents):\n",
    "        strat = strats[agent]\n",
    "        # each row is a strategy\n",
    "        # each column is predicted attendance\n",
    "        # in increasing order.\n",
    "        # the last column has the prediction for\n",
    "        # next week\n",
    "        predictions = strat.dot(windows)\n",
    "\n",
    "        # these are the observations that we use to\n",
    "        # to test our predictions.\n",
    "        # note that the observation from column 0\n",
    "        # is not used since its prediction would come\n",
    "        # from a previous week's history.\n",
    "        observations = windows[0, 1:]\n",
    "\n",
    "        # calculate the absolute error of predictions\n",
    "        # here, we discard the rightmost prediction as\n",
    "        # this is the prediction for the future.\n",
    "        # if we knew the correct answer for that,\n",
    "        # we wouldn't need to predict it!\n",
    "        errs = np.abs(predictions[:, :-1] - observations).sum(axis=1)\n",
    "\n",
    "        best_strat = np.argmin(errs)\n",
    "        best_strats[agent, t] = best_strat\n",
    "\n",
    "        pred = strat[best_strat].dot(windows[:,-1])\n",
    "        pred_history[agent, t] = pred\n",
    "\n",
    "    hist[t] = (pred_history[:, t] < threshold).sum()\n",
    "    results[tr] = hist[t]\n",
    "\n",
    "\n",
    "plt.hist(results)\n",
    "\n",
    "print(f\"Average attendance: {results.mean()}\")\n",
    "print(f\"Variance of attendance: {results.var()}\")"
   ]
  },
  {
   "cell_type": "markdown",
   "id": "c0fc9354-62cd-4d49-8f4c-a2fa15b9d34e",
   "metadata": {},
   "source": [
    "#### The (100,0,100,0) case with 3 strategies"
   ]
  },
  {
   "cell_type": "code",
   "execution_count": 18,
   "id": "3f15f92f-de0e-4c74-afdb-d2266a51b869",
   "metadata": {
    "jupyter": {
     "source_hidden": true
    },
    "tags": []
   },
   "outputs": [
    {
     "name": "stdout",
     "output_type": "stream",
     "text": [
      "We expect agents to attend with probability 0.21599999999999997.\n",
      "Total weekly attendance should have mean 21.599999999999998 and variance 16.9344\n",
      "Average attendance: 21.5582\n",
      "Variance of attendance: 16.83621276\n"
     ]
    },
    {
     "data": {
      "image/png": "[encoded data removed]",
      "text/plain": [
       "<Figure size 432x288 with 1 Axes>"
      ]
     },
     "metadata": {
      "needs_background": "light"
     },
     "output_type": "display_data"
    }
   ],
   "source": [
    "agents = 100 # number of agents\n",
    "threshold = 60 # threshold for attendance\n",
    "strategies = 3 # number of strategies\n",
    "# number of weeks back in predictor function\n",
    "# AND number of weeks back to look when selecting a predictor\n",
    "memory = 2\n",
    "# number of rounds to run the simulation\n",
    "n_iter = 1\n",
    "trials = 5000\n",
    "\n",
    "# random seed for numpy\n",
    "seed=25\n",
    "\n",
    "\n",
    "p = (0.6**strategies)\n",
    "print(f\"We expect agents to attend with probability {p}.\")\n",
    "print(f\"Total weekly attendance should have mean {agents * p} and variance {agents * p * (1-p)}\")\n",
    "\n",
    "results = np.empty(trials)\n",
    "\n",
    "rng = np.random.default_rng(seed)\n",
    "\n",
    "for tr in range(trials):\n",
    "    # each row is a strategy\n",
    "    strats = [\n",
    "        make_strategies(rng, strategies, memory) for _ in range(agents)\n",
    "    ]\n",
    "\n",
    "    start = np.array([100,0,100,0])\n",
    "\n",
    "    # weekly attendance count\n",
    "    # the first 2*memory weeks are randomly generated\n",
    "    # to seed the strategies\n",
    "    hist = np.hstack([start, np.zeros(n_iter)]).astype(int)\n",
    "\n",
    "    # index of week\n",
    "    # we need some starting history to begin making selections\n",
    "    t = memory * 2\n",
    "\n",
    "    # Record the index of the optimal strategy \n",
    "    # on each iteration.\n",
    "    # each row corresponds to an agent\n",
    "    # each column corresponds to a week\n",
    "    best_strats = np.zeros((agents, len(hist)))\n",
    "\n",
    "    # record each agent's prediction on each iteration\n",
    "    pred_history = np.zeros((agents, len(hist)))\n",
    "\n",
    "    # construct time windows for evaluating strategies\n",
    "\n",
    "    # The columns begin at\n",
    "    # t - m - 1 \n",
    "    # t - m\n",
    "    # ...\n",
    "    # t - 1\n",
    "    # t\n",
    "    # as you go down the column you are looking back\n",
    "    # to that week's history.\n",
    "    # so the column beginning at *t - m - 1*\n",
    "    # generates the prediction for week *t - m*\n",
    "    # and the rightmost column generates a\n",
    "    # prediction for next week.\n",
    "    windows = np.vstack([\n",
    "        hist[t-memory-i-1: t-i]\n",
    "        for i in range(memory)\n",
    "    ])\n",
    "\n",
    "    for agent in range(agents):\n",
    "        strat = strats[agent]\n",
    "        # each row is a strategy\n",
    "        # each column is predicted attendance\n",
    "        # in increasing order.\n",
    "        # the last column has the prediction for\n",
    "        # next week\n",
    "        predictions = strat.dot(windows)\n",
    "\n",
    "        # these are the observations that we use to\n",
    "        # to test our predictions.\n",
    "        # note that the observation from column 0\n",
    "        # is not used since its prediction would come\n",
    "        # from a previous week's history.\n",
    "        observations = windows[0, 1:]\n",
    "\n",
    "        # calculate the absolute error of predictions\n",
    "        # here, we discard the rightmost prediction as\n",
    "        # this is the prediction for the future.\n",
    "        # if we knew the correct answer for that,\n",
    "        # we wouldn't need to predict it!\n",
    "        errs = np.abs(predictions[:, :-1] - observations).sum(axis=1)\n",
    "\n",
    "        best_strat = np.argmin(errs)\n",
    "        best_strats[agent, t] = best_strat\n",
    "\n",
    "        pred = strat[best_strat].dot(windows[:,-1])\n",
    "        pred_history[agent, t] = pred\n",
    "\n",
    "    hist[t] = (pred_history[:, t] < threshold).sum()\n",
    "    results[tr] = hist[t]\n",
    "\n",
    "\n",
    "plt.hist(results)\n",
    "\n",
    "print(f\"Average attendance: {results.mean()}\")\n",
    "print(f\"Variance of attendance: {results.var()}\")"
   ]
  },
  {
   "cell_type": "markdown",
   "id": "67662443-1f93-419a-936c-4c9df9d1ecb9",
   "metadata": {},
   "source": [
    "This all looks nice but what happens if the history contains arbitrary constants?\n",
    "\n",
    "We will need to understand this to predict what happens on the next timestep.\n",
    "\n",
    "Suppose our history looks like\n",
    "\n",
    "$$(C_4, C_3, C_2, C_1)$$\n",
    "\n",
    "Then\n",
    "\n",
    "$$\n",
    "\\hat{N}^{(i)}(4) = C_3 + (C_2 - C_3) a^{(i)} \\\\ \n",
    "\\hat{N}^{(i)}(3) = C_4 + (C_3 - C_4) a^{(i)}\n",
    "$$\n",
    " \n",
    "and we will pick the $a$ that minimizes\n",
    "$$\n",
    "|(C_3 - C_1) + (C_2 - C_3) a^{(i)}| + |(C_4 - C_2) + (C_3 - C_4) a^{(i)}|\n",
    "$$\n",
    "\n",
    "If we can work out a distribution for this $a$ then we can also consider longer memory windows (interactions between multiple a's)."
   ]
  },
  {
   "cell_type": "code",
   "execution_count": null,
   "id": "aa4c9b11-640b-40bf-b9ed-d7f48e1ebbdb",
   "metadata": {},
   "outputs": [],
   "source": []
  }
 ],
 "metadata": {
  "kernelspec": {
   "display_name": "Python 3",
   "language": "python",
   "name": "python3"
  },
  "language_info": {
   "codemirror_mode": {
    "name": "ipython",
    "version": 3
   },
   "file_extension": ".py",
   "mimetype": "text/x-python",
   "name": "python",
   "nbconvert_exporter": "python",
   "pygments_lexer": "ipython3",
   "version": "3.9.5"
  }
 },
 "nbformat": 4,
 "nbformat_minor": 5
}
